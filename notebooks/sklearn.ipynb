{
 "cells": [
  {
   "cell_type": "markdown",
   "metadata": {},
   "source": []
  },
  {
   "cell_type": "code",
   "execution_count": 1,
   "metadata": {},
   "outputs": [],
   "source": [
    "import pandas as pd\n",
    "import matplotlib.pyplot as plt\n",
    "import seaborn as sns\n",
    "from unidecode import unidecode\n",
    "\n",
    "%matplotlib notebook"
   ]
  },
  {
   "cell_type": "code",
   "execution_count": 2,
   "metadata": {},
   "outputs": [
    {
     "name": "stdout",
     "output_type": "stream",
     "text": [
      "<class 'pandas.core.frame.DataFrame'>\n",
      "RangeIndex: 28620 entries, 0 to 28619\n",
      "Data columns (total 46 columns):\n",
      "acepta_permuta           913 non-null float64\n",
      "altura_permitida         310 non-null float64\n",
      "ambientes                2880 non-null float64\n",
      "ambientes_extra          2880 non-null float64\n",
      "ano_de_construccion      16116 non-null float64\n",
      "aptos_por_piso           6362 non-null float64\n",
      "banos                    25044 non-null float64\n",
      "banos_extra              25044 non-null float64\n",
      "barrio                   26229 non-null object\n",
      "cantidad_de_pisos        6512 non-null float64\n",
      "casco                    21 non-null float64\n",
      "descripcion              28388 non-null object\n",
      "direccion                9195 non-null object\n",
      "disposicion              18954 non-null object\n",
      "distancia_al_mar         5164 non-null float64\n",
      "dormitorios              23034 non-null float64\n",
      "dormitorios_extra        23034 non-null float64\n",
      "estado                   25504 non-null object\n",
      "extra                    23097 non-null object\n",
      "financia                 4276 non-null float64\n",
      "garajes                  10838 non-null float64\n",
      "garajes_extra            10838 non-null float64\n",
      "gastos_comunes           12145 non-null float64\n",
      "gastos_comunes_moneda    0 non-null float64\n",
      "hectareas                55 non-null float64\n",
      "huespedes                1 non-null float64\n",
      "inmobiliaria             28476 non-null object\n",
      "longitud_frente          375 non-null float64\n",
      "m2_de_la_terraza         7173 non-null float64\n",
      "m2_del_terreno           8789 non-null float64\n",
      "m2_edificados            24253 non-null float64\n",
      "oficina                  3211 non-null float64\n",
      "penthouse                422 non-null float64\n",
      "piso                     9371 non-null float64\n",
      "plantas                  18912 non-null float64\n",
      "plantas_extra            18912 non-null float64\n",
      "precio                   26210 non-null float64\n",
      "precio_moneda            0 non-null float64\n",
      "referencia               26317 non-null object\n",
      "sobre                    8199 non-null object\n",
      "tipo_de_publicacion      26322 non-null object\n",
      "tipo_propiedad           26223 non-null object\n",
      "titulo_publicacion       28542 non-null object\n",
      "url                      28620 non-null object\n",
      "vista_al_mar             1472 non-null float64\n",
      "vivienda_social          1918 non-null float64\n",
      "dtypes: float64(33), object(13)\n",
      "memory usage: 10.0+ MB\n"
     ]
    }
   ],
   "source": [
    "df = pd.read_csv('../data/preprocessed/dataset.csv')\n",
    "df.info()"
   ]
  },
  {
   "cell_type": "markdown",
   "metadata": {},
   "source": [
    "# Usefull methods to explore features\n",
    "- df.description()\n",
    "- df.shape\n",
    "- df.count()\n",
    "- df.sum()\n",
    "- df.mean()\n",
    "- df.std()\n",
    "- df.corr()\n",
    "\n",
    "- `df['feature'].unique()`\n",
    "- `df.nunique()`\n",
    "- `df['feature'].isna()`\n",
    "\n"
   ]
  },
  {
   "cell_type": "code",
   "execution_count": 3,
   "metadata": {},
   "outputs": [
    {
     "data": {
      "text/html": [
       "<div>\n",
       "<style scoped>\n",
       "    .dataframe tbody tr th:only-of-type {\n",
       "        vertical-align: middle;\n",
       "    }\n",
       "\n",
       "    .dataframe tbody tr th {\n",
       "        vertical-align: top;\n",
       "    }\n",
       "\n",
       "    .dataframe thead th {\n",
       "        text-align: right;\n",
       "    }\n",
       "</style>\n",
       "<table border=\"1\" class=\"dataframe\">\n",
       "  <thead>\n",
       "    <tr style=\"text-align: right;\">\n",
       "      <th></th>\n",
       "      <th>14457</th>\n",
       "      <th>3880</th>\n",
       "      <th>14735</th>\n",
       "    </tr>\n",
       "  </thead>\n",
       "  <tbody>\n",
       "    <tr>\n",
       "      <th>acepta_permuta</th>\n",
       "      <td>NaN</td>\n",
       "      <td>NaN</td>\n",
       "      <td>NaN</td>\n",
       "    </tr>\n",
       "    <tr>\n",
       "      <th>altura_permitida</th>\n",
       "      <td>NaN</td>\n",
       "      <td>NaN</td>\n",
       "      <td>NaN</td>\n",
       "    </tr>\n",
       "    <tr>\n",
       "      <th>ambientes</th>\n",
       "      <td>NaN</td>\n",
       "      <td>NaN</td>\n",
       "      <td>NaN</td>\n",
       "    </tr>\n",
       "    <tr>\n",
       "      <th>ambientes_extra</th>\n",
       "      <td>NaN</td>\n",
       "      <td>NaN</td>\n",
       "      <td>NaN</td>\n",
       "    </tr>\n",
       "    <tr>\n",
       "      <th>ano_de_construccion</th>\n",
       "      <td>1959</td>\n",
       "      <td>2020</td>\n",
       "      <td>2016</td>\n",
       "    </tr>\n",
       "    <tr>\n",
       "      <th>aptos_por_piso</th>\n",
       "      <td>NaN</td>\n",
       "      <td>NaN</td>\n",
       "      <td>NaN</td>\n",
       "    </tr>\n",
       "    <tr>\n",
       "      <th>banos</th>\n",
       "      <td>1</td>\n",
       "      <td>1</td>\n",
       "      <td>1</td>\n",
       "    </tr>\n",
       "    <tr>\n",
       "      <th>banos_extra</th>\n",
       "      <td>0</td>\n",
       "      <td>0</td>\n",
       "      <td>0</td>\n",
       "    </tr>\n",
       "    <tr>\n",
       "      <th>barrio</th>\n",
       "      <td>Buceo</td>\n",
       "      <td>Puerto Buceo</td>\n",
       "      <td>Pocitos</td>\n",
       "    </tr>\n",
       "    <tr>\n",
       "      <th>cantidad_de_pisos</th>\n",
       "      <td>NaN</td>\n",
       "      <td>NaN</td>\n",
       "      <td>NaN</td>\n",
       "    </tr>\n",
       "    <tr>\n",
       "      <th>casco</th>\n",
       "      <td>NaN</td>\n",
       "      <td>NaN</td>\n",
       "      <td>NaN</td>\n",
       "    </tr>\n",
       "    <tr>\n",
       "      <th>descripcion</th>\n",
       "      <td>A 100 metros de 8 de Octubre! Zona con muchos ...</td>\n",
       "      <td>PARK SQUARE HERRERAOCTUBRE 2020.   Apartamento...</td>\n",
       "      <td>HERMOSO APARTAMENTO A ESTRENAR. DOBLE VENTILAC...</td>\n",
       "    </tr>\n",
       "    <tr>\n",
       "      <th>direccion</th>\n",
       "      <td>Joanicó y Br Batlle y Ordoñez</td>\n",
       "      <td>NaN</td>\n",
       "      <td>NaN</td>\n",
       "    </tr>\n",
       "    <tr>\n",
       "      <th>disposicion</th>\n",
       "      <td>NaN</td>\n",
       "      <td>Al frente</td>\n",
       "      <td>Al frente</td>\n",
       "    </tr>\n",
       "    <tr>\n",
       "      <th>distancia_al_mar</th>\n",
       "      <td>NaN</td>\n",
       "      <td>NaN</td>\n",
       "      <td>NaN</td>\n",
       "    </tr>\n",
       "    <tr>\n",
       "      <th>dormitorios</th>\n",
       "      <td>2</td>\n",
       "      <td>0</td>\n",
       "      <td>1</td>\n",
       "    </tr>\n",
       "    <tr>\n",
       "      <th>dormitorios_extra</th>\n",
       "      <td>0</td>\n",
       "      <td>0</td>\n",
       "      <td>0</td>\n",
       "    </tr>\n",
       "    <tr>\n",
       "      <th>estado</th>\n",
       "      <td>Buen estado</td>\n",
       "      <td>Buen estado</td>\n",
       "      <td>Excelente estado</td>\n",
       "    </tr>\n",
       "    <tr>\n",
       "      <th>extra</th>\n",
       "      <td>NaN</td>\n",
       "      <td>Terraza,Lavadero,Aire Acondicionado</td>\n",
       "      <td>Terraza,Se aceptan mascotas,Lavadero,Calefacci...</td>\n",
       "    </tr>\n",
       "    <tr>\n",
       "      <th>financia</th>\n",
       "      <td>NaN</td>\n",
       "      <td>NaN</td>\n",
       "      <td>NaN</td>\n",
       "    </tr>\n",
       "    <tr>\n",
       "      <th>garajes</th>\n",
       "      <td>NaN</td>\n",
       "      <td>NaN</td>\n",
       "      <td>NaN</td>\n",
       "    </tr>\n",
       "    <tr>\n",
       "      <th>garajes_extra</th>\n",
       "      <td>NaN</td>\n",
       "      <td>NaN</td>\n",
       "      <td>NaN</td>\n",
       "    </tr>\n",
       "    <tr>\n",
       "      <th>gastos_comunes</th>\n",
       "      <td>1700</td>\n",
       "      <td>NaN</td>\n",
       "      <td>3319</td>\n",
       "    </tr>\n",
       "    <tr>\n",
       "      <th>gastos_comunes_moneda</th>\n",
       "      <td>NaN</td>\n",
       "      <td>NaN</td>\n",
       "      <td>NaN</td>\n",
       "    </tr>\n",
       "    <tr>\n",
       "      <th>hectareas</th>\n",
       "      <td>NaN</td>\n",
       "      <td>NaN</td>\n",
       "      <td>NaN</td>\n",
       "    </tr>\n",
       "    <tr>\n",
       "      <th>huespedes</th>\n",
       "      <td>NaN</td>\n",
       "      <td>NaN</td>\n",
       "      <td>NaN</td>\n",
       "    </tr>\n",
       "    <tr>\n",
       "      <th>inmobiliaria</th>\n",
       "      <td>Las Torres</td>\n",
       "      <td>FOTI Pocitos</td>\n",
       "      <td>Ciudad Inmobiliaria</td>\n",
       "    </tr>\n",
       "    <tr>\n",
       "      <th>longitud_frente</th>\n",
       "      <td>NaN</td>\n",
       "      <td>NaN</td>\n",
       "      <td>NaN</td>\n",
       "    </tr>\n",
       "    <tr>\n",
       "      <th>m2_de_la_terraza</th>\n",
       "      <td>NaN</td>\n",
       "      <td>NaN</td>\n",
       "      <td>NaN</td>\n",
       "    </tr>\n",
       "    <tr>\n",
       "      <th>m2_del_terreno</th>\n",
       "      <td>NaN</td>\n",
       "      <td>57</td>\n",
       "      <td>58</td>\n",
       "    </tr>\n",
       "    <tr>\n",
       "      <th>m2_edificados</th>\n",
       "      <td>46</td>\n",
       "      <td>57</td>\n",
       "      <td>58</td>\n",
       "    </tr>\n",
       "    <tr>\n",
       "      <th>oficina</th>\n",
       "      <td>NaN</td>\n",
       "      <td>NaN</td>\n",
       "      <td>NaN</td>\n",
       "    </tr>\n",
       "    <tr>\n",
       "      <th>penthouse</th>\n",
       "      <td>NaN</td>\n",
       "      <td>NaN</td>\n",
       "      <td>NaN</td>\n",
       "    </tr>\n",
       "    <tr>\n",
       "      <th>piso</th>\n",
       "      <td>NaN</td>\n",
       "      <td>NaN</td>\n",
       "      <td>NaN</td>\n",
       "    </tr>\n",
       "    <tr>\n",
       "      <th>plantas</th>\n",
       "      <td>NaN</td>\n",
       "      <td>NaN</td>\n",
       "      <td>NaN</td>\n",
       "    </tr>\n",
       "    <tr>\n",
       "      <th>plantas_extra</th>\n",
       "      <td>NaN</td>\n",
       "      <td>NaN</td>\n",
       "      <td>NaN</td>\n",
       "    </tr>\n",
       "    <tr>\n",
       "      <th>precio</th>\n",
       "      <td>120000</td>\n",
       "      <td>155000</td>\n",
       "      <td>149000</td>\n",
       "    </tr>\n",
       "    <tr>\n",
       "      <th>precio_moneda</th>\n",
       "      <td>NaN</td>\n",
       "      <td>NaN</td>\n",
       "      <td>NaN</td>\n",
       "    </tr>\n",
       "    <tr>\n",
       "      <th>referencia</th>\n",
       "      <td>79D8F</td>\n",
       "      <td>57428</td>\n",
       "      <td>F10C2</td>\n",
       "    </tr>\n",
       "    <tr>\n",
       "      <th>sobre</th>\n",
       "      <td>NaN</td>\n",
       "      <td>NaN</td>\n",
       "      <td>NaN</td>\n",
       "    </tr>\n",
       "    <tr>\n",
       "      <th>tipo_de_publicacion</th>\n",
       "      <td>Venta</td>\n",
       "      <td>Venta</td>\n",
       "      <td>Venta</td>\n",
       "    </tr>\n",
       "    <tr>\n",
       "      <th>tipo_propiedad</th>\n",
       "      <td>Apartamentos</td>\n",
       "      <td>Apartamentos</td>\n",
       "      <td>Apartamentos</td>\n",
       "    </tr>\n",
       "    <tr>\n",
       "      <th>titulo_publicacion</th>\n",
       "      <td>Luminoso! 1er Piso Por Esc. Cocina Y Baño Reci...</td>\n",
       "      <td>L.a. De Herrera: Lanzamiento  2 En 1 , Pasos P...</td>\n",
       "      <td>Departamento - Pocitos</td>\n",
       "    </tr>\n",
       "    <tr>\n",
       "      <th>url</th>\n",
       "      <td>https://www.infocasas.com.uy/luminoso-1er-piso...</td>\n",
       "      <td>https://www.infocasas.com.uy/la-de-herrera-lan...</td>\n",
       "      <td>https://www.infocasas.com.uy/departamento-poci...</td>\n",
       "    </tr>\n",
       "    <tr>\n",
       "      <th>vista_al_mar</th>\n",
       "      <td>NaN</td>\n",
       "      <td>NaN</td>\n",
       "      <td>NaN</td>\n",
       "    </tr>\n",
       "    <tr>\n",
       "      <th>vivienda_social</th>\n",
       "      <td>NaN</td>\n",
       "      <td>NaN</td>\n",
       "      <td>NaN</td>\n",
       "    </tr>\n",
       "  </tbody>\n",
       "</table>\n",
       "</div>"
      ],
      "text/plain": [
       "                                                                   14457  \\\n",
       "acepta_permuta                                                       NaN   \n",
       "altura_permitida                                                     NaN   \n",
       "ambientes                                                            NaN   \n",
       "ambientes_extra                                                      NaN   \n",
       "ano_de_construccion                                                 1959   \n",
       "aptos_por_piso                                                       NaN   \n",
       "banos                                                                  1   \n",
       "banos_extra                                                            0   \n",
       "barrio                                                             Buceo   \n",
       "cantidad_de_pisos                                                    NaN   \n",
       "casco                                                                NaN   \n",
       "descripcion            A 100 metros de 8 de Octubre! Zona con muchos ...   \n",
       "direccion                                  Joanicó y Br Batlle y Ordoñez   \n",
       "disposicion                                                          NaN   \n",
       "distancia_al_mar                                                     NaN   \n",
       "dormitorios                                                            2   \n",
       "dormitorios_extra                                                      0   \n",
       "estado                                                       Buen estado   \n",
       "extra                                                                NaN   \n",
       "financia                                                             NaN   \n",
       "garajes                                                              NaN   \n",
       "garajes_extra                                                        NaN   \n",
       "gastos_comunes                                                      1700   \n",
       "gastos_comunes_moneda                                                NaN   \n",
       "hectareas                                                            NaN   \n",
       "huespedes                                                            NaN   \n",
       "inmobiliaria                                                  Las Torres   \n",
       "longitud_frente                                                      NaN   \n",
       "m2_de_la_terraza                                                     NaN   \n",
       "m2_del_terreno                                                       NaN   \n",
       "m2_edificados                                                         46   \n",
       "oficina                                                              NaN   \n",
       "penthouse                                                            NaN   \n",
       "piso                                                                 NaN   \n",
       "plantas                                                              NaN   \n",
       "plantas_extra                                                        NaN   \n",
       "precio                                                            120000   \n",
       "precio_moneda                                                        NaN   \n",
       "referencia                                                         79D8F   \n",
       "sobre                                                                NaN   \n",
       "tipo_de_publicacion                                                Venta   \n",
       "tipo_propiedad                                              Apartamentos   \n",
       "titulo_publicacion     Luminoso! 1er Piso Por Esc. Cocina Y Baño Reci...   \n",
       "url                    https://www.infocasas.com.uy/luminoso-1er-piso...   \n",
       "vista_al_mar                                                         NaN   \n",
       "vivienda_social                                                      NaN   \n",
       "\n",
       "                                                                   3880   \\\n",
       "acepta_permuta                                                       NaN   \n",
       "altura_permitida                                                     NaN   \n",
       "ambientes                                                            NaN   \n",
       "ambientes_extra                                                      NaN   \n",
       "ano_de_construccion                                                 2020   \n",
       "aptos_por_piso                                                       NaN   \n",
       "banos                                                                  1   \n",
       "banos_extra                                                            0   \n",
       "barrio                                                      Puerto Buceo   \n",
       "cantidad_de_pisos                                                    NaN   \n",
       "casco                                                                NaN   \n",
       "descripcion            PARK SQUARE HERRERAOCTUBRE 2020.   Apartamento...   \n",
       "direccion                                                            NaN   \n",
       "disposicion                                                    Al frente   \n",
       "distancia_al_mar                                                     NaN   \n",
       "dormitorios                                                            0   \n",
       "dormitorios_extra                                                      0   \n",
       "estado                                                       Buen estado   \n",
       "extra                                Terraza,Lavadero,Aire Acondicionado   \n",
       "financia                                                             NaN   \n",
       "garajes                                                              NaN   \n",
       "garajes_extra                                                        NaN   \n",
       "gastos_comunes                                                       NaN   \n",
       "gastos_comunes_moneda                                                NaN   \n",
       "hectareas                                                            NaN   \n",
       "huespedes                                                            NaN   \n",
       "inmobiliaria                                                FOTI Pocitos   \n",
       "longitud_frente                                                      NaN   \n",
       "m2_de_la_terraza                                                     NaN   \n",
       "m2_del_terreno                                                        57   \n",
       "m2_edificados                                                         57   \n",
       "oficina                                                              NaN   \n",
       "penthouse                                                            NaN   \n",
       "piso                                                                 NaN   \n",
       "plantas                                                              NaN   \n",
       "plantas_extra                                                        NaN   \n",
       "precio                                                            155000   \n",
       "precio_moneda                                                        NaN   \n",
       "referencia                                                         57428   \n",
       "sobre                                                                NaN   \n",
       "tipo_de_publicacion                                                Venta   \n",
       "tipo_propiedad                                              Apartamentos   \n",
       "titulo_publicacion     L.a. De Herrera: Lanzamiento  2 En 1 , Pasos P...   \n",
       "url                    https://www.infocasas.com.uy/la-de-herrera-lan...   \n",
       "vista_al_mar                                                         NaN   \n",
       "vivienda_social                                                      NaN   \n",
       "\n",
       "                                                                   14735  \n",
       "acepta_permuta                                                       NaN  \n",
       "altura_permitida                                                     NaN  \n",
       "ambientes                                                            NaN  \n",
       "ambientes_extra                                                      NaN  \n",
       "ano_de_construccion                                                 2016  \n",
       "aptos_por_piso                                                       NaN  \n",
       "banos                                                                  1  \n",
       "banos_extra                                                            0  \n",
       "barrio                                                           Pocitos  \n",
       "cantidad_de_pisos                                                    NaN  \n",
       "casco                                                                NaN  \n",
       "descripcion            HERMOSO APARTAMENTO A ESTRENAR. DOBLE VENTILAC...  \n",
       "direccion                                                            NaN  \n",
       "disposicion                                                    Al frente  \n",
       "distancia_al_mar                                                     NaN  \n",
       "dormitorios                                                            1  \n",
       "dormitorios_extra                                                      0  \n",
       "estado                                                  Excelente estado  \n",
       "extra                  Terraza,Se aceptan mascotas,Lavadero,Calefacci...  \n",
       "financia                                                             NaN  \n",
       "garajes                                                              NaN  \n",
       "garajes_extra                                                        NaN  \n",
       "gastos_comunes                                                      3319  \n",
       "gastos_comunes_moneda                                                NaN  \n",
       "hectareas                                                            NaN  \n",
       "huespedes                                                            NaN  \n",
       "inmobiliaria                                         Ciudad Inmobiliaria  \n",
       "longitud_frente                                                      NaN  \n",
       "m2_de_la_terraza                                                     NaN  \n",
       "m2_del_terreno                                                        58  \n",
       "m2_edificados                                                         58  \n",
       "oficina                                                              NaN  \n",
       "penthouse                                                            NaN  \n",
       "piso                                                                 NaN  \n",
       "plantas                                                              NaN  \n",
       "plantas_extra                                                        NaN  \n",
       "precio                                                            149000  \n",
       "precio_moneda                                                        NaN  \n",
       "referencia                                                         F10C2  \n",
       "sobre                                                                NaN  \n",
       "tipo_de_publicacion                                                Venta  \n",
       "tipo_propiedad                                              Apartamentos  \n",
       "titulo_publicacion                                Departamento - Pocitos  \n",
       "url                    https://www.infocasas.com.uy/departamento-poci...  \n",
       "vista_al_mar                                                         NaN  \n",
       "vivienda_social                                                      NaN  "
      ]
     },
     "execution_count": 3,
     "metadata": {},
     "output_type": "execute_result"
    }
   ],
   "source": [
    "df.sample(3).transpose()"
   ]
  },
  {
   "cell_type": "markdown",
   "metadata": {},
   "source": [
    "## Select feature for analysis\n",
    "Check dataset [documentation](https://github.com/creyesp/houses-project/blob/add-binder-configs/data/dataset_description.md) to choice the most interesting feature to answer our questions."
   ]
  },
  {
   "cell_type": "code",
   "execution_count": 4,
   "metadata": {},
   "outputs": [],
   "source": [
    "columns_to_analyze = [\n",
    "    'ano_de_construccion', 'aptos_por_piso', 'banos', 'banos_extra', 'cantidad_de_pisos',\n",
    "    'descripcion', 'disposicion', 'distancia_al_mar', 'dormitorios', 'dormitorios_extra',\n",
    "    'estado', 'extra', 'garajes', 'garajes_extra', 'gastos_comunes', 'gastos_comunes_moneda',\n",
    "    'tipo_de_publicacion', 'm2_de_la_terraza', 'm2_del_terreno', 'm2_edificados', 'oficina', 'penthouse',\n",
    "    'piso', 'plantas', 'plantas_extra', 'precio', 'precio_moneda', 'sobre', 'tipo_propiedad',\n",
    "    'vista_al_mar', 'vivienda_social', 'barrio', \n",
    "]"
   ]
  },
  {
   "cell_type": "code",
   "execution_count": 14,
   "metadata": {},
   "outputs": [
    {
     "name": "stdout",
     "output_type": "stream",
     "text": [
      "Numerical columns: ['acepta_permuta', 'altura_permitida', 'ambientes', 'ambientes_extra', 'ano_de_construccion', 'aptos_por_piso', 'banos', 'banos_extra', 'cantidad_de_pisos', 'casco', 'distancia_al_mar', 'dormitorios', 'dormitorios_extra', 'financia', 'garajes', 'garajes_extra', 'gastos_comunes', 'gastos_comunes_moneda', 'hectareas', 'huespedes', 'longitud_frente', 'm2_de_la_terraza', 'm2_del_terreno', 'm2_edificados', 'oficina', 'penthouse', 'piso', 'plantas', 'plantas_extra', 'precio', 'precio_moneda', 'vista_al_mar', 'vivienda_social']\n",
      "\n",
      "Caterorial columns: ['descripcion', 'disposicion', 'estado', 'extra', 'tipo_de_publicacion', 'sobre', 'tipo_propiedad', 'barrio']\n"
     ]
    }
   ],
   "source": [
    "df_obj = df[columns_to_analyze].select_dtypes(include='object')\n",
    "df_num = df.select_dtypes(exclude='object')\n",
    "\n",
    "print('Numerical columns: {}\\n'.format(df_num.columns.tolist()))\n",
    "print('Caterorial columns: {}'.format(df_obj.columns.tolist()))"
   ]
  },
  {
   "cell_type": "code",
   "execution_count": 7,
   "metadata": {},
   "outputs": [],
   "source": [
    "df_obj = (df_obj.fillna('')\n",
    "          .apply(lambda x: x.str.lower().apply(lambda y: unidecode(y)))\n",
    "         )\n",
    "\n",
    "df_raw = pd.concat([df_num, df_obj], axis=1)"
   ]
  },
  {
   "cell_type": "code",
   "execution_count": null,
   "metadata": {},
   "outputs": [],
   "source": []
  },
  {
   "cell_type": "code",
   "execution_count": null,
   "metadata": {},
   "outputs": [],
   "source": [
    "mask = (\n",
    "    df_raw['tipo_propiedad'].isin(['apartamentos', 'casas'])\n",
    "    & (df_raw['oficina'] != 1)\n",
    "    & (df_raw['penthouse'] != 1) \n",
    "    & (df_raw['penthouse'] != 1) \n",
    ")\n",
    "df_raw = df_raw[mask]\n",
    "df_raw.columns"
   ]
  },
  {
   "cell_type": "code",
   "execution_count": null,
   "metadata": {},
   "outputs": [],
   "source": [
    "columns = ['ano_de_construccion', 'banos', 'disposicion', 'dormitorios',\n",
    "           'estado', 'garajes', 'gastos_comunes',\n",
    "           'm2_de_la_terraza', 'm2_del_terreno', 'm2_edificados',\n",
    "           'price', 'tipo_propiedad', 'vivienda_social', 'zona']"
   ]
  },
  {
   "cell_type": "code",
   "execution_count": null,
   "metadata": {},
   "outputs": [],
   "source": [
    "df_selected = df_raw[columns].reset_index(drop=True)\n",
    "fill_zero_col = ['m2_de_la_terraza', 'vivienda_social', 'gastos_comunes', 'garajes']\n",
    "df_selected.loc[:, fill_zero_col] = df_selected.loc[:, fill_zero_col].fillna(0)\n",
    "mask_m2_terreno = df_selected['m2_del_terreno'].isna()\n",
    "df_selected.loc[mask_m2_terreno, 'm2_del_terreno'] = df_selected.loc[mask_m2_terreno, 'm2_edificados']\n",
    "(\n",
    "    df_selected\n",
    "    .isna()\n",
    "    .sum()\n",
    ")"
   ]
  },
  {
   "cell_type": "code",
   "execution_count": null,
   "metadata": {},
   "outputs": [],
   "source": [
    "df_selected.dropna(inplace=True)"
   ]
  },
  {
   "cell_type": "code",
   "execution_count": null,
   "metadata": {},
   "outputs": [],
   "source": [
    "df_num_selected = df_selected.select_dtypes(exclude='object')\n",
    "df_obj_selected = df_selected.select_dtypes(include='object')"
   ]
  },
  {
   "cell_type": "raw",
   "metadata": {},
   "source": [
    "import pandas_profiling\n",
    "report = pandas_profiling.ProfileReport(df_num_selected)\n",
    "report.to_file('../report/dataset/report_numeric.html')"
   ]
  },
  {
   "cell_type": "code",
   "execution_count": null,
   "metadata": {},
   "outputs": [],
   "source": [
    "df_obj_selected.sample(5)"
   ]
  },
  {
   "cell_type": "code",
   "execution_count": null,
   "metadata": {},
   "outputs": [],
   "source": [
    "zone_codes = pd.get_dummies(df_obj_selected['zona'])\n",
    "property_type = pd.get_dummies(df_obj_selected['tipo_propiedad'])\n",
    "property_state = pd.get_dummies(df_obj_selected['estado'])"
   ]
  },
  {
   "cell_type": "code",
   "execution_count": null,
   "metadata": {},
   "outputs": [],
   "source": [
    "zone_codes.columns = ['ZN_{}'.format(k.replace(' ', '_')) for k in zone_codes.columns]\n",
    "property_state.columns = ['ST_{}'.format(k.replace(' ', '_')) for k in property_state.columns]\n"
   ]
  },
  {
   "cell_type": "code",
   "execution_count": null,
   "metadata": {},
   "outputs": [],
   "source": [
    "features_selected = pd.concat([df_num_selected, zone_codes, property_type, property_state], axis=1)\n",
    "features_selected.to_csv('../data/ready/dataset_houses.csv', index=False)"
   ]
  },
  {
   "cell_type": "code",
   "execution_count": null,
   "metadata": {},
   "outputs": [],
   "source": [
    "price =  features_selected['price']\n",
    "features = features_selected.drop(columns=['price'])\n",
    "\n"
   ]
  },
  {
   "cell_type": "markdown",
   "metadata": {},
   "source": [
    "# Modeling"
   ]
  },
  {
   "cell_type": "code",
   "execution_count": null,
   "metadata": {},
   "outputs": [],
   "source": [
    "from sklearn.preprocessing import MinMaxScaler\n",
    "from sklearn.preprocessing import MaxAbsScaler\n",
    "from sklearn.preprocessing import StandardScaler\n",
    "from sklearn.preprocessing import RobustScaler\n",
    "from sklearn.preprocessing import QuantileTransformer\n",
    "from sklearn.preprocessing import PowerTransformer\n",
    "from sklearn.preprocessing import Normalizer"
   ]
  },
  {
   "cell_type": "code",
   "execution_count": null,
   "metadata": {},
   "outputs": [],
   "source": [
    "from sklearn.decomposition import PCA\n",
    "from sklearn.model_selection import train_test_split\n",
    "from sklearn.linear_model import LinearRegression\n",
    "from sklearn.tree import DecisionTreeRegressor\n",
    "from sklearn.discriminant_analysis import LinearDiscriminantAnalysis\n",
    "from sklearn.manifold import TSNE\n",
    "from sklearn.metrics import mean_squared_error, mean_absolute_error, r2_score"
   ]
  },
  {
   "cell_type": "code",
   "execution_count": null,
   "metadata": {},
   "outputs": [],
   "source": [
    "# scaler =  RobustScaler(quantile_range=(25, 75))\n",
    "scaler = QuantileTransformer(output_distribution='normal') \n",
    "# scaler = PowerTransformer(method='box-cox')  # Non Linear | Strictly positive data\n",
    "# scaler = PowerTransformer(method='yeo-johnson')  # Non Linear \n",
    "\n"
   ]
  },
  {
   "cell_type": "code",
   "execution_count": null,
   "metadata": {},
   "outputs": [],
   "source": [
    "train_features, test_features = train_test_split(features, test_size=0.2, random_state=14)\n",
    "train_price, test_price = train_test_split(price, test_size=0.2, random_state=14)\n",
    "\n",
    "scaler.fit(train_features)\n",
    "sca_train = scaler.transform(train_features)\n",
    "sca_test = scaler.transform(train_features)"
   ]
  },
  {
   "cell_type": "code",
   "execution_count": null,
   "metadata": {},
   "outputs": [],
   "source": [
    "pca = PCA(n_components=.95, )\n",
    "pca.fit(sca_train)\n",
    "arr_train = pca.transform(sca_train)\n",
    "arr_test = pca.transform(sca_test)"
   ]
  },
  {
   "cell_type": "code",
   "execution_count": null,
   "metadata": {},
   "outputs": [],
   "source": [
    "pca.explained_variance_ratio_"
   ]
  },
  {
   "cell_type": "code",
   "execution_count": null,
   "metadata": {},
   "outputs": [],
   "source": [
    "sns.pairplot(pd.DataFrame(arr[:, 0:4]))"
   ]
  },
  {
   "cell_type": "code",
   "execution_count": null,
   "metadata": {},
   "outputs": [],
   "source": [
    "# color = features.loc[features.index, 'zona'].astype('category').cat.codes\n",
    "color = train_features.iloc[:, 1]\n",
    "f, ax = plt.subplots(2,2)\n",
    "ax[0, 0].scatter(arr[:,0], arr[:,1], c=color)\n",
    "ax[0, 1].scatter(arr[:,1], arr[:,2], c=color)\n",
    "ax[1, 0].scatter(arr[:,0], arr[:,2], c=color)\n",
    "ax[1, 1].scatter(arr[:,3], arr[:,5], c=color)"
   ]
  },
  {
   "cell_type": "code",
   "execution_count": null,
   "metadata": {},
   "outputs": [],
   "source": [
    "lda = LinearDiscriminantAnalysis(n_components=3).fit_transform(scaler.fit_transform(train_features),\n",
    "                                                              train_price)"
   ]
  },
  {
   "cell_type": "code",
   "execution_count": null,
   "metadata": {},
   "outputs": [],
   "source": [
    "color = train_features.iloc[:, 1]\n",
    "\n",
    "f, ax = plt.subplots(2, 2)\n",
    "ax[0, 0].scatter(lda[:, 0], lda[:, 1], c=color)\n",
    "ax[0, 1].scatter(lda[:, 0], lda[:, 2], c=color)\n",
    "ax[1, 0].scatter(lda[:, 1], lda[:, 2], c=color)\n"
   ]
  },
  {
   "cell_type": "code",
   "execution_count": null,
   "metadata": {},
   "outputs": [],
   "source": []
  },
  {
   "cell_type": "code",
   "execution_count": null,
   "metadata": {},
   "outputs": [],
   "source": [
    "def plot_predict_result(test_price, predict_price):\n",
    "    f, ax = plt.subplots(2)\n",
    "    ax[0].scatter(test_price, predict_price)\n",
    "    ax[0].plot([0, 1600000], [0, 1600000], c='r')\n",
    "    ax[1].hist(test_price - predict_price, bins=100)\n",
    "    return f, ax\n",
    "\n",
    "def get_scores(test_train, test_predict):\n",
    "    mse = mean_squared_error(test_train, test_predict)\n",
    "    mea = mean_absolute_error(test_train, test_predict)\n",
    "    r2 = r2_score(test_train, test_predict)\n",
    "    return 'mse={}, mea={}, r2={}'.format(mse, mea, r2)"
   ]
  },
  {
   "cell_type": "markdown",
   "metadata": {},
   "source": [
    "# Linear Model"
   ]
  },
  {
   "cell_type": "code",
   "execution_count": null,
   "metadata": {},
   "outputs": [],
   "source": [
    "model = LinearRegression(fit_intercept=True)\n",
    "model.fit(arr_train, train_price)\n",
    "#model.coef_, model.intercept_, model.rank_"
   ]
  },
  {
   "cell_type": "code",
   "execution_count": null,
   "metadata": {},
   "outputs": [],
   "source": [
    " "
   ]
  },
  {
   "cell_type": "code",
   "execution_count": null,
   "metadata": {},
   "outputs": [],
   "source": [
    "predict_price = model.predict(arr_test)\n",
    "get_scores(test_price, predict_price)"
   ]
  },
  {
   "cell_type": "code",
   "execution_count": null,
   "metadata": {},
   "outputs": [],
   "source": [
    "f, ax = plot_predict_result(test_price, predict_price)\n",
    "ax[0].set(ylim=[-10000000000, 10000000000])"
   ]
  },
  {
   "cell_type": "markdown",
   "metadata": {},
   "source": [
    "# Regression Tree"
   ]
  },
  {
   "cell_type": "code",
   "execution_count": null,
   "metadata": {},
   "outputs": [],
   "source": [
    "cls_tree = DecisionTreeRegressor()\n",
    "cls_tree.fit(train_features, train_price)\n"
   ]
  },
  {
   "cell_type": "code",
   "execution_count": null,
   "metadata": {},
   "outputs": [],
   "source": [
    "predic_price_tree = cls_tree.predict(test_features)\n",
    "get_scores(predic_price_tree, predict_price)"
   ]
  },
  {
   "cell_type": "code",
   "execution_count": null,
   "metadata": {},
   "outputs": [],
   "source": [
    "plot_predict_result(test_price, predic_price_tree)"
   ]
  },
  {
   "cell_type": "code",
   "execution_count": null,
   "metadata": {},
   "outputs": [],
   "source": [
    "f, ax = plt.subplots()\n",
    "(pd\n",
    " .Series(cls_tree.feature_importances_, index=train_features.columns)\n",
    " .sort_values()[-10:]\n",
    " .plot(ax=ax, kind='barh')\n",
    ")"
   ]
  },
  {
   "cell_type": "code",
   "execution_count": null,
   "metadata": {},
   "outputs": [],
   "source": []
  },
  {
   "cell_type": "code",
   "execution_count": null,
   "metadata": {},
   "outputs": [],
   "source": [
    "df_raw[df_raw['gastos_comunes']>1000000]\n",
    "#df_selected['garajes'].unique()"
   ]
  },
  {
   "cell_type": "code",
   "execution_count": null,
   "metadata": {},
   "outputs": [],
   "source": [
    "df_raw.loc[18045, 'url']"
   ]
  },
  {
   "cell_type": "code",
   "execution_count": null,
   "metadata": {},
   "outputs": [],
   "source": [
    "df_selected.describe()"
   ]
  },
  {
   "cell_type": "code",
   "execution_count": null,
   "metadata": {},
   "outputs": [],
   "source": [
    "#df_selected['m2_del_terreno'] > 1\n",
    "#df_selected['gastos_comunes'] < 1e5\n",
    "#df_selected['m2_edificados'] > 20\n",
    "\n",
    "(\n",
    "    df_selected.query('m2_del_terreno > 2')\n",
    "    .query('gastos_comunes < 1e5')\n",
    "    .query('m2_edificados > 20')\n",
    "    #.pipe(lambda x: x.describe().transpose())\n",
    "    .to_csv('../data/ready/num_dataset_houses.csv', index=False)\n",
    ")\n"
   ]
  },
  {
   "cell_type": "code",
   "execution_count": null,
   "metadata": {},
   "outputs": [],
   "source": []
  }
 ],
 "metadata": {
  "hide_input": false,
  "kernelspec": {
   "display_name": "Python 3",
   "language": "python",
   "name": "python3"
  },
  "language_info": {
   "codemirror_mode": {
    "name": "ipython",
    "version": 3
   },
   "file_extension": ".py",
   "mimetype": "text/x-python",
   "name": "python",
   "nbconvert_exporter": "python",
   "pygments_lexer": "ipython3",
   "version": "3.7.1"
  },
  "toc": {
   "base_numbering": 1,
   "nav_menu": {},
   "number_sections": true,
   "sideBar": true,
   "skip_h1_title": false,
   "title_cell": "Table of Contents",
   "title_sidebar": "Contents",
   "toc_cell": false,
   "toc_position": {},
   "toc_section_display": true,
   "toc_window_display": false
  },
  "varInspector": {
   "cols": {
    "lenName": 16,
    "lenType": 16,
    "lenVar": 40
   },
   "kernels_config": {
    "python": {
     "delete_cmd_postfix": "",
     "delete_cmd_prefix": "del ",
     "library": "var_list.py",
     "varRefreshCmd": "print(var_dic_list())"
    },
    "r": {
     "delete_cmd_postfix": ") ",
     "delete_cmd_prefix": "rm(",
     "library": "var_list.r",
     "varRefreshCmd": "cat(var_dic_list()) "
    }
   },
   "types_to_exclude": [
    "module",
    "function",
    "builtin_function_or_method",
    "instance",
    "_Feature"
   ],
   "window_display": false
  }
 },
 "nbformat": 4,
 "nbformat_minor": 2
}
