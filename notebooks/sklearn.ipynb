{
 "cells": [
  {
   "cell_type": "code",
   "execution_count": 2,
   "metadata": {},
   "outputs": [],
   "source": [
    "import pandas as pd\n",
    "import matplotlib.pyplot as plt\n",
    "import seaborn as sns\n",
    "from unidecode import unidecode\n",
    "\n",
    "%matplotlib notebook"
   ]
  },
  {
   "cell_type": "markdown",
   "metadata": {},
   "source": [
    "- acepta_permuta : (bool) abierto a la posibilidad de permutar por otro bien u objeto\n",
    "- agency : Inmobiliaria\n",
    "- altura_permitida : Condiciones de la propiedad para contruir edificios, segun norma local.\n",
    "- ambientes : Nunero de ambientes de la propiedad asociados a uso de oficina o local comercial.\n",
    "- ambientes_extra : (bool) Si tiene 7 o mas abientes \n",
    "- ano_de_construccion : Año de  cosntrucción de la propiedad. \n",
    "- aptos_por_piso : \n",
    "- banos : \n",
    "- banos_extra : \n",
    "- cantidad_de_pisos : \n",
    "- casco : \n",
    "- description : \n",
    "- direccion : \n",
    "- disposicion : \n",
    "- distancia_al_mar : \n",
    "- dormitorios : \n",
    "- dormitorios_extra : \n",
    "- estado : \n",
    "- extra : \n",
    "- financia : \n",
    "- garajes : \n",
    "- garajes_extra : \n",
    "- gastos_comunes : \n",
    "- gastos_comunes_cur : \n",
    "- hectareas : \n",
    "- huespedes : \n",
    "- kind : \n",
    "- longitud_frente : \n",
    "- m2_de_la_terraza : \n",
    "- m2_del_terreno : \n",
    "- m2_edificados : \n",
    "- oficina : \n",
    "- penthouse : \n",
    "- piso : \n",
    "- plantas : \n",
    "- plantas_extra : \n",
    "- price : \n",
    "- price_cur : \n",
    "- referencia : \n",
    "- sobre : \n",
    "- tipo_propiedad : \n",
    "- title : \n",
    "- url : \n",
    "- vista_al_mar : \n",
    "- vivienda_social : \n",
    "- zona : - "
   ]
  },
  {
   "cell_type": "code",
   "execution_count": 3,
   "metadata": {},
   "outputs": [],
   "source": [
    "df = pd.read_csv('../data/preprocessed/details_home_for_sale_dataset_2019-07-25.csv')\n"
   ]
  },
  {
   "cell_type": "code",
   "execution_count": 42,
   "metadata": {},
   "outputs": [],
   "source": [
    "df_obj = (df\n",
    "          .select_dtypes(include='object')\n",
    "          .fillna('')\n",
    "          .apply(lambda x: x.str.lower().apply(lambda y: unidecode(y)))\n",
    "         )\n",
    "df_num = df.select_dtypes(exclude='object')\n",
    "df_raw = pd.concat([df_num, df_obj], axis=1)"
   ]
  },
  {
   "cell_type": "code",
   "execution_count": 44,
   "metadata": {},
   "outputs": [],
   "source": [
    "# df_raw['tipo_propiedad'].unique()"
   ]
  },
  {
   "cell_type": "code",
   "execution_count": 10,
   "metadata": {},
   "outputs": [
    {
     "data": {
      "text/plain": [
       "Index(['acepta_permuta', 'altura_permitida', 'ambientes', 'ambientes_extra',\n",
       "       'ano_de_construccion', 'aptos_por_piso', 'banos', 'banos_extra',\n",
       "       'cantidad_de_pisos', 'casco', 'distancia_al_mar', 'dormitorios',\n",
       "       'dormitorios_extra', 'financia', 'garajes', 'garajes_extra',\n",
       "       'gastos_comunes', 'gastos_comunes_cur', 'hectareas', 'huespedes',\n",
       "       'longitud_frente', 'm2_de_la_terraza', 'm2_del_terreno',\n",
       "       'm2_edificados', 'oficina', 'penthouse', 'piso', 'plantas',\n",
       "       'plantas_extra', 'price', 'price_cur', 'vista_al_mar',\n",
       "       'vivienda_social', 'agency', 'description', 'direccion', 'disposicion',\n",
       "       'estado', 'extra', 'kind', 'referencia', 'sobre', 'tipo_propiedad',\n",
       "       'title', 'url', 'zona'],\n",
       "      dtype='object')"
      ]
     },
     "execution_count": 10,
     "metadata": {},
     "output_type": "execute_result"
    }
   ],
   "source": [
    "mask = (\n",
    "    df_raw['tipo_propiedad'].isin(['apartamentos', 'casas'])\n",
    "    & (df_raw['oficina'] != 1)\n",
    "    & (df_raw['penthouse'] != 1) \n",
    ")\n",
    "df_raw = df_raw[mask]\n",
    "df_raw.columns"
   ]
  },
  {
   "cell_type": "code",
   "execution_count": 11,
   "metadata": {},
   "outputs": [],
   "source": [
    "columns = ['ano_de_construccion', 'banos', 'disposicion', 'dormitorios',\n",
    "           'estado', 'garajes', 'gastos_comunes',\n",
    "           'm2_de_la_terraza', 'm2_del_terreno', 'm2_edificados',\n",
    "           'price', 'tipo_propiedad', 'vivienda_social', 'zona']"
   ]
  },
  {
   "cell_type": "code",
   "execution_count": 12,
   "metadata": {},
   "outputs": [
    {
     "data": {
      "text/plain": [
       "ano_de_construccion    7664\n",
       "banos                    73\n",
       "disposicion               0\n",
       "dormitorios              33\n",
       "estado                    0\n",
       "garajes                   0\n",
       "gastos_comunes            0\n",
       "m2_de_la_terraza          0\n",
       "m2_del_terreno          827\n",
       "m2_edificados           934\n",
       "price                    70\n",
       "tipo_propiedad            0\n",
       "vivienda_social           0\n",
       "zona                      0\n",
       "dtype: int64"
      ]
     },
     "execution_count": 12,
     "metadata": {},
     "output_type": "execute_result"
    }
   ],
   "source": [
    "df_selected = df_raw[columns].reset_index(drop=True)\n",
    "fill_zero_col = ['m2_de_la_terraza', 'vivienda_social', 'gastos_comunes', 'garajes']\n",
    "df_selected.loc[:, fill_zero_col] = df_selected.loc[:, fill_zero_col].fillna(0)\n",
    "mask_m2_terreno = df_selected['m2_del_terreno'].isna()\n",
    "df_selected.loc[mask_m2_terreno, 'm2_del_terreno'] = df_selected.loc[mask_m2_terreno, 'm2_edificados']\n",
    "(\n",
    "    df_selected\n",
    "    .isna()\n",
    "    .sum()\n",
    ")"
   ]
  },
  {
   "cell_type": "code",
   "execution_count": 13,
   "metadata": {},
   "outputs": [],
   "source": [
    "df_selected.dropna(inplace=True)"
   ]
  },
  {
   "cell_type": "code",
   "execution_count": 14,
   "metadata": {},
   "outputs": [],
   "source": [
    "df_num_selected = df_selected.select_dtypes(exclude='object')\n",
    "df_obj_selected = df_selected.select_dtypes(include='object')"
   ]
  },
  {
   "cell_type": "code",
   "execution_count": 39,
   "metadata": {},
   "outputs": [],
   "source": [
    "import pandas_profiling\n",
    "report = pandas_profiling.ProfileReport(df_num_selected)\n",
    "report.to_file('../report/dataset/report_numeric.html')"
   ]
  },
  {
   "cell_type": "code",
   "execution_count": 15,
   "metadata": {},
   "outputs": [
    {
     "data": {
      "text/html": [
       "<div>\n",
       "<style scoped>\n",
       "    .dataframe tbody tr th:only-of-type {\n",
       "        vertical-align: middle;\n",
       "    }\n",
       "\n",
       "    .dataframe tbody tr th {\n",
       "        vertical-align: top;\n",
       "    }\n",
       "\n",
       "    .dataframe thead th {\n",
       "        text-align: right;\n",
       "    }\n",
       "</style>\n",
       "<table border=\"1\" class=\"dataframe\">\n",
       "  <thead>\n",
       "    <tr style=\"text-align: right;\">\n",
       "      <th></th>\n",
       "      <th>disposicion</th>\n",
       "      <th>estado</th>\n",
       "      <th>tipo_propiedad</th>\n",
       "      <th>zona</th>\n",
       "    </tr>\n",
       "  </thead>\n",
       "  <tbody>\n",
       "    <tr>\n",
       "      <th>11412</th>\n",
       "      <td>al frente</td>\n",
       "      <td>excelente estado</td>\n",
       "      <td>apartamentos</td>\n",
       "      <td>pocitos</td>\n",
       "    </tr>\n",
       "    <tr>\n",
       "      <th>17399</th>\n",
       "      <td>al frente</td>\n",
       "      <td>excelente estado</td>\n",
       "      <td>casas</td>\n",
       "      <td>jacinto vera</td>\n",
       "    </tr>\n",
       "    <tr>\n",
       "      <th>151</th>\n",
       "      <td>al frente</td>\n",
       "      <td>buen estado</td>\n",
       "      <td>casas</td>\n",
       "      <td>sayago</td>\n",
       "    </tr>\n",
       "    <tr>\n",
       "      <th>3255</th>\n",
       "      <td>interior</td>\n",
       "      <td>buen estado</td>\n",
       "      <td>apartamentos</td>\n",
       "      <td>camino maldonado</td>\n",
       "    </tr>\n",
       "    <tr>\n",
       "      <th>9338</th>\n",
       "      <td>al frente</td>\n",
       "      <td>buen estado</td>\n",
       "      <td>apartamentos</td>\n",
       "      <td>cordon</td>\n",
       "    </tr>\n",
       "  </tbody>\n",
       "</table>\n",
       "</div>"
      ],
      "text/plain": [
       "      disposicion            estado tipo_propiedad              zona\n",
       "11412   al frente  excelente estado   apartamentos           pocitos\n",
       "17399   al frente  excelente estado          casas      jacinto vera\n",
       "151     al frente       buen estado          casas            sayago\n",
       "3255     interior       buen estado   apartamentos  camino maldonado\n",
       "9338    al frente       buen estado   apartamentos            cordon"
      ]
     },
     "execution_count": 15,
     "metadata": {},
     "output_type": "execute_result"
    }
   ],
   "source": [
    "df_obj_selected.sample(5)"
   ]
  },
  {
   "cell_type": "code",
   "execution_count": 16,
   "metadata": {},
   "outputs": [],
   "source": [
    "zone_codes = pd.get_dummies(df_obj_selected['zona'])\n",
    "property_type = pd.get_dummies(df_obj_selected['tipo_propiedad'])\n",
    "property_state = pd.get_dummies(df_obj_selected['estado'])"
   ]
  },
  {
   "cell_type": "code",
   "execution_count": 17,
   "metadata": {},
   "outputs": [],
   "source": [
    "zone_codes.columns = ['ZN_{}'.format(k.replace(' ', '_')) for k in zone_codes.columns]\n",
    "property_state.columns = ['ST_{}'.format(k.replace(' ', '_')) for k in property_state.columns]\n"
   ]
  },
  {
   "cell_type": "code",
   "execution_count": 18,
   "metadata": {},
   "outputs": [],
   "source": [
    "features_selected = pd.concat([df_num_selected, zone_codes, property_type, property_state], axis=1)\n"
   ]
  },
  {
   "cell_type": "code",
   "execution_count": 19,
   "metadata": {},
   "outputs": [],
   "source": [
    "price =  features_selected['price']\n",
    "features = features_selected.drop(columns=['price'])\n",
    "\n"
   ]
  },
  {
   "cell_type": "markdown",
   "metadata": {},
   "source": [
    "# Modeling"
   ]
  },
  {
   "cell_type": "code",
   "execution_count": 40,
   "metadata": {},
   "outputs": [],
   "source": [
    "from sklearn.decomposition import PCA\n",
    "from sklearn.preprocessing import StandardScaler\n",
    "from sklearn.preprocessing import MinMaxScaler\n",
    "from sklearn.model_selection import train_test_split\n",
    "from sklearn.linear_model import LinearRegression\n",
    "from sklearn.tree import DecisionTreeRegressor\n",
    "from sklearn.discriminant_analysis import LinearDiscriminantAnalysis\n",
    "from sklearn.manifold import TSNE\n",
    "from sklearn.metrics import mean_squared_error, mean_absolute_error, r2_score\n",
    "\n",
    "\n",
    "scaler = MinMaxScaler()"
   ]
  },
  {
   "cell_type": "code",
   "execution_count": 21,
   "metadata": {},
   "outputs": [],
   "source": [
    "train_features, test_features = train_test_split(features, test_size=0.2, random_state=14)\n",
    "train_price, test_price = train_test_split(price, test_size=0.2, random_state=14)\n",
    "\n",
    "pca = PCA(n_components=3,)\n",
    "arr = pca.fit_transform(scaler.fit_transform(train_features))"
   ]
  },
  {
   "cell_type": "code",
   "execution_count": 22,
   "metadata": {},
   "outputs": [
    {
     "data": {
      "text/plain": [
       "array([0.1954926 , 0.14356494, 0.09226499])"
      ]
     },
     "execution_count": 22,
     "metadata": {},
     "output_type": "execute_result"
    }
   ],
   "source": [
    "pca.explained_variance_ratio_"
   ]
  },
  {
   "cell_type": "code",
   "execution_count": 23,
   "metadata": {},
   "outputs": [
    {
     "data": {
      "text/plain": [
       "<matplotlib.collections.PathCollection at 0x7f0dd635a6a0>"
      ]
     },
     "execution_count": 23,
     "metadata": {},
     "output_type": "execute_result"
    },
    {
     "data": {
      "image/png": "[encoded data removed]",
      "text/plain": [
       "<Figure size 432x288 with 4 Axes>"
      ]
     },
     "metadata": {
      "needs_background": "light"
     },
     "output_type": "display_data"
    }
   ],
   "source": [
    "color = df_obj_selected.loc[train_features.index, 'zona'].astype('category').cat.codes\n",
    "f, ax = plt.subplots(2,2)\n",
    "ax[0, 0].scatter(arr[:,0], arr[:,1], c=color)\n",
    "ax[0, 1].scatter(arr[:,1], arr[:,2], c=color)\n",
    "ax[1, 0].scatter(arr[:,0], arr[:,2], c=color)"
   ]
  },
  {
   "cell_type": "code",
   "execution_count": 24,
   "metadata": {},
   "outputs": [],
   "source": [
    "lda = LinearDiscriminantAnalysis(n_components=3).fit_transform(df_num_selected.drop(columns=['price']),\n",
    "                                                              df_num_selected['price'])"
   ]
  },
  {
   "cell_type": "code",
   "execution_count": 25,
   "metadata": {},
   "outputs": [
    {
     "data": {
      "text/plain": [
       "<matplotlib.collections.PathCollection at 0x7f0dd61c27f0>"
      ]
     },
     "execution_count": 25,
     "metadata": {},
     "output_type": "execute_result"
    },
    {
     "data": {
      "image/png": "[encoded data removed]",
      "text/plain": [
       "<Figure size 432x288 with 4 Axes>"
      ]
     },
     "metadata": {
      "needs_background": "light"
     },
     "output_type": "display_data"
    }
   ],
   "source": [
    "f, ax = plt.subplots(2, 2)\n",
    "ax[0, 0].scatter(lda[:, 0], lda[:, 1], c=df_num_selected['price'])\n",
    "ax[0, 1].scatter(lda[:, 0], lda[:, 2], c=df_num_selected['price'])\n",
    "ax[1, 0].scatter(lda[:, 1], lda[:, 2], c=df_num_selected['price'])\n"
   ]
  },
  {
   "cell_type": "code",
   "execution_count": 26,
   "metadata": {},
   "outputs": [],
   "source": [
    "def plot_predict_result(test_price, predict_price):\n",
    "    f, ax = plt.subplots(2)\n",
    "    ax[0].scatter(test_price, predict_price)\n",
    "    ax[0].plot([0, 1600000], [0, 1600000], c='r')\n",
    "    ax[1].hist(test_price - predict_price, bins=100)"
   ]
  },
  {
   "cell_type": "markdown",
   "metadata": {},
   "source": [
    "# Linear Model"
   ]
  },
  {
   "cell_type": "code",
   "execution_count": 41,
   "metadata": {},
   "outputs": [
    {
     "data": {
      "text/plain": [
       "LinearRegression(copy_X=True, fit_intercept=True, n_jobs=None, normalize=False)"
      ]
     },
     "execution_count": 41,
     "metadata": {},
     "output_type": "execute_result"
    }
   ],
   "source": [
    "model = LinearRegression(fit_intercept=True)\n",
    "model.fit(train_features, train_price)\n",
    "# model.coef_, model.intercept_, model.rank_"
   ]
  },
  {
   "cell_type": "code",
   "execution_count": null,
   "metadata": {},
   "outputs": [],
   "source": []
  },
  {
   "cell_type": "code",
   "execution_count": 28,
   "metadata": {},
   "outputs": [],
   "source": [
    "predict_price = model.predict(test_features)"
   ]
  },
  {
   "cell_type": "code",
   "execution_count": 29,
   "metadata": {},
   "outputs": [
    {
     "data": {
      "image/png": "[encoded data removed]",
      "text/plain": [
       "<Figure size 432x288 with 2 Axes>"
      ]
     },
     "metadata": {
      "needs_background": "light"
     },
     "output_type": "display_data"
    }
   ],
   "source": [
    "plot_predict_result(test_price, predict_price)"
   ]
  },
  {
   "cell_type": "markdown",
   "metadata": {},
   "source": [
    "# Regression Tree"
   ]
  },
  {
   "cell_type": "code",
   "execution_count": 30,
   "metadata": {},
   "outputs": [
    {
     "data": {
      "text/plain": [
       "DecisionTreeRegressor(criterion='mse', max_depth=None, max_features=None,\n",
       "                      max_leaf_nodes=None, min_impurity_decrease=0.0,\n",
       "                      min_impurity_split=None, min_samples_leaf=1,\n",
       "                      min_samples_split=2, min_weight_fraction_leaf=0.0,\n",
       "                      presort=False, random_state=None, splitter='best')"
      ]
     },
     "execution_count": 30,
     "metadata": {},
     "output_type": "execute_result"
    }
   ],
   "source": [
    "cls_tree = DecisionTreeRegressor()\n",
    "cls_tree.fit(train_features, train_price)"
   ]
  },
  {
   "cell_type": "code",
   "execution_count": 31,
   "metadata": {},
   "outputs": [],
   "source": [
    "predic_price_tree = cls_tree.predict(test_features)"
   ]
  },
  {
   "cell_type": "code",
   "execution_count": 32,
   "metadata": {},
   "outputs": [
    {
     "data": {
      "image/png": "[encoded data removed]",
      "text/plain": [
       "<Figure size 432x288 with 2 Axes>"
      ]
     },
     "metadata": {
      "needs_background": "light"
     },
     "output_type": "display_data"
    }
   ],
   "source": [
    "plot_predict_result(test_price, predic_price_tree)"
   ]
  },
  {
   "cell_type": "code",
   "execution_count": 36,
   "metadata": {},
   "outputs": [
    {
     "data": {
      "text/plain": [
       "<matplotlib.axes._subplots.AxesSubplot at 0x7f0dca29b208>"
      ]
     },
     "execution_count": 36,
     "metadata": {},
     "output_type": "execute_result"
    },
    {
     "data": {
      "image/png": "[encoded data removed]",
      "text/plain": [
       "<Figure size 432x288 with 1 Axes>"
      ]
     },
     "metadata": {
      "needs_background": "light"
     },
     "output_type": "display_data"
    }
   ],
   "source": [
    "f, ax = plt.subplots()\n",
    "(pd\n",
    " .Series(cls_tree.feature_importances_, index=train_features.columns)\n",
    " .sort_values()[-10:]\n",
    " .plot(ax=ax, kind='barh')\n",
    ")"
   ]
  }
 ],
 "metadata": {
  "hide_input": false,
  "kernelspec": {
   "display_name": "Python 3",
   "language": "python",
   "name": "python3"
  },
  "language_info": {
   "codemirror_mode": {
    "name": "ipython",
    "version": 3
   },
   "file_extension": ".py",
   "mimetype": "text/x-python",
   "name": "python",
   "nbconvert_exporter": "python",
   "pygments_lexer": "ipython3",
   "version": "3.7.1"
  },
  "toc": {
   "base_numbering": 1,
   "nav_menu": {},
   "number_sections": true,
   "sideBar": true,
   "skip_h1_title": false,
   "title_cell": "Table of Contents",
   "title_sidebar": "Contents",
   "toc_cell": false,
   "toc_position": {},
   "toc_section_display": true,
   "toc_window_display": false
  },
  "varInspector": {
   "cols": {
    "lenName": 16,
    "lenType": 16,
    "lenVar": 40
   },
   "kernels_config": {
    "python": {
     "delete_cmd_postfix": "",
     "delete_cmd_prefix": "del ",
     "library": "var_list.py",
     "varRefreshCmd": "print(var_dic_list())"
    },
    "r": {
     "delete_cmd_postfix": ") ",
     "delete_cmd_prefix": "rm(",
     "library": "var_list.r",
     "varRefreshCmd": "cat(var_dic_list()) "
    }
   },
   "types_to_exclude": [
    "module",
    "function",
    "builtin_function_or_method",
    "instance",
    "_Feature"
   ],
   "window_display": false
  }
 },
 "nbformat": 4,
 "nbformat_minor": 2
}
