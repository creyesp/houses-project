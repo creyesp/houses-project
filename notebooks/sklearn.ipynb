{
 "cells": [
  {
   "cell_type": "markdown",
   "metadata": {},
   "source": []
  },
  {
   "cell_type": "code",
   "execution_count": null,
   "metadata": {},
   "outputs": [],
   "source": [
    "import pandas as pd\n",
    "import matplotlib.pyplot as plt\n",
    "import seaborn as sns\n",
    "from unidecode import unidecode\n",
    "\n",
    "%matplotlib notebook"
   ]
  },
  {
   "cell_type": "code",
   "execution_count": null,
   "metadata": {},
   "outputs": [],
   "source": [
    "df = pd.read_csv('../data/preprocessed/details_home_for_sale_dataset_2019-07-25.csv')\n",
    "df.head(5)\n"
   ]
  },
  {
   "cell_type": "code",
   "execution_count": null,
   "metadata": {},
   "outputs": [],
   "source": [
    "columns_to_analyze = [\n",
    "    'ano_de_construccion', 'aptos_por_piso', 'banos', 'banos_extra', 'cantidad_de_pisos',\n",
    "    'description', 'disposicion', 'distancia_al_mar', 'dormitorios', 'dormitorios_extra',\n",
    "    'estado', 'extra', 'garajes', 'garajes_extra', 'gastos_comunes', 'gastos_comunes_cur',\n",
    "    'kind', 'm2_de_la_terraza', 'm2_del_terreno', 'm2_edificados', 'oficina', 'penthouse',\n",
    "    'piso', 'plantas', 'plantas_extra', 'price', 'price_cur', 'sobre', 'tipo_propiedad',\n",
    "    'vista_al_mar', 'vivienda_social', 'zona', \n",
    "]"
   ]
  },
  {
   "cell_type": "code",
   "execution_count": null,
   "metadata": {},
   "outputs": [],
   "source": [
    "df_obj = (df[columns_to_analyze]\n",
    "          .select_dtypes(include='object')\n",
    "          .fillna('')\n",
    "          .apply(lambda x: x.str.lower().apply(lambda y: unidecode(y)))\n",
    "         )\n",
    "df_num = df.select_dtypes(exclude='object')\n",
    "df_raw = pd.concat([df_num, df_obj], axis=1)"
   ]
  },
  {
   "cell_type": "code",
   "execution_count": null,
   "metadata": {},
   "outputs": [],
   "source": []
  },
  {
   "cell_type": "code",
   "execution_count": null,
   "metadata": {},
   "outputs": [],
   "source": [
    "mask = (\n",
    "    df_raw['tipo_propiedad'].isin(['apartamentos', 'casas'])\n",
    "    & (df_raw['oficina'] != 1)\n",
    "    & (df_raw['penthouse'] != 1) \n",
    ")\n",
    "df_raw = df_raw[mask]\n",
    "df_raw.columns"
   ]
  },
  {
   "cell_type": "code",
   "execution_count": null,
   "metadata": {},
   "outputs": [],
   "source": [
    "columns = ['ano_de_construccion', 'banos', 'disposicion', 'dormitorios',\n",
    "           'estado', 'garajes', 'gastos_comunes',\n",
    "           'm2_de_la_terraza', 'm2_del_terreno', 'm2_edificados',\n",
    "           'price', 'tipo_propiedad', 'vivienda_social', 'zona']"
   ]
  },
  {
   "cell_type": "code",
   "execution_count": null,
   "metadata": {},
   "outputs": [],
   "source": [
    "df_selected = df_raw[columns].reset_index(drop=True)\n",
    "fill_zero_col = ['m2_de_la_terraza', 'vivienda_social', 'gastos_comunes', 'garajes']\n",
    "df_selected.loc[:, fill_zero_col] = df_selected.loc[:, fill_zero_col].fillna(0)\n",
    "mask_m2_terreno = df_selected['m2_del_terreno'].isna()\n",
    "df_selected.loc[mask_m2_terreno, 'm2_del_terreno'] = df_selected.loc[mask_m2_terreno, 'm2_edificados']\n",
    "(\n",
    "    df_selected\n",
    "    .isna()\n",
    "    .sum()\n",
    ")"
   ]
  },
  {
   "cell_type": "code",
   "execution_count": null,
   "metadata": {},
   "outputs": [],
   "source": [
    "df_selected.dropna(inplace=True)"
   ]
  },
  {
   "cell_type": "code",
   "execution_count": null,
   "metadata": {},
   "outputs": [],
   "source": [
    "df_num_selected = df_selected.select_dtypes(exclude='object')\n",
    "df_obj_selected = df_selected.select_dtypes(include='object')"
   ]
  },
  {
   "cell_type": "raw",
   "metadata": {},
   "source": [
    "import pandas_profiling\n",
    "report = pandas_profiling.ProfileReport(df_num_selected)\n",
    "report.to_file('../report/dataset/report_numeric.html')"
   ]
  },
  {
   "cell_type": "code",
   "execution_count": null,
   "metadata": {},
   "outputs": [],
   "source": [
    "df_obj_selected.sample(5)"
   ]
  },
  {
   "cell_type": "code",
   "execution_count": null,
   "metadata": {},
   "outputs": [],
   "source": [
    "zone_codes = pd.get_dummies(df_obj_selected['zona'])\n",
    "property_type = pd.get_dummies(df_obj_selected['tipo_propiedad'])\n",
    "property_state = pd.get_dummies(df_obj_selected['estado'])"
   ]
  },
  {
   "cell_type": "code",
   "execution_count": null,
   "metadata": {},
   "outputs": [],
   "source": [
    "zone_codes.columns = ['ZN_{}'.format(k.replace(' ', '_')) for k in zone_codes.columns]\n",
    "property_state.columns = ['ST_{}'.format(k.replace(' ', '_')) for k in property_state.columns]\n"
   ]
  },
  {
   "cell_type": "code",
   "execution_count": null,
   "metadata": {},
   "outputs": [],
   "source": [
    "features_selected = pd.concat([df_num_selected, zone_codes, property_type, property_state], axis=1)\n",
    "features_selected.to_csv('../data/ready/dataset_houses.csv', index=False)"
   ]
  },
  {
   "cell_type": "code",
   "execution_count": null,
   "metadata": {},
   "outputs": [],
   "source": [
    "price =  features_selected['price']\n",
    "features = features_selected.drop(columns=['price'])\n",
    "\n"
   ]
  },
  {
   "cell_type": "markdown",
   "metadata": {},
   "source": [
    "# Modeling"
   ]
  },
  {
   "cell_type": "code",
   "execution_count": null,
   "metadata": {},
   "outputs": [],
   "source": [
    "from sklearn.preprocessing import MinMaxScaler\n",
    "from sklearn.preprocessing import MaxAbsScaler\n",
    "from sklearn.preprocessing import StandardScaler\n",
    "from sklearn.preprocessing import RobustScaler\n",
    "from sklearn.preprocessing import QuantileTransformer\n",
    "from sklearn.preprocessing import PowerTransformer\n",
    "from sklearn.preprocessing import Normalizer"
   ]
  },
  {
   "cell_type": "code",
   "execution_count": null,
   "metadata": {},
   "outputs": [],
   "source": [
    "from sklearn.decomposition import PCA\n",
    "from sklearn.model_selection import train_test_split\n",
    "from sklearn.linear_model import LinearRegression\n",
    "from sklearn.tree import DecisionTreeRegressor\n",
    "from sklearn.discriminant_analysis import LinearDiscriminantAnalysis\n",
    "from sklearn.manifold import TSNE\n",
    "from sklearn.metrics import mean_squared_error, mean_absolute_error, r2_score"
   ]
  },
  {
   "cell_type": "code",
   "execution_count": null,
   "metadata": {},
   "outputs": [],
   "source": [
    "# scaler =  RobustScaler(quantile_range=(25, 75))\n",
    "scaler = QuantileTransformer(output_distribution='normal') \n",
    "# scaler = PowerTransformer(method='box-cox')  # Non Linear | Strictly positive data\n",
    "# scaler = PowerTransformer(method='yeo-johnson')  # Non Linear \n",
    "\n"
   ]
  },
  {
   "cell_type": "code",
   "execution_count": null,
   "metadata": {},
   "outputs": [],
   "source": [
    "train_features, test_features = train_test_split(features, test_size=0.2, random_state=14)\n",
    "train_price, test_price = train_test_split(price, test_size=0.2, random_state=14)\n",
    "\n",
    "scaler.fit(train_features)\n",
    "sca_train = scaler.transform(train_features)\n",
    "sca_test = scaler.transform(train_features)"
   ]
  },
  {
   "cell_type": "code",
   "execution_count": null,
   "metadata": {},
   "outputs": [],
   "source": [
    "pca = PCA(n_components=.95, )\n",
    "pca.fit(sca_train)\n",
    "arr_train = pca.transform(sca_train)\n",
    "arr_test = pca.transform(sca_test)"
   ]
  },
  {
   "cell_type": "code",
   "execution_count": null,
   "metadata": {},
   "outputs": [],
   "source": [
    "pca.explained_variance_ratio_"
   ]
  },
  {
   "cell_type": "code",
   "execution_count": null,
   "metadata": {},
   "outputs": [],
   "source": [
    "sns.pairplot(pd.DataFrame(arr[:, 0:4]))"
   ]
  },
  {
   "cell_type": "code",
   "execution_count": null,
   "metadata": {},
   "outputs": [],
   "source": [
    "# color = features.loc[features.index, 'zona'].astype('category').cat.codes\n",
    "color = train_features.iloc[:, 1]\n",
    "f, ax = plt.subplots(2,2)\n",
    "ax[0, 0].scatter(arr[:,0], arr[:,1], c=color)\n",
    "ax[0, 1].scatter(arr[:,1], arr[:,2], c=color)\n",
    "ax[1, 0].scatter(arr[:,0], arr[:,2], c=color)\n",
    "ax[1, 1].scatter(arr[:,3], arr[:,5], c=color)"
   ]
  },
  {
   "cell_type": "code",
   "execution_count": null,
   "metadata": {},
   "outputs": [],
   "source": [
    "lda = LinearDiscriminantAnalysis(n_components=3).fit_transform(scaler.fit_transform(train_features),\n",
    "                                                              train_price)"
   ]
  },
  {
   "cell_type": "code",
   "execution_count": null,
   "metadata": {},
   "outputs": [],
   "source": [
    "color = train_features.iloc[:, 1]\n",
    "\n",
    "f, ax = plt.subplots(2, 2)\n",
    "ax[0, 0].scatter(lda[:, 0], lda[:, 1], c=color)\n",
    "ax[0, 1].scatter(lda[:, 0], lda[:, 2], c=color)\n",
    "ax[1, 0].scatter(lda[:, 1], lda[:, 2], c=color)\n"
   ]
  },
  {
   "cell_type": "code",
   "execution_count": null,
   "metadata": {},
   "outputs": [],
   "source": []
  },
  {
   "cell_type": "code",
   "execution_count": null,
   "metadata": {},
   "outputs": [],
   "source": [
    "def plot_predict_result(test_price, predict_price):\n",
    "    f, ax = plt.subplots(2)\n",
    "    ax[0].scatter(test_price, predict_price)\n",
    "    ax[0].plot([0, 1600000], [0, 1600000], c='r')\n",
    "    ax[1].hist(test_price - predict_price, bins=100)\n",
    "    return f, ax\n",
    "\n",
    "def get_scores(test_train, test_predict):\n",
    "    mse = mean_squared_error(test_train, test_predict)\n",
    "    mea = mean_absolute_error(test_train, test_predict)\n",
    "    r2 = r2_score(test_train, test_predict)\n",
    "    return 'mse={}, mea={}, r2={}'.format(mse, mea, r2)"
   ]
  },
  {
   "cell_type": "markdown",
   "metadata": {},
   "source": [
    "# Linear Model"
   ]
  },
  {
   "cell_type": "code",
   "execution_count": null,
   "metadata": {},
   "outputs": [],
   "source": [
    "model = LinearRegression(fit_intercept=True)\n",
    "model.fit(arr_train, train_price)\n",
    "#model.coef_, model.intercept_, model.rank_"
   ]
  },
  {
   "cell_type": "code",
   "execution_count": null,
   "metadata": {},
   "outputs": [],
   "source": [
    " "
   ]
  },
  {
   "cell_type": "code",
   "execution_count": null,
   "metadata": {},
   "outputs": [],
   "source": [
    "predict_price = model.predict(arr_test)\n",
    "get_scores(test_price, predict_price)"
   ]
  },
  {
   "cell_type": "code",
   "execution_count": null,
   "metadata": {},
   "outputs": [],
   "source": [
    "f, ax = plot_predict_result(test_price, predict_price)\n",
    "ax[0].set(ylim=[-10000000000, 10000000000])"
   ]
  },
  {
   "cell_type": "markdown",
   "metadata": {},
   "source": [
    "# Regression Tree"
   ]
  },
  {
   "cell_type": "code",
   "execution_count": null,
   "metadata": {},
   "outputs": [],
   "source": [
    "cls_tree = DecisionTreeRegressor()\n",
    "cls_tree.fit(train_features, train_price)\n"
   ]
  },
  {
   "cell_type": "code",
   "execution_count": null,
   "metadata": {},
   "outputs": [],
   "source": [
    "predic_price_tree = cls_tree.predict(test_features)\n",
    "get_scores(predic_price_tree, predict_price)"
   ]
  },
  {
   "cell_type": "code",
   "execution_count": null,
   "metadata": {},
   "outputs": [],
   "source": [
    "plot_predict_result(test_price, predic_price_tree)"
   ]
  },
  {
   "cell_type": "code",
   "execution_count": null,
   "metadata": {},
   "outputs": [],
   "source": [
    "f, ax = plt.subplots()\n",
    "(pd\n",
    " .Series(cls_tree.feature_importances_, index=train_features.columns)\n",
    " .sort_values()[-10:]\n",
    " .plot(ax=ax, kind='barh')\n",
    ")"
   ]
  },
  {
   "cell_type": "code",
   "execution_count": null,
   "metadata": {},
   "outputs": [],
   "source": []
  },
  {
   "cell_type": "code",
   "execution_count": null,
   "metadata": {},
   "outputs": [],
   "source": [
    "df_raw[df_raw['gastos_comunes']>1000000]\n",
    "#df_selected['garajes'].unique()"
   ]
  },
  {
   "cell_type": "code",
   "execution_count": null,
   "metadata": {},
   "outputs": [],
   "source": [
    "df_raw.loc[18045, 'url']"
   ]
  },
  {
   "cell_type": "code",
   "execution_count": null,
   "metadata": {},
   "outputs": [],
   "source": [
    "df_selected.describe()"
   ]
  },
  {
   "cell_type": "code",
   "execution_count": null,
   "metadata": {},
   "outputs": [],
   "source": [
    "#df_selected['m2_del_terreno'] > 1\n",
    "#df_selected['gastos_comunes'] < 1e5\n",
    "#df_selected['m2_edificados'] > 20\n",
    "\n",
    "(\n",
    "    df_selected.query('m2_del_terreno > 2')\n",
    "    .query('gastos_comunes < 1e5')\n",
    "    .query('m2_edificados > 20')\n",
    "    #.pipe(lambda x: x.describe().transpose())\n",
    "    .to_csv('../data/ready/num_dataset_houses.csv', index=False)\n",
    ")\n"
   ]
  },
  {
   "cell_type": "code",
   "execution_count": null,
   "metadata": {},
   "outputs": [],
   "source": []
  }
 ],
 "metadata": {
  "hide_input": false,
  "kernelspec": {
   "display_name": "Python 3",
   "language": "python",
   "name": "python3"
  },
  "language_info": {
   "codemirror_mode": {
    "name": "ipython",
    "version": 3
   },
   "file_extension": ".py",
   "mimetype": "text/x-python",
   "name": "python",
   "nbconvert_exporter": "python",
   "pygments_lexer": "ipython3",
   "version": "3.7.1"
  },
  "toc": {
   "base_numbering": 1,
   "nav_menu": {},
   "number_sections": true,
   "sideBar": true,
   "skip_h1_title": false,
   "title_cell": "Table of Contents",
   "title_sidebar": "Contents",
   "toc_cell": false,
   "toc_position": {},
   "toc_section_display": true,
   "toc_window_display": false
  },
  "varInspector": {
   "cols": {
    "lenName": 16,
    "lenType": 16,
    "lenVar": 40
   },
   "kernels_config": {
    "python": {
     "delete_cmd_postfix": "",
     "delete_cmd_prefix": "del ",
     "library": "var_list.py",
     "varRefreshCmd": "print(var_dic_list())"
    },
    "r": {
     "delete_cmd_postfix": ") ",
     "delete_cmd_prefix": "rm(",
     "library": "var_list.r",
     "varRefreshCmd": "cat(var_dic_list()) "
    }
   },
   "types_to_exclude": [
    "module",
    "function",
    "builtin_function_or_method",
    "instance",
    "_Feature"
   ],
   "window_display": false
  }
 },
 "nbformat": 4,
 "nbformat_minor": 2
}
