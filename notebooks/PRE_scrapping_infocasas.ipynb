{
 "cells": [
  {
   "cell_type": "code",
   "execution_count": 1,
   "metadata": {},
   "outputs": [],
   "source": [
    "from functools import reduce\n",
    "from datetime import datetime\n",
    "\n",
    "from bs4 import BeautifulSoup\n",
    "import urllib.request\n",
    "import pandas as pd\n",
    "import numpy as np\n"
   ]
  },
  {
   "cell_type": "markdown",
   "metadata": {},
   "source": [
    "Prueba de consepto"
   ]
  },
  {
   "cell_type": "code",
   "execution_count": 34,
   "metadata": {},
   "outputs": [
    {
     "name": "stdout",
     "output_type": "stream",
     "text": [
      "https://www.infocasas.com.uy/venta/casas-apartamento/montevideo/pagina100\n"
     ]
    }
   ],
   "source": [
    "base_url = 'https://www.infocasas.com.uy'\n",
    "source_url = 'https://www.infocasas.com.uy/venta/casas-apartamento/montevideo/'\n",
    "url_page = source_url + 'pagina{}'.format(100)\n",
    "print(url_page)\n",
    "page = urllib.request.urlopen(url_page)\n",
    "soup = BeautifulSoup(page, 'html.parser')\n",
    "\n",
    "table = soup.find_all('div', attrs={'class': 'propiedades-slider'})"
   ]
  },
  {
   "cell_type": "code",
   "execution_count": 29,
   "metadata": {},
   "outputs": [],
   "source": [
    "neighborhood = [\n",
    "    t for t in table \\\n",
    "    for p in t.find_all('div')\n",
    "]"
   ]
  },
  {
   "cell_type": "code",
   "execution_count": 41,
   "metadata": {},
   "outputs": [],
   "source": [
    "proyecto_label = [k.find(class_='proyectoLabel').get_text() if k.find(class_='proyectoLabel') else None for k in table]\n"
   ]
  },
  {
   "cell_type": "code",
   "execution_count": 47,
   "metadata": {},
   "outputs": [
    {
     "name": "stdout",
     "output_type": "stream",
     "text": [
      "<div class=\"propiedades-slider proyecto prop-descuento\" data-id=\"186008236\" data-idproyecto=\"2732\">\n",
      " <div class=\"prop-img loadedr\">\n",
      "  <div class=\"proyectoLabel\">\n",
      "   Proyecto\n",
      "  </div>\n",
      "  <div class=\"loader centerVerticalToParent\">\n",
      "   <i class=\"icon-spin6 rotate\">\n",
      "   </i>\n",
      "  </div>\n",
      "  <a class=\"holder-link checkMob\" href=\"/proyectos/ventura-urquiza-y-moreno/2732?v\" target=\"_blank\" title=\"Ventura Urquiza Y Moreno\">\n",
      "  </a>\n",
      "  <div class=\"owl-carousel\">\n",
      "   <div class=\"item imagen\">\n",
      "    <img alt=\"Ventura Urquiza Y Moreno\" class=\"propIMG\" src=\"https://www.infocasas.com.uy/sitio/getCDNTH.php?thumb=https://cdn1.infocasas.com.uy/repo/img/c98e392f537d970f1f62328aa8ff333482d7f89d.jpg&amp;w=460\"/>\n",
      "    <div class=\"descriptionProp\">\n",
      "     <div class=\"inDescription\">\n",
      "      <h3>\n",
      "       La Blanqueada, Montevideo - Uruguay\n",
      "       <br/>\n",
      "       Apartamentos\n",
      "      </h3>\n",
      "      <p>\n",
      "       Descripción de la unidad:Excelente oportunidad, Apartamento de 1 dormitorio en Ventura Urquiza y Moreno.Conformado por dos torres de cinco pisos cada una, con entradas independientes. Con unidades con terminaciones de calidad, ideal para vivir en un entorno cercano al verde y conectado con la ciudad, próximo al Parque Batlle, a la terminal Tres Cruces y centros de salud.A estrenar en Marzo 2020!Buenas terminaciones, cocina semi integrada al living comedor y dormitorio con terraza.¡Oportunidad de inversión, consulte! Ref Ventura U y m 105B\n",
      "      </p>\n",
      "     </div>\n",
      "    </div>\n",
      "   </div>\n",
      "  </div>\n",
      "  <div class=\"precio\">\n",
      "   Desde U$S 82.900\n",
      "  </div>\n",
      "  <div class=\"singleLineDots\">\n",
      "   <p class=\"barrio\">\n",
      "    La Blanqueada\n",
      "   </p>\n",
      "   <p class=\"tipo-propiedad\">\n",
      "    Apartamentos\n",
      "   </p>\n",
      "  </div>\n",
      "  <div class=\"heart-grey-ball\" data-id=\"186008236\">\n",
      "   <i class=\"icon-heart centerVerticalToParent\">\n",
      "   </i>\n",
      "  </div>\n",
      "  <i class=\"icon-heart animatable\" data-id=\"186008236\">\n",
      "  </i>\n",
      " </div>\n",
      " <a class=\"checkMob\" href=\"/proyectos/ventura-urquiza-y-moreno/2732?v\" target=\"_blank\" title=\"Ventura Urquiza Y Moreno\">\n",
      "  <p class=\"tituloProyecto\">\n",
      "   Ventura Urquiza Y Moreno - Ver 3 más\n",
      "  </p>\n",
      " </a>\n",
      " <div class=\"contentIcons\">\n",
      "  Monoambiente, 1 y 2 dormitorios\n",
      " </div>\n",
      " <a class=\"holder-link checkMob\" href=\"/proyectos/ventura-urquiza-y-moreno/2732?v\" target=\"_blank\" title=\"Ventura Urquiza Y Moreno\">\n",
      "  <div class=\"consultarButton llevar-a-la-ficha\" data-id=\"186008236\" data-idproyecto=\"2732\">\n",
      "   <i class=\"icon-comment\">\n",
      "   </i>\n",
      "   Consultar\n",
      "  </div>\n",
      " </a>\n",
      "</div>\n",
      "\n"
     ]
    }
   ],
   "source": [
    "print(table[0].prettify())"
   ]
  },
  {
   "cell_type": "code",
   "execution_count": 3,
   "metadata": {},
   "outputs": [
    {
     "ename": "NameError",
     "evalue": "name 'table' is not defined",
     "output_type": "error",
     "traceback": [
      "\u001b[0;31m---------------------------------------------------------------------------\u001b[0m",
      "\u001b[0;31mNameError\u001b[0m                                 Traceback (most recent call last)",
      "\u001b[0;32m<ipython-input-3-bbd7988933da>\u001b[0m in \u001b[0;36m<module>\u001b[0;34m\u001b[0m\n\u001b[1;32m      1\u001b[0m neighborhood = [\n\u001b[0;32m----> 2\u001b[0;31m     \u001b[0;34m[\u001b[0m\u001b[0mk\u001b[0m\u001b[0;34m.\u001b[0m\u001b[0mtext\u001b[0m \u001b[0;32mfor\u001b[0m \u001b[0mk\u001b[0m \u001b[0;32min\u001b[0m \u001b[0mp\u001b[0m\u001b[0;34m.\u001b[0m\u001b[0mfind_all\u001b[0m\u001b[0;34m(\u001b[0m\u001b[0;34m'p'\u001b[0m\u001b[0;34m)\u001b[0m\u001b[0;34m]\u001b[0m \u001b[0;32mfor\u001b[0m \u001b[0mt\u001b[0m \u001b[0;32min\u001b[0m \u001b[0mtable\u001b[0m\u001b[0;31m \u001b[0m\u001b[0;31m\\\u001b[0m\u001b[0;34m\u001b[0m\u001b[0;34m\u001b[0m\u001b[0m\n\u001b[0m\u001b[1;32m      3\u001b[0m     \u001b[0;32mfor\u001b[0m \u001b[0mp\u001b[0m \u001b[0;32min\u001b[0m \u001b[0mt\u001b[0m\u001b[0;34m.\u001b[0m\u001b[0mfind_all\u001b[0m\u001b[0;34m(\u001b[0m\u001b[0;34m'div'\u001b[0m\u001b[0;34m)\u001b[0m\u001b[0;31m\\\u001b[0m\u001b[0;34m\u001b[0m\u001b[0;34m\u001b[0m\u001b[0m\n\u001b[1;32m      4\u001b[0m     \u001b[0;32mif\u001b[0m \u001b[0;34m'singleLineDots'\u001b[0m \u001b[0;32min\u001b[0m \u001b[0mp\u001b[0m\u001b[0;34m[\u001b[0m\u001b[0;34m'class'\u001b[0m\u001b[0;34m]\u001b[0m\u001b[0;34m\u001b[0m\u001b[0;34m\u001b[0m\u001b[0m\n\u001b[1;32m      5\u001b[0m ]\n",
      "\u001b[0;31mNameError\u001b[0m: name 'table' is not defined"
     ]
    }
   ],
   "source": [
    "neighborhood = [\n",
    "    [k.text for k in p.find_all('p')] for t in table \\\n",
    "    for p in t.find_all('div')\\\n",
    "    if 'singleLineDots' in p['class']\n",
    "]\n",
    "price = [p.text.split()[-1] for t in table \\\n",
    "         for p in t.find_all('div') if 'precio' in p['class']]\n",
    "\n",
    "desc = [[k.text for k in p.find_all('p')] for t in table \\\n",
    "        for p in t.find_all('div') if 'inDescription' in p['class']]\n",
    "desc = [k[0] for k in desc]\n",
    "\n",
    "details = [[d.find_all('span')[0].text for d in p.find_all('div')]\\\n",
    "           for t in table for p in t.find_all('div')\\\n",
    "           if 'contentIcons' in p['class']]\n",
    "details = pd.DataFrame(details, columns=['rooms', 'bathrooms', 'area_m2'])\n",
    "\n",
    "data_id = [k.get('data-id', '') for k in table]\n",
    "data_idproject = [k.get('data-idproyecto', '') for k in table]\n",
    "link = [base_url + k.find('a')['href'] for k in table]\n",
    "\n",
    "\n",
    "\n",
    "df = pd.DataFrame(neighborhood, columns=['neighborhood', 'type'])\n",
    "df['price'] = price\n",
    "df['desc'] = desc\n",
    "df['uris'] = link\n",
    "df['id'] = data_id\n",
    "df['idproject'] = data_idproject\n",
    "df = pd.concat([details, df], axis=1)\n"
   ]
  },
  {
   "cell_type": "code",
   "execution_count": 4,
   "metadata": {},
   "outputs": [],
   "source": [
    "def retrive_data(index,\n",
    "                 url_base='https://www.infocasas.com.uy',\n",
    "                 url_filter='/venta/casas-apartamento/montevideo/'):\n",
    "    url_page = url_base + url_filter + 'pagina{}'.format(index)\n",
    "    print(url_page)\n",
    "    try:\n",
    "        page = urllib.request.urlopen(url_page)\n",
    "        soup = BeautifulSoup(page, 'html.parser')\n",
    "\n",
    "        table = soup.find_all('div', attrs={'class': 'propiedades-slider'})\n",
    "        neighborhood = [\n",
    "            [k.text for k in p.find_all('p')] for t in table \\\n",
    "            for p in t.find_all('div')\\\n",
    "            if 'singleLineDots' in p['class']\n",
    "        ]\n",
    "        price = [p.text.split()[-1] for t in table \\\n",
    "                 for p in t.find_all('div') if 'precio' in p['class']]\n",
    "        desc = [[k.text for k in p.find_all('p')] for t in table \\\n",
    "                for p in t.find_all('div') if 'inDescription' in p['class']]\n",
    "        desc = [k[0] for k in desc]\n",
    "        details = [[d.find_all('span')[0].text for d in p.find_all('div')]\\\n",
    "                   for t in table for p in t.find_all('div')\\\n",
    "                   if 'contentIcons' in p['class']]\n",
    "        details = pd.DataFrame(details, columns=['rooms', 'bathrooms', 'area_m2'])\n",
    "        data_id = [k.get('data-id', '') for k in table]\n",
    "        data_idproject = [k.get('data-idproyecto', '') for k in table]\n",
    "        link = [url_base + k.find('a')['href'] for k in table]\n",
    "\n",
    "        df = pd.DataFrame(neighborhood, columns=['neighborhood', 'type'])\n",
    "        df['price'] = price\n",
    "        df['desc'] = desc\n",
    "        df['uris'] = link\n",
    "        df['id'] = data_id\n",
    "        df['idproject'] = data_idproject\n",
    "        df['idproject'] = index\n",
    "        df = pd.concat([details, df], axis=1)\n",
    "    except ValueError as e:\n",
    "        df = pd.DataFrame([])\n",
    "    \n",
    "    return df"
   ]
  },
  {
   "cell_type": "code",
   "execution_count": null,
   "metadata": {},
   "outputs": [],
   "source": [
    "nrange = np.arange(1, 941)\n",
    "indexs = np.random.permutation(nrange)\n",
    "resume = []\n",
    "for kidx in indexs:\n",
    "    resume.append(retrive_data(kidx))"
   ]
  },
  {
   "cell_type": "code",
   "execution_count": 7,
   "metadata": {},
   "outputs": [],
   "source": [
    "dataset = reduce(lambda x, y: pd.concat([x,y], axis=0), resume)\n",
    "dataset.reset_index(inplace=True, drop=True)"
   ]
  },
  {
   "cell_type": "code",
   "execution_count": 9,
   "metadata": {},
   "outputs": [
    {
     "data": {
      "text/plain": [
       "915"
      ]
     },
     "execution_count": 9,
     "metadata": {},
     "output_type": "execute_result"
    }
   ],
   "source": [
    "len(resume)"
   ]
  },
  {
   "cell_type": "code",
   "execution_count": 8,
   "metadata": {},
   "outputs": [
    {
     "data": {
      "text/html": [
       "<div>\n",
       "<style scoped>\n",
       "    .dataframe tbody tr th:only-of-type {\n",
       "        vertical-align: middle;\n",
       "    }\n",
       "\n",
       "    .dataframe tbody tr th {\n",
       "        vertical-align: top;\n",
       "    }\n",
       "\n",
       "    .dataframe thead th {\n",
       "        text-align: right;\n",
       "    }\n",
       "</style>\n",
       "<table border=\"1\" class=\"dataframe\">\n",
       "  <thead>\n",
       "    <tr style=\"text-align: right;\">\n",
       "      <th></th>\n",
       "      <th>rooms</th>\n",
       "      <th>bathrooms</th>\n",
       "      <th>area_m2</th>\n",
       "      <th>neighborhood</th>\n",
       "      <th>type</th>\n",
       "      <th>price</th>\n",
       "      <th>desc</th>\n",
       "      <th>uris</th>\n",
       "      <th>id</th>\n",
       "      <th>idproject</th>\n",
       "    </tr>\n",
       "  </thead>\n",
       "  <tbody>\n",
       "    <tr>\n",
       "      <th>count</th>\n",
       "      <td>25285</td>\n",
       "      <td>24527</td>\n",
       "      <td>24527</td>\n",
       "      <td>27450</td>\n",
       "      <td>27450</td>\n",
       "      <td>27450</td>\n",
       "      <td>27450</td>\n",
       "      <td>27450</td>\n",
       "      <td>27450</td>\n",
       "      <td>27450</td>\n",
       "    </tr>\n",
       "    <tr>\n",
       "      <th>unique</th>\n",
       "      <td>470</td>\n",
       "      <td>4</td>\n",
       "      <td>874</td>\n",
       "      <td>90</td>\n",
       "      <td>13</td>\n",
       "      <td>2239</td>\n",
       "      <td>24631</td>\n",
       "      <td>26058</td>\n",
       "      <td>26058</td>\n",
       "      <td>618</td>\n",
       "    </tr>\n",
       "    <tr>\n",
       "      <th>top</th>\n",
       "      <td>2</td>\n",
       "      <td>1</td>\n",
       "      <td>N/A</td>\n",
       "      <td>Pocitos</td>\n",
       "      <td>Apartamentos</td>\n",
       "      <td>120.000</td>\n",
       "      <td></td>\n",
       "      <td>https://www.infocasas.com.uy/cordn-sur-a-recic...</td>\n",
       "      <td>186014349</td>\n",
       "      <td></td>\n",
       "    </tr>\n",
       "    <tr>\n",
       "      <th>freq</th>\n",
       "      <td>7818</td>\n",
       "      <td>13093</td>\n",
       "      <td>697</td>\n",
       "      <td>4496</td>\n",
       "      <td>18539</td>\n",
       "      <td>355</td>\n",
       "      <td>444</td>\n",
       "      <td>2</td>\n",
       "      <td>2</td>\n",
       "      <td>26797</td>\n",
       "    </tr>\n",
       "  </tbody>\n",
       "</table>\n",
       "</div>"
      ],
      "text/plain": [
       "        rooms bathrooms area_m2 neighborhood          type    price   desc  \\\n",
       "count   25285     24527   24527        27450         27450    27450  27450   \n",
       "unique    470         4     874           90            13     2239  24631   \n",
       "top         2         1     N/A      Pocitos  Apartamentos  120.000          \n",
       "freq     7818     13093     697         4496         18539      355    444   \n",
       "\n",
       "                                                     uris         id idproject  \n",
       "count                                               27450      27450     27450  \n",
       "unique                                              26058      26058       618  \n",
       "top     https://www.infocasas.com.uy/cordn-sur-a-recic...  186014349            \n",
       "freq                                                    2          2     26797  "
      ]
     },
     "execution_count": 8,
     "metadata": {},
     "output_type": "execute_result"
    }
   ],
   "source": [
    "dataset.describe()"
   ]
  },
  {
   "cell_type": "code",
   "execution_count": 10,
   "metadata": {},
   "outputs": [],
   "source": [
    "dataset.to_csv('data/raw_houses_dataset_{}.csv'.format(datetime.today()), index=False)"
   ]
  },
  {
   "cell_type": "code",
   "execution_count": 11,
   "metadata": {},
   "outputs": [],
   "source": [
    "area = (dataset['area_m2'].str.replace('.', ''))\n",
    "area[area == 'N/A'] = None\n",
    "area = area.astype(float)"
   ]
  },
  {
   "cell_type": "code",
   "execution_count": 12,
   "metadata": {},
   "outputs": [],
   "source": [
    "price = dataset['price'].str.replace('.', '')\n",
    "price[price == 'Consultar'] = None\n",
    "price[price == 'Precio'] = None\n",
    "price = price.astype(float)"
   ]
  },
  {
   "cell_type": "code",
   "execution_count": 13,
   "metadata": {},
   "outputs": [],
   "source": [
    "rooms = dataset['rooms'].str.replace('+', '')\n",
    "rooms[rooms == 'Dormitorios'] = None\n",
    "rooms[rooms == 'Monoambiente'] = 0\n",
    "rooms = rooms.astype(float)\n"
   ]
  },
  {
   "cell_type": "code",
   "execution_count": 14,
   "metadata": {},
   "outputs": [],
   "source": [
    "bathrooms = dataset['bathrooms'].str.replace('+', '')\n",
    "bathrooms[bathrooms == 'Baños'] = None\n",
    "bathrooms = bathrooms.astype(float)"
   ]
  },
  {
   "cell_type": "code",
   "execution_count": null,
   "metadata": {},
   "outputs": [],
   "source": [
    "mask = area<5000"
   ]
  },
  {
   "cell_type": "code",
   "execution_count": 15,
   "metadata": {},
   "outputs": [],
   "source": [
    "dataset.loc[:, 'rooms'] = rooms\n",
    "dataset.loc[:, 'bathrooms'] = bathrooms\n",
    "dataset.loc[:, 'area_m2'] = area\n",
    "dataset.loc[:, 'price'] = price"
   ]
  },
  {
   "cell_type": "code",
   "execution_count": 16,
   "metadata": {},
   "outputs": [],
   "source": [
    "dataset.to_csv('data/dataset_houses_{}.csv'.format(datetime.today()), index=False)"
   ]
  }
 ],
 "metadata": {
  "hide_input": false,
  "kernelspec": {
   "display_name": "Python [conda env:scraper]",
   "language": "python",
   "name": "conda-env-scraper-py"
  },
  "language_info": {
   "codemirror_mode": {
    "name": "ipython",
    "version": 3
   },
   "file_extension": ".py",
   "mimetype": "text/x-python",
   "name": "python",
   "nbconvert_exporter": "python",
   "pygments_lexer": "ipython3",
   "version": "3.7.3"
  },
  "toc": {
   "base_numbering": 1,
   "nav_menu": {},
   "number_sections": true,
   "sideBar": true,
   "skip_h1_title": false,
   "title_cell": "Table of Contents",
   "title_sidebar": "Contents",
   "toc_cell": false,
   "toc_position": {},
   "toc_section_display": true,
   "toc_window_display": false
  },
  "varInspector": {
   "cols": {
    "lenName": 16,
    "lenType": 16,
    "lenVar": 40
   },
   "kernels_config": {
    "python": {
     "delete_cmd_postfix": "",
     "delete_cmd_prefix": "del ",
     "library": "var_list.py",
     "varRefreshCmd": "print(var_dic_list())"
    },
    "r": {
     "delete_cmd_postfix": ") ",
     "delete_cmd_prefix": "rm(",
     "library": "var_list.r",
     "varRefreshCmd": "cat(var_dic_list()) "
    }
   },
   "types_to_exclude": [
    "module",
    "function",
    "builtin_function_or_method",
    "instance",
    "_Feature"
   ],
   "window_display": false
  }
 },
 "nbformat": 4,
 "nbformat_minor": 2
}
