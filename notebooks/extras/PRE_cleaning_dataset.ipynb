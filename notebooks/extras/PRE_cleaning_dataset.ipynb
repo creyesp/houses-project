{
 "cells": [
  {
   "cell_type": "code",
   "execution_count": 1,
   "metadata": {},
   "outputs": [],
   "source": [
    "from functools import reduce\n",
    "import os \n",
    "from unidecode import unidecode\n",
    "\n",
    "import pandas as pd\n",
    "import pandas_profiling\n",
    "import matplotlib.pyplot as plt\n",
    "\n",
    "%matplotlib notebook"
   ]
  },
  {
   "cell_type": "code",
   "execution_count": 4,
   "metadata": {},
   "outputs": [],
   "source": [
    "source_file = '../data/raw/raw_details_home_for_sale_dataset_2019-07-25.csv'\n",
    "output_file = '../data/preprocessed/details_home_for_sale_dataset_2019-07-25.csv'\n",
    "df = pd.read_csv(source_file)"
   ]
  },
  {
   "cell_type": "code",
   "execution_count": 5,
   "metadata": {},
   "outputs": [],
   "source": [
    "numerical = df.select_dtypes(exclude='object')\n",
    "strings = df.select_dtypes(include='object').fillna('').apply(lambda x: x.str.strip())\n",
    "string_mask = strings.apply(lambda x: x.str.match('(^[Pregúntale!]+$)'))\n",
    "strings[string_mask] = ''\n",
    "\n",
    "df = pd.concat([numerical, strings], axis=1, sort=False)\n",
    "df = df.loc[:, df.any()]\n",
    "df.columns = [unidecode(k).lower().replace('.','') for k in df.columns.tolist()]\n",
    "df_clean = df.copy()"
   ]
  },
  {
   "cell_type": "code",
   "execution_count": null,
   "metadata": {},
   "outputs": [],
   "source": []
  },
  {
   "cell_type": "code",
   "execution_count": 6,
   "metadata": {},
   "outputs": [],
   "source": [
    "# Boolean features\n",
    "bool_features = [\n",
    "    'acepta_permuta', 'financia', 'oficina', 'penthouse', 'vista_al_mar', 'vivienda_social',]\n",
    "for key in bool_features:\n",
    "    df_clean.loc[:, key] = df.loc[:, key].str.lower().map({'si': 1, 'no': 0})\n",
    "\n",
    "# Numeric features\n",
    "df_clean.loc[:, 'ambientes'] = df.loc[:, 'ambientes'].str.extract('(\\d)\\.?')[0]\n",
    "df_clean.loc[:, 'ambientes_extra'] = df.loc[:, 'ambientes'].str.match('(\\d\\.?\\+)')\n",
    "\n",
    "df_clean.loc[:, 'banos'] = df.loc[:, 'banos'].str.extract('(\\d)\\.?')[0]\n",
    "df_clean.loc[:, 'banos_extra'] = df.loc[:, 'banos'].str.match('(\\d\\.?\\+)')\n",
    "\n",
    "df_clean.loc[:, 'garajes'] = df.loc[:, 'garajes'].str.extract('([0-9]+)')[0]\n",
    "df_clean.loc[:, 'garajes_extra'] = df.loc[:, 'garajes'].str.match('(\\d\\+)')\n",
    "\n",
    "df_clean.loc[:, 'ano_de_construccion'] = df.loc[:, 'ano_de_construccion'].str.extract('(\\d{4})')[0]\n",
    "\n",
    "rooms = df.loc[:, 'dormitorios'].str.extract('(\\d)')[0]\n",
    "rooms_mask = df.loc[:, 'dormitorios'].str.lower().str.match('monoambiente')\n",
    "rooms[rooms_mask] = '0'\n",
    "df_clean.loc[:, 'dormitorios'] = rooms\n",
    "df_clean.loc[:, 'dormitorios_extra'] = df.loc[:, 'dormitorios'].str.match('(\\d\\+)')\n",
    "\n",
    "floor = df.loc[:, 'piso'].str.extract('([0-9]+)\\.?')[0]\n",
    "floor_mask = df.loc[:, 'piso'].str.lower().str.match('planta baja')\n",
    "floor[floor_mask] = '0'\n",
    "df_clean.loc[:, 'piso'] = floor\n",
    "\n",
    "df_clean.loc[:, 'plantas'] = df.loc[:, 'plantas'].str.extract('([0-9]+)\\.?')[0]\n",
    "df_clean.loc[:, 'plantas_extra'] = df.loc[:, 'plantas'].str.lower().str.contains('más')\n",
    "\n",
    "df_clean.loc[:, 'price'] = df.loc[:, 'price'].str.extract('([0-9\\.]+)')[0].str.replace('.','')\n",
    "df_clean.loc[:, 'price_cur'] = df.loc[:, 'price'].str.extract('([\\$|UI|U\\$S]+)')\n",
    "\n",
    "df_clean.loc[:, 'gastos_comunes'] = df.loc[:, 'gastos_comunes'].str.extract('([0-9\\.]+)')[0].str.replace('.','')\n",
    "df_clean.loc[:, 'gastos_comunes_cur'] = df.loc[:, 'gastos_comunes'].str.extract('([\\$|UI|U\\$S]+)')\n",
    "\n",
    "# FIXME: regex make error when number is 100.0 only work with this format 1.000.000\n",
    "dist_mar = df.loc[:, 'distancia_al_mar'].str.extract('([0-9\\.?]+)', ).apply(lambda x: x.str.replace('.', ''))\n",
    "dist_mar_mask = df.loc[:, 'distancia_al_mar'].str.lower().str.match('frente')\n",
    "dist_mar[dist_mar_mask] = '0'\n",
    "df_clean.loc[:, 'distancia_al_mar'] = dist_mar[0]\n",
    "\n",
    "# String number to float\n",
    "to_numeric = ['ambientes', 'banos', 'garajes', 'ano_de_construccion', 'distancia_al_mar',\n",
    "              'dormitorios', 'piso', 'plantas', 'price', 'gastos_comunes',]\n",
    "df_to_numeric = df_clean[to_numeric]\n",
    "df_clean.loc[:, to_numeric] = df_to_numeric.astype(float)"
   ]
  },
  {
   "cell_type": "code",
   "execution_count": null,
   "metadata": {},
   "outputs": [],
   "source": []
  },
  {
   "cell_type": "code",
   "execution_count": 8,
   "metadata": {},
   "outputs": [],
   "source": [
    "sorted_col = df_clean.columns.sort_values()\n",
    "df_clean[sorted_col].to_csv(output_file, index=False)"
   ]
  }
 ],
 "metadata": {
  "kernelspec": {
   "display_name": "Python 3",
   "language": "python",
   "name": "python3"
  },
  "language_info": {
   "codemirror_mode": {
    "name": "ipython",
    "version": 3
   },
   "file_extension": ".py",
   "mimetype": "text/x-python",
   "name": "python",
   "nbconvert_exporter": "python",
   "pygments_lexer": "ipython3",
   "version": "3.7.1"
  },
  "toc": {
   "base_numbering": 1,
   "nav_menu": {},
   "number_sections": true,
   "sideBar": true,
   "skip_h1_title": false,
   "title_cell": "Table of Contents",
   "title_sidebar": "Contents",
   "toc_cell": false,
   "toc_position": {},
   "toc_section_display": true,
   "toc_window_display": false
  },
  "varInspector": {
   "cols": {
    "lenName": 16,
    "lenType": 16,
    "lenVar": 40
   },
   "kernels_config": {
    "python": {
     "delete_cmd_postfix": "",
     "delete_cmd_prefix": "del ",
     "library": "var_list.py",
     "varRefreshCmd": "print(var_dic_list())"
    },
    "r": {
     "delete_cmd_postfix": ") ",
     "delete_cmd_prefix": "rm(",
     "library": "var_list.r",
     "varRefreshCmd": "cat(var_dic_list()) "
    }
   },
   "types_to_exclude": [
    "module",
    "function",
    "builtin_function_or_method",
    "instance",
    "_Feature"
   ],
   "window_display": false
  }
 },
 "nbformat": 4,
 "nbformat_minor": 2
}
