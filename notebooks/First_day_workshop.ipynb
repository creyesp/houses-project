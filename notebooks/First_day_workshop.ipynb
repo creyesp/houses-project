{
 "cells": [
  {
   "cell_type": "markdown",
   "metadata": {},
   "source": [
    "# Data Science Hands-on\n",
    "\n",
    "**First day**     \n",
    "\n",
    "At the end of this day we \n",
    "- Explore our dataset\n",
    "- Make some plots to check different variables\n",
    "- Select interesting features to apply ML algorithms\n",
    "- Fill missing values\n",
    "- Transform some feature to more infomative variables\n",
    "\n",
    "[Pandas cheatsheet](https://github.com/creyesp/houses-project/blob/add-binder-configs/pandas_cheatsheet.md)\n"
   ]
  },
  {
   "cell_type": "markdown",
   "metadata": {
    "slideshow": {
     "slide_type": "slide"
    }
   },
   "source": [
    "## What are some questions that I can answer with this dataset?\n",
    "Understand your dataset is the fist step of any datascience project. You need to know the limitations and make a list of posible question that could be answering with this dataset. These question can reduce, expande or modify the scope of our project.\n",
    "\n",
    "examples: \n",
    "- We could have great ideas but poor data\n",
    "- We could have incorect question for our dataset\n",
    "- We could have a rich dataset ....\n",
    "\n",
    "**Data**: \n",
    "- We have a set of features of houses for sale in a specific time windows.  \n",
    "\n",
    "**Business question/objective**:\n",
    "- **New infocasas functionality**: Is it possible to offer an estimated price for selling given house characteristics (uploaded by owner in the webpage) without asking an appraiser? \n"
   ]
  },
  {
   "cell_type": "markdown",
   "metadata": {
    "slideshow": {
     "slide_type": "subslide"
    }
   },
   "source": [
    "# Exploratory data analysis\n",
    "- How many rows are in our dataset?\n",
    "- How many columns are in our dataset?\n",
    "- What data types are in the columns?\n",
    "- are there missing values in the dataset? Do we infer missing values? how?\n",
    "- are there outlier values? \n",
    "\n",
    "Data types:\n",
    "- **Numeric**:\n",
    "    - *Discrete*: variables that have finite posible values.\n",
    "    - *Continuous*:  variables that can have an infinite number of possible values\n",
    "- **Categorical, variables that have 2 or more possible values**:\n",
    "    - *Ordinal*: these values have a meaningful order or rank. Ex. marks, A, B, C\n",
    "    - *Nominal*: the order of those values have no meaning. Ex, names\n",
    "    - *Binary or Dichotomous*: only 2 posible values, 1/0\n",
    "- **Unstructured**:\n",
    "    - *text*"
   ]
  },
  {
   "cell_type": "code",
   "execution_count": null,
   "metadata": {
    "slideshow": {
     "slide_type": "skip"
    }
   },
   "outputs": [],
   "source": [
    "import numpy as np\n",
    "import pandas as pd\n",
    "import matplotlib.pyplot as plt\n",
    "import seaborn as sns\n",
    "\n",
    "# Custom module\n",
    "import handson\n",
    "\n",
    "%matplotlib notebook\n",
    "\n",
    "pd.options.display.float_format = '{:.2f}'.format\n",
    "pd.options.display.max_columns = None\n"
   ]
  },
  {
   "cell_type": "markdown",
   "metadata": {
    "slideshow": {
     "slide_type": "skip"
    }
   },
   "source": [
    "## Load dataset\n"
   ]
  },
  {
   "cell_type": "code",
   "execution_count": null,
   "metadata": {
    "slideshow": {
     "slide_type": "slide"
    }
   },
   "outputs": [],
   "source": [
    "path_file = '../data/preprocessed/dataset.csv'\n",
    "\n",
    "# Read csv file and assign to df variable\n",
    "df = pd.read_csv(path_file)\n",
    "df = df.loc[df['precio']< 1.5e6, :]"
   ]
  },
  {
   "cell_type": "markdown",
   "metadata": {},
   "source": [
    "## General information about our dataset"
   ]
  },
  {
   "cell_type": "code",
   "execution_count": null,
   "metadata": {},
   "outputs": [],
   "source": [
    "# Check the neme of columns (features)\n",
    "df.columns"
   ]
  },
  {
   "cell_type": "code",
   "execution_count": null,
   "metadata": {},
   "outputs": [],
   "source": [
    "# Look at the first 5 row of our dataset\n",
    "df.head()"
   ]
  },
  {
   "cell_type": "code",
   "execution_count": null,
   "metadata": {},
   "outputs": [],
   "source": [
    "# Get number of rows and columns\n",
    "df.shape"
   ]
  },
  {
   "cell_type": "code",
   "execution_count": null,
   "metadata": {},
   "outputs": [],
   "source": [
    "# Get data types of columns\n",
    "df.dtypes"
   ]
  },
  {
   "cell_type": "code",
   "execution_count": null,
   "metadata": {},
   "outputs": [],
   "source": [
    "# Check if there are missing values in each columns\n",
    "df.isnull().any()"
   ]
  },
  {
   "cell_type": "code",
   "execution_count": null,
   "metadata": {},
   "outputs": [],
   "source": [
    "# Get percentage of missing values from each columns\n",
    "df.notnull().sum() / df.shape[0] * 100"
   ]
  },
  {
   "cell_type": "code",
   "execution_count": null,
   "metadata": {},
   "outputs": [],
   "source": [
    "# Get number of unique values for each feature\n",
    "df.nunique()"
   ]
  },
  {
   "cell_type": "markdown",
   "metadata": {},
   "source": [
    "## Statistic resume\n",
    "### Numeric variables\n",
    "Look at statistic info for each columns and check which columns has unusual behavior. \n",
    "- Are all positive values?\n",
    "- is standard deviation different to zero?\n",
    "- How long is percetil 75 from max?"
   ]
  },
  {
   "cell_type": "code",
   "execution_count": null,
   "metadata": {},
   "outputs": [],
   "source": [
    "# Get a resume of numerical columns from our dataset\n",
    "df.describe()"
   ]
  },
  {
   "cell_type": "code",
   "execution_count": null,
   "metadata": {},
   "outputs": [],
   "source": [
    "df.quantile([0.01, 0.95]).transpose()"
   ]
  },
  {
   "cell_type": "markdown",
   "metadata": {},
   "source": [
    "### Categeries resume"
   ]
  },
  {
   "cell_type": "code",
   "execution_count": null,
   "metadata": {},
   "outputs": [],
   "source": [
    "# Get a resume of no numerical columns from our dataset. \n",
    "# Hint: use include='O' as argument in resume function\n",
    "\n",
    "df.describe(include='O')"
   ]
  },
  {
   "cell_type": "markdown",
   "metadata": {},
   "source": [
    "\n",
    "## Visualization\n",
    "[Seaborn](https://seaborn.pydata.org/) is a very useful package to make EDA (built on [Matplotlib](https://matplotlib.org/)), it's a statistical data visualization package and it's easy to create univarible and bivarible plots.\n",
    "<img src=\"img/seaborn.png\" />\n",
    "\n",
    "### Univarible plots\n",
    "- Distribution\n",
    "- Histograms\n",
    "- Boxplots\n"
   ]
  },
  {
   "cell_type": "code",
   "execution_count": null,
   "metadata": {},
   "outputs": [],
   "source": [
    "# Plot price distribution\n",
    "f, ax = plt.subplots()\n",
    "sns.distplot(df['precio'].dropna(), ax=ax)\n"
   ]
  },
  {
   "cell_type": "code",
   "execution_count": null,
   "metadata": {
    "scrolled": false
   },
   "outputs": [],
   "source": [
    "# Plot boxplots of price grop by some categorical feature \n",
    "# ex. estado, barrio, banos, dormitorios, tipo_propiedad\n",
    "\n",
    "f, ax = plt.subplots(figsize=(5, 5))\n",
    "sns.boxplot(x='banos', y='precio', data=df)\n",
    "\n",
    "f, ax = plt.subplots(figsize=(5, 5))\n",
    "sns.boxplot(x='dormitorios', y='precio', data=df)\n",
    "\n",
    "f, ax = plt.subplots(figsize=(5, 5))\n",
    "sns.boxplot(y='barrio', x='precio', orient='h', data=df)\n",
    "\n",
    "f, ax = plt.subplots(figsize=(10, 5))\n",
    "sns.boxplot(x='estado', y='precio', data=df, ax=ax)\n",
    "\n",
    "f, ax = plt.subplots(figsize=(10, 5))\n",
    "sns.boxplot(y='tipo_propiedad', x='precio', orient='h', data=df)"
   ]
  },
  {
   "cell_type": "code",
   "execution_count": null,
   "metadata": {},
   "outputs": [],
   "source": [
    "# Plot histogram of barrio feature\n",
    "f, ax = plt.subplots()\n",
    "df['barrio'].value_counts().plot(kind='bar', ax=ax)\n"
   ]
  },
  {
   "cell_type": "markdown",
   "metadata": {},
   "source": [
    "### bivarible plots\n",
    "- Scatter\n",
    "- Pairplot"
   ]
  },
  {
   "cell_type": "code",
   "execution_count": null,
   "metadata": {},
   "outputs": [],
   "source": [
    "f, ax = plt.subplots()\n",
    "sns.scatterplot(x='ano_de_construccion', y='precio', data=df, ax=ax)"
   ]
  },
  {
   "cell_type": "code",
   "execution_count": null,
   "metadata": {},
   "outputs": [],
   "source": [
    "sns.relplot(\n",
    "    x=\"m2_edificados\", \n",
    "    y=\"precio\",\n",
    "    col=\"banos\",\n",
    "    col_wrap=2,\n",
    "    hue='dormitorios',\n",
    "    data=df[df['m2_edificados'] > 10],\n",
    "\n",
    ")"
   ]
  },
  {
   "cell_type": "code",
   "execution_count": null,
   "metadata": {},
   "outputs": [],
   "source": [
    "features = [\n",
    "    'banos',\n",
    "    'dormitorios',\n",
    "    'garajes',\n",
    "    'gastos_comunes',\n",
    "    'm2_de_la_terraza',\n",
    "    'm2_del_terreno',\n",
    "    'm2_edificados',\n",
    "    'plantas',\n",
    "    'precio',\n",
    "]\n",
    "sns.pairplot(df[features]);\n"
   ]
  },
  {
   "attachments": {},
   "cell_type": "markdown",
   "metadata": {},
   "source": [
    "# Data prepratation\n",
    "\n",
    "**\"The quality and quantity of data that you gather will directly determine how good your predictive model can be.\"**\n",
    "\n",
    "- Select relevant features\n",
    "- Clean and Missing values imputetion\n",
    "\n",
    "\n",
    "\n",
    "\n",
    "<table>\n",
    "  <tr>\n",
    "    <th>Feature selection</th>\n",
    "    <th>Filling missing values</th>\n",
    "  </tr>\n",
    "  <tr>\n",
    "    <th><img src=\"http://dkopczyk.quantee.co.uk/wp-content/uploads/2018/10/feat_sel-600x265.png\" /></th>\n",
    "    <th><img src=\"https://i.stack.imgur.com/E4mhD.png\" /></th>\n",
    "</table>\n"
   ]
  },
  {
   "cell_type": "markdown",
   "metadata": {},
   "source": [
    "## Select feature for analysis\n",
    "Check dataset [documentation](https://github.com/creyesp/houses-project/blob/add-binder-configs/data/dataset_description.md) to choice the most interesting feature to answer our questions."
   ]
  },
  {
   "cell_type": "code",
   "execution_count": null,
   "metadata": {},
   "outputs": [],
   "source": [
    "columns_to_analyze = [\n",
    "    'ano_de_construccion', \n",
    "    'banos',\n",
    "    'banos_extra',\n",
    "    'descripcion',\n",
    "    'disposicion',\n",
    "    'distancia_al_mar',\n",
    "    'dormitorios',\n",
    "    'dormitorios_extra',\n",
    "    'estado',\n",
    "    'extra',\n",
    "    'garajes',\n",
    "    'garajes_extra',\n",
    "    'gastos_comunes',\n",
    "    'tipo_de_publicacion',\n",
    "    'm2_de_la_terraza',\n",
    "    'm2_del_terreno',\n",
    "    'm2_edificados',\n",
    "    'oficina',\n",
    "    'penthouse',\n",
    "    'plantas',\n",
    "    'plantas_extra',\n",
    "    'precio',\n",
    "    'sobre',\n",
    "    'tipo_propiedad',\n",
    "    'vista_al_mar',\n",
    "    'vivienda_social',\n",
    "    'barrio', \n",
    "]"
   ]
  },
  {
   "cell_type": "markdown",
   "metadata": {},
   "source": [
    "## Split dataset in numerical and string variables\n",
    "Pandas has a method to split dataset group by dtypes:\n",
    "- **'object'**: To select strings you must use the object dtype\n",
    "- **'number'**: To select all numeric types\n",
    "- **'category'**: To select Pandas categorical dtypes\n",
    "- **'datetime'**: To select datetimes\n",
    "- **'timedelta'**: To select timedeltas"
   ]
  },
  {
   "cell_type": "code",
   "execution_count": null,
   "metadata": {},
   "outputs": [],
   "source": [
    "df_num = df[columns_to_analyze].select_dtypes(include='number')\n",
    "df_obj = df[columns_to_analyze].select_dtypes(include='object')\n",
    "\n",
    "print('Numerical columns: {}\\n'.format(df_num.columns.tolist()))\n",
    "print('Caterorial columns: {}'.format(df_obj.columns.tolist()))"
   ]
  },
  {
   "cell_type": "markdown",
   "metadata": {},
   "source": [
    "## Missing values imputation\n",
    "Some features have only 1 valid value and the rest of the values are Nan (Not a number), ex. \"oficina\" column. In this case we can infer that missing value is the opossite value. \n",
    "- **Look at what feature we can replace Nan values with 0**.\n",
    "\n",
    "There are other features that nan values should be replacing with a especifi value, ex. \"plantas\", if a house or apartment hasn't a valid value then default value should be 1.\n",
    "- **Look at what feature we can replace Nan values with especific values**."
   ]
  },
  {
   "cell_type": "code",
   "execution_count": null,
   "metadata": {},
   "outputs": [],
   "source": [
    "# Fill missing values with zero\n",
    "fill_zero_col = [\n",
    "    'm2_de_la_terraza',\n",
    "    'vivienda_social',\n",
    "    'gastos_comunes',\n",
    "    'garajes',\n",
    "    'garajes_extra',\n",
    "    'plantas_extra',\n",
    "    'penthouse',\n",
    "    'oficina',\n",
    "]\n",
    "df_num[fill_zero_col].fillna(0, inplace=True)\n",
    "\n",
    "# Fill missing values with 1\n",
    "df_num['plantas'].fillna(1, inplace=True)"
   ]
  },
  {
   "cell_type": "markdown",
   "metadata": {},
   "source": [
    "We can infer some values of a column from other column, for example we can fill nan values in \"m2_del_terreno\" from \"m2_edificados\".\n",
    "- **Select nan values from  \"m2_del_terreno\" and fill it with \"m2_edificados\".**"
   ]
  },
  {
   "cell_type": "code",
   "execution_count": null,
   "metadata": {},
   "outputs": [],
   "source": [
    "# Fill missing value usings other columns\n",
    "mask_m2_terreno = df_num['m2_del_terreno'].isna()\n",
    "df_num.loc[mask_m2_terreno, 'm2_del_terreno'] = df_num.loc[mask_m2_terreno, 'm2_edificados']"
   ]
  },
  {
   "cell_type": "markdown",
   "metadata": {},
   "source": [
    "Also we can use some statistic metrics to fill missing values, like mean, median, mode, etc.\n",
    "- **Compute the median of \"m2_edificados\" and fill nan values with this result.**"
   ]
  },
  {
   "cell_type": "code",
   "execution_count": null,
   "metadata": {},
   "outputs": [],
   "source": [
    "df_num['m2_edificados'].fillna(df_num['m2_edificados'].median(), inplace=True)"
   ]
  },
  {
   "cell_type": "markdown",
   "metadata": {},
   "source": [
    "For categorical feature we can add a new category to fill missing values\n",
    "- **Replace nan values with a defaul category for following feature:**\n",
    "    - \"barrio\"\n",
    "    - \"disposicion\"\n",
    "    - \"tipo_propiedad\""
   ]
  },
  {
   "cell_type": "code",
   "execution_count": null,
   "metadata": {},
   "outputs": [],
   "source": [
    "# Fill missing categories\n",
    "df_obj['barrio'].fillna('desconocido', inplace=True)\n",
    "df_obj['disposicion'].fillna('otro', inplace=True)\n",
    "df_obj['tipo_propiedad'].fillna('otros', inplace=True)"
   ]
  },
  {
   "cell_type": "markdown",
   "metadata": {},
   "source": [
    " ## Feature transformation\n",
    " "
   ]
  },
  {
   "cell_type": "markdown",
   "metadata": {},
   "source": [
    "We can create new features applying some functions or filters to transform them and get a more informative features. Apply the following transformation:\n",
    "- **Create a binary feature called \"cerca_rambla\" which is 1 when \"distancia_al_mar\" < 1000 or \"vista_al_mar\" is 1, in other case set it to 0.**\n",
    "- **Create a binary feature called \"m2_index\" which is the ratio between \"m2_edificados\" and \"m2_del_terreno\"**\n",
    "- **Create a binary feature called \"es_casa\" which is 1 if \"tipo_propiedad\" == 'casas' and 0 is \"tipo_propiedad\" == 'apartamentos'.**\n",
    "- **Create a binary feature called \"parrilero\" if \"extra\" feature contain 'parrillero'**"
   ]
  },
  {
   "cell_type": "code",
   "execution_count": null,
   "metadata": {},
   "outputs": [],
   "source": [
    "df_num['cerca_rambla'] = (df_num['distancia_al_mar'] <= 1000) | (df_num['vista_al_mar'] ).astype(float)\n",
    "\n",
    "df_num['m2_index'] = df_num['m2_edificados']/df_num['m2_del_terreno']\n",
    "\n",
    "df_num['es_casa'] = df_obj['tipo_propiedad'].map({'casas':1, 'apartamentos': 0})\n",
    "\n",
    "df_num['parrilero'] = df_obj['extra'].str.contains('parrillero').fillna(False)\n"
   ]
  },
  {
   "cell_type": "markdown",
   "metadata": {},
   "source": [
    "Some categorical features are ordinal, then we can map them to a numerical values in a especific order\n",
    "- **Create a dictionary with all posible values of \"estado\" feature and assigne a numerical value, where min value is the worse status and the max value is the best status of properties. Then map these values to a \"estado\" feature.**"
   ]
  },
  {
   "cell_type": "code",
   "execution_count": null,
   "metadata": {},
   "outputs": [],
   "source": [
    "# Categorical transformation\n",
    "map_status = {\n",
    "    'en construccion': 3,\n",
    "    'a estrenar': 3,\n",
    "    'excelente estado': 3,\n",
    "    'buen estado': 2,\n",
    "    'reciclada': 2,\n",
    "    'requiere mantenimiento': 1,\n",
    "    'a reciclar': 0,\n",
    "#     '': np.nan,\n",
    "}\n",
    "df_num['estado'] = df_obj['estado'].map(map_status)\n",
    "\n"
   ]
  },
  {
   "attachments": {},
   "cell_type": "markdown",
   "metadata": {},
   "source": [
    "One useful transformation is Pareto Rule, it's say that 20% of input has the 80% of output. In our case \"barrio\" \n",
    "<img src=\"http://crmneeds.com/wp-content/uploads/2016/10/Pareto-80-20-rule-for-sales-and-customer-relationship-CRMneeds.com-CRM-Implementation-Consultants-768x405.jpg\" width=\"50%\"/>"
   ]
  },
  {
   "cell_type": "code",
   "execution_count": 230,
   "metadata": {},
   "outputs": [
    {
     "data": {
      "application/javascript": [
       "/* Put everything inside the global mpl namespace */\n",
       "window.mpl = {};\n",
       "\n",
       "\n",
       "mpl.get_websocket_type = function() {\n",
       "    if (typeof(WebSocket) !== 'undefined') {\n",
       "        return WebSocket;\n",
       "    } else if (typeof(MozWebSocket) !== 'undefined') {\n",
       "        return MozWebSocket;\n",
       "    } else {\n",
       "        alert('Your browser does not have WebSocket support. ' +\n",
       "              'Please try Chrome, Safari or Firefox ≥ 6. ' +\n",
       "              'Firefox 4 and 5 are also supported but you ' +\n",
       "              'have to enable WebSockets in about:config.');\n",
       "    };\n",
       "}\n",
       "\n",
       "mpl.figure = function(figure_id, websocket, ondownload, parent_element) {\n",
       "    this.id = figure_id;\n",
       "\n",
       "    this.ws = websocket;\n",
       "\n",
       "    this.supports_binary = (this.ws.binaryType != undefined);\n",
       "\n",
       "    if (!this.supports_binary) {\n",
       "        var warnings = document.getElementById(\"mpl-warnings\");\n",
       "        if (warnings) {\n",
       "            warnings.style.display = 'block';\n",
       "            warnings.textContent = (\n",
       "                \"This browser does not support binary websocket messages. \" +\n",
       "                    \"Performance may be slow.\");\n",
       "        }\n",
       "    }\n",
       "\n",
       "    this.imageObj = new Image();\n",
       "\n",
       "    this.context = undefined;\n",
       "    this.message = undefined;\n",
       "    this.canvas = undefined;\n",
       "    this.rubberband_canvas = undefined;\n",
       "    this.rubberband_context = undefined;\n",
       "    this.format_dropdown = undefined;\n",
       "\n",
       "    this.image_mode = 'full';\n",
       "\n",
       "    this.root = $('<div/>');\n",
       "    this._root_extra_style(this.root)\n",
       "    this.root.attr('style', 'display: inline-block');\n",
       "\n",
       "    $(parent_element).append(this.root);\n",
       "\n",
       "    this._init_header(this);\n",
       "    this._init_canvas(this);\n",
       "    this._init_toolbar(this);\n",
       "\n",
       "    var fig = this;\n",
       "\n",
       "    this.waiting = false;\n",
       "\n",
       "    this.ws.onopen =  function () {\n",
       "            fig.send_message(\"supports_binary\", {value: fig.supports_binary});\n",
       "            fig.send_message(\"send_image_mode\", {});\n",
       "            if (mpl.ratio != 1) {\n",
       "                fig.send_message(\"set_dpi_ratio\", {'dpi_ratio': mpl.ratio});\n",
       "            }\n",
       "            fig.send_message(\"refresh\", {});\n",
       "        }\n",
       "\n",
       "    this.imageObj.onload = function() {\n",
       "            if (fig.image_mode == 'full') {\n",
       "                // Full images could contain transparency (where diff images\n",
       "                // almost always do), so we need to clear the canvas so that\n",
       "                // there is no ghosting.\n",
       "                fig.context.clearRect(0, 0, fig.canvas.width, fig.canvas.height);\n",
       "            }\n",
       "            fig.context.drawImage(fig.imageObj, 0, 0);\n",
       "        };\n",
       "\n",
       "    this.imageObj.onunload = function() {\n",
       "        fig.ws.close();\n",
       "    }\n",
       "\n",
       "    this.ws.onmessage = this._make_on_message_function(this);\n",
       "\n",
       "    this.ondownload = ondownload;\n",
       "}\n",
       "\n",
       "mpl.figure.prototype._init_header = function() {\n",
       "    var titlebar = $(\n",
       "        '<div class=\"ui-dialog-titlebar ui-widget-header ui-corner-all ' +\n",
       "        'ui-helper-clearfix\"/>');\n",
       "    var titletext = $(\n",
       "        '<div class=\"ui-dialog-title\" style=\"width: 100%; ' +\n",
       "        'text-align: center; padding: 3px;\"/>');\n",
       "    titlebar.append(titletext)\n",
       "    this.root.append(titlebar);\n",
       "    this.header = titletext[0];\n",
       "}\n",
       "\n",
       "\n",
       "\n",
       "mpl.figure.prototype._canvas_extra_style = function(canvas_div) {\n",
       "\n",
       "}\n",
       "\n",
       "\n",
       "mpl.figure.prototype._root_extra_style = function(canvas_div) {\n",
       "\n",
       "}\n",
       "\n",
       "mpl.figure.prototype._init_canvas = function() {\n",
       "    var fig = this;\n",
       "\n",
       "    var canvas_div = $('<div/>');\n",
       "\n",
       "    canvas_div.attr('style', 'position: relative; clear: both; outline: 0');\n",
       "\n",
       "    function canvas_keyboard_event(event) {\n",
       "        return fig.key_event(event, event['data']);\n",
       "    }\n",
       "\n",
       "    canvas_div.keydown('key_press', canvas_keyboard_event);\n",
       "    canvas_div.keyup('key_release', canvas_keyboard_event);\n",
       "    this.canvas_div = canvas_div\n",
       "    this._canvas_extra_style(canvas_div)\n",
       "    this.root.append(canvas_div);\n",
       "\n",
       "    var canvas = $('<canvas/>');\n",
       "    canvas.addClass('mpl-canvas');\n",
       "    canvas.attr('style', \"left: 0; top: 0; z-index: 0; outline: 0\")\n",
       "\n",
       "    this.canvas = canvas[0];\n",
       "    this.context = canvas[0].getContext(\"2d\");\n",
       "\n",
       "    var backingStore = this.context.backingStorePixelRatio ||\n",
       "\tthis.context.webkitBackingStorePixelRatio ||\n",
       "\tthis.context.mozBackingStorePixelRatio ||\n",
       "\tthis.context.msBackingStorePixelRatio ||\n",
       "\tthis.context.oBackingStorePixelRatio ||\n",
       "\tthis.context.backingStorePixelRatio || 1;\n",
       "\n",
       "    mpl.ratio = (window.devicePixelRatio || 1) / backingStore;\n",
       "\n",
       "    var rubberband = $('<canvas/>');\n",
       "    rubberband.attr('style', \"position: absolute; left: 0; top: 0; z-index: 1;\")\n",
       "\n",
       "    var pass_mouse_events = true;\n",
       "\n",
       "    canvas_div.resizable({\n",
       "        start: function(event, ui) {\n",
       "            pass_mouse_events = false;\n",
       "        },\n",
       "        resize: function(event, ui) {\n",
       "            fig.request_resize(ui.size.width, ui.size.height);\n",
       "        },\n",
       "        stop: function(event, ui) {\n",
       "            pass_mouse_events = true;\n",
       "            fig.request_resize(ui.size.width, ui.size.height);\n",
       "        },\n",
       "    });\n",
       "\n",
       "    function mouse_event_fn(event) {\n",
       "        if (pass_mouse_events)\n",
       "            return fig.mouse_event(event, event['data']);\n",
       "    }\n",
       "\n",
       "    rubberband.mousedown('button_press', mouse_event_fn);\n",
       "    rubberband.mouseup('button_release', mouse_event_fn);\n",
       "    // Throttle sequential mouse events to 1 every 20ms.\n",
       "    rubberband.mousemove('motion_notify', mouse_event_fn);\n",
       "\n",
       "    rubberband.mouseenter('figure_enter', mouse_event_fn);\n",
       "    rubberband.mouseleave('figure_leave', mouse_event_fn);\n",
       "\n",
       "    canvas_div.on(\"wheel\", function (event) {\n",
       "        event = event.originalEvent;\n",
       "        event['data'] = 'scroll'\n",
       "        if (event.deltaY < 0) {\n",
       "            event.step = 1;\n",
       "        } else {\n",
       "            event.step = -1;\n",
       "        }\n",
       "        mouse_event_fn(event);\n",
       "    });\n",
       "\n",
       "    canvas_div.append(canvas);\n",
       "    canvas_div.append(rubberband);\n",
       "\n",
       "    this.rubberband = rubberband;\n",
       "    this.rubberband_canvas = rubberband[0];\n",
       "    this.rubberband_context = rubberband[0].getContext(\"2d\");\n",
       "    this.rubberband_context.strokeStyle = \"#000000\";\n",
       "\n",
       "    this._resize_canvas = function(width, height) {\n",
       "        // Keep the size of the canvas, canvas container, and rubber band\n",
       "        // canvas in synch.\n",
       "        canvas_div.css('width', width)\n",
       "        canvas_div.css('height', height)\n",
       "\n",
       "        canvas.attr('width', width * mpl.ratio);\n",
       "        canvas.attr('height', height * mpl.ratio);\n",
       "        canvas.attr('style', 'width: ' + width + 'px; height: ' + height + 'px;');\n",
       "\n",
       "        rubberband.attr('width', width);\n",
       "        rubberband.attr('height', height);\n",
       "    }\n",
       "\n",
       "    // Set the figure to an initial 600x600px, this will subsequently be updated\n",
       "    // upon first draw.\n",
       "    this._resize_canvas(600, 600);\n",
       "\n",
       "    // Disable right mouse context menu.\n",
       "    $(this.rubberband_canvas).bind(\"contextmenu\",function(e){\n",
       "        return false;\n",
       "    });\n",
       "\n",
       "    function set_focus () {\n",
       "        canvas.focus();\n",
       "        canvas_div.focus();\n",
       "    }\n",
       "\n",
       "    window.setTimeout(set_focus, 100);\n",
       "}\n",
       "\n",
       "mpl.figure.prototype._init_toolbar = function() {\n",
       "    var fig = this;\n",
       "\n",
       "    var nav_element = $('<div/>');\n",
       "    nav_element.attr('style', 'width: 100%');\n",
       "    this.root.append(nav_element);\n",
       "\n",
       "    // Define a callback function for later on.\n",
       "    function toolbar_event(event) {\n",
       "        return fig.toolbar_button_onclick(event['data']);\n",
       "    }\n",
       "    function toolbar_mouse_event(event) {\n",
       "        return fig.toolbar_button_onmouseover(event['data']);\n",
       "    }\n",
       "\n",
       "    for(var toolbar_ind in mpl.toolbar_items) {\n",
       "        var name = mpl.toolbar_items[toolbar_ind][0];\n",
       "        var tooltip = mpl.toolbar_items[toolbar_ind][1];\n",
       "        var image = mpl.toolbar_items[toolbar_ind][2];\n",
       "        var method_name = mpl.toolbar_items[toolbar_ind][3];\n",
       "\n",
       "        if (!name) {\n",
       "            // put a spacer in here.\n",
       "            continue;\n",
       "        }\n",
       "        var button = $('<button/>');\n",
       "        button.addClass('ui-button ui-widget ui-state-default ui-corner-all ' +\n",
       "                        'ui-button-icon-only');\n",
       "        button.attr('role', 'button');\n",
       "        button.attr('aria-disabled', 'false');\n",
       "        button.click(method_name, toolbar_event);\n",
       "        button.mouseover(tooltip, toolbar_mouse_event);\n",
       "\n",
       "        var icon_img = $('<span/>');\n",
       "        icon_img.addClass('ui-button-icon-primary ui-icon');\n",
       "        icon_img.addClass(image);\n",
       "        icon_img.addClass('ui-corner-all');\n",
       "\n",
       "        var tooltip_span = $('<span/>');\n",
       "        tooltip_span.addClass('ui-button-text');\n",
       "        tooltip_span.html(tooltip);\n",
       "\n",
       "        button.append(icon_img);\n",
       "        button.append(tooltip_span);\n",
       "\n",
       "        nav_element.append(button);\n",
       "    }\n",
       "\n",
       "    var fmt_picker_span = $('<span/>');\n",
       "\n",
       "    var fmt_picker = $('<select/>');\n",
       "    fmt_picker.addClass('mpl-toolbar-option ui-widget ui-widget-content');\n",
       "    fmt_picker_span.append(fmt_picker);\n",
       "    nav_element.append(fmt_picker_span);\n",
       "    this.format_dropdown = fmt_picker[0];\n",
       "\n",
       "    for (var ind in mpl.extensions) {\n",
       "        var fmt = mpl.extensions[ind];\n",
       "        var option = $(\n",
       "            '<option/>', {selected: fmt === mpl.default_extension}).html(fmt);\n",
       "        fmt_picker.append(option);\n",
       "    }\n",
       "\n",
       "    // Add hover states to the ui-buttons\n",
       "    $( \".ui-button\" ).hover(\n",
       "        function() { $(this).addClass(\"ui-state-hover\");},\n",
       "        function() { $(this).removeClass(\"ui-state-hover\");}\n",
       "    );\n",
       "\n",
       "    var status_bar = $('<span class=\"mpl-message\"/>');\n",
       "    nav_element.append(status_bar);\n",
       "    this.message = status_bar[0];\n",
       "}\n",
       "\n",
       "mpl.figure.prototype.request_resize = function(x_pixels, y_pixels) {\n",
       "    // Request matplotlib to resize the figure. Matplotlib will then trigger a resize in the client,\n",
       "    // which will in turn request a refresh of the image.\n",
       "    this.send_message('resize', {'width': x_pixels, 'height': y_pixels});\n",
       "}\n",
       "\n",
       "mpl.figure.prototype.send_message = function(type, properties) {\n",
       "    properties['type'] = type;\n",
       "    properties['figure_id'] = this.id;\n",
       "    this.ws.send(JSON.stringify(properties));\n",
       "}\n",
       "\n",
       "mpl.figure.prototype.send_draw_message = function() {\n",
       "    if (!this.waiting) {\n",
       "        this.waiting = true;\n",
       "        this.ws.send(JSON.stringify({type: \"draw\", figure_id: this.id}));\n",
       "    }\n",
       "}\n",
       "\n",
       "\n",
       "mpl.figure.prototype.handle_save = function(fig, msg) {\n",
       "    var format_dropdown = fig.format_dropdown;\n",
       "    var format = format_dropdown.options[format_dropdown.selectedIndex].value;\n",
       "    fig.ondownload(fig, format);\n",
       "}\n",
       "\n",
       "\n",
       "mpl.figure.prototype.handle_resize = function(fig, msg) {\n",
       "    var size = msg['size'];\n",
       "    if (size[0] != fig.canvas.width || size[1] != fig.canvas.height) {\n",
       "        fig._resize_canvas(size[0], size[1]);\n",
       "        fig.send_message(\"refresh\", {});\n",
       "    };\n",
       "}\n",
       "\n",
       "mpl.figure.prototype.handle_rubberband = function(fig, msg) {\n",
       "    var x0 = msg['x0'] / mpl.ratio;\n",
       "    var y0 = (fig.canvas.height - msg['y0']) / mpl.ratio;\n",
       "    var x1 = msg['x1'] / mpl.ratio;\n",
       "    var y1 = (fig.canvas.height - msg['y1']) / mpl.ratio;\n",
       "    x0 = Math.floor(x0) + 0.5;\n",
       "    y0 = Math.floor(y0) + 0.5;\n",
       "    x1 = Math.floor(x1) + 0.5;\n",
       "    y1 = Math.floor(y1) + 0.5;\n",
       "    var min_x = Math.min(x0, x1);\n",
       "    var min_y = Math.min(y0, y1);\n",
       "    var width = Math.abs(x1 - x0);\n",
       "    var height = Math.abs(y1 - y0);\n",
       "\n",
       "    fig.rubberband_context.clearRect(\n",
       "        0, 0, fig.canvas.width, fig.canvas.height);\n",
       "\n",
       "    fig.rubberband_context.strokeRect(min_x, min_y, width, height);\n",
       "}\n",
       "\n",
       "mpl.figure.prototype.handle_figure_label = function(fig, msg) {\n",
       "    // Updates the figure title.\n",
       "    fig.header.textContent = msg['label'];\n",
       "}\n",
       "\n",
       "mpl.figure.prototype.handle_cursor = function(fig, msg) {\n",
       "    var cursor = msg['cursor'];\n",
       "    switch(cursor)\n",
       "    {\n",
       "    case 0:\n",
       "        cursor = 'pointer';\n",
       "        break;\n",
       "    case 1:\n",
       "        cursor = 'default';\n",
       "        break;\n",
       "    case 2:\n",
       "        cursor = 'crosshair';\n",
       "        break;\n",
       "    case 3:\n",
       "        cursor = 'move';\n",
       "        break;\n",
       "    }\n",
       "    fig.rubberband_canvas.style.cursor = cursor;\n",
       "}\n",
       "\n",
       "mpl.figure.prototype.handle_message = function(fig, msg) {\n",
       "    fig.message.textContent = msg['message'];\n",
       "}\n",
       "\n",
       "mpl.figure.prototype.handle_draw = function(fig, msg) {\n",
       "    // Request the server to send over a new figure.\n",
       "    fig.send_draw_message();\n",
       "}\n",
       "\n",
       "mpl.figure.prototype.handle_image_mode = function(fig, msg) {\n",
       "    fig.image_mode = msg['mode'];\n",
       "}\n",
       "\n",
       "mpl.figure.prototype.updated_canvas_event = function() {\n",
       "    // Called whenever the canvas gets updated.\n",
       "    this.send_message(\"ack\", {});\n",
       "}\n",
       "\n",
       "// A function to construct a web socket function for onmessage handling.\n",
       "// Called in the figure constructor.\n",
       "mpl.figure.prototype._make_on_message_function = function(fig) {\n",
       "    return function socket_on_message(evt) {\n",
       "        if (evt.data instanceof Blob) {\n",
       "            /* FIXME: We get \"Resource interpreted as Image but\n",
       "             * transferred with MIME type text/plain:\" errors on\n",
       "             * Chrome.  But how to set the MIME type?  It doesn't seem\n",
       "             * to be part of the websocket stream */\n",
       "            evt.data.type = \"image/png\";\n",
       "\n",
       "            /* Free the memory for the previous frames */\n",
       "            if (fig.imageObj.src) {\n",
       "                (window.URL || window.webkitURL).revokeObjectURL(\n",
       "                    fig.imageObj.src);\n",
       "            }\n",
       "\n",
       "            fig.imageObj.src = (window.URL || window.webkitURL).createObjectURL(\n",
       "                evt.data);\n",
       "            fig.updated_canvas_event();\n",
       "            fig.waiting = false;\n",
       "            return;\n",
       "        }\n",
       "        else if (typeof evt.data === 'string' && evt.data.slice(0, 21) == \"data:image/png;base64\") {\n",
       "            fig.imageObj.src = evt.data;\n",
       "            fig.updated_canvas_event();\n",
       "            fig.waiting = false;\n",
       "            return;\n",
       "        }\n",
       "\n",
       "        var msg = JSON.parse(evt.data);\n",
       "        var msg_type = msg['type'];\n",
       "\n",
       "        // Call the  \"handle_{type}\" callback, which takes\n",
       "        // the figure and JSON message as its only arguments.\n",
       "        try {\n",
       "            var callback = fig[\"handle_\" + msg_type];\n",
       "        } catch (e) {\n",
       "            console.log(\"No handler for the '\" + msg_type + \"' message type: \", msg);\n",
       "            return;\n",
       "        }\n",
       "\n",
       "        if (callback) {\n",
       "            try {\n",
       "                // console.log(\"Handling '\" + msg_type + \"' message: \", msg);\n",
       "                callback(fig, msg);\n",
       "            } catch (e) {\n",
       "                console.log(\"Exception inside the 'handler_\" + msg_type + \"' callback:\", e, e.stack, msg);\n",
       "            }\n",
       "        }\n",
       "    };\n",
       "}\n",
       "\n",
       "// from http://stackoverflow.com/questions/1114465/getting-mouse-location-in-canvas\n",
       "mpl.findpos = function(e) {\n",
       "    //this section is from http://www.quirksmode.org/js/events_properties.html\n",
       "    var targ;\n",
       "    if (!e)\n",
       "        e = window.event;\n",
       "    if (e.target)\n",
       "        targ = e.target;\n",
       "    else if (e.srcElement)\n",
       "        targ = e.srcElement;\n",
       "    if (targ.nodeType == 3) // defeat Safari bug\n",
       "        targ = targ.parentNode;\n",
       "\n",
       "    // jQuery normalizes the pageX and pageY\n",
       "    // pageX,Y are the mouse positions relative to the document\n",
       "    // offset() returns the position of the element relative to the document\n",
       "    var x = e.pageX - $(targ).offset().left;\n",
       "    var y = e.pageY - $(targ).offset().top;\n",
       "\n",
       "    return {\"x\": x, \"y\": y};\n",
       "};\n",
       "\n",
       "/*\n",
       " * return a copy of an object with only non-object keys\n",
       " * we need this to avoid circular references\n",
       " * http://stackoverflow.com/a/24161582/3208463\n",
       " */\n",
       "function simpleKeys (original) {\n",
       "  return Object.keys(original).reduce(function (obj, key) {\n",
       "    if (typeof original[key] !== 'object')\n",
       "        obj[key] = original[key]\n",
       "    return obj;\n",
       "  }, {});\n",
       "}\n",
       "\n",
       "mpl.figure.prototype.mouse_event = function(event, name) {\n",
       "    var canvas_pos = mpl.findpos(event)\n",
       "\n",
       "    if (name === 'button_press')\n",
       "    {\n",
       "        this.canvas.focus();\n",
       "        this.canvas_div.focus();\n",
       "    }\n",
       "\n",
       "    var x = canvas_pos.x * mpl.ratio;\n",
       "    var y = canvas_pos.y * mpl.ratio;\n",
       "\n",
       "    this.send_message(name, {x: x, y: y, button: event.button,\n",
       "                             step: event.step,\n",
       "                             guiEvent: simpleKeys(event)});\n",
       "\n",
       "    /* This prevents the web browser from automatically changing to\n",
       "     * the text insertion cursor when the button is pressed.  We want\n",
       "     * to control all of the cursor setting manually through the\n",
       "     * 'cursor' event from matplotlib */\n",
       "    event.preventDefault();\n",
       "    return false;\n",
       "}\n",
       "\n",
       "mpl.figure.prototype._key_event_extra = function(event, name) {\n",
       "    // Handle any extra behaviour associated with a key event\n",
       "}\n",
       "\n",
       "mpl.figure.prototype.key_event = function(event, name) {\n",
       "\n",
       "    // Prevent repeat events\n",
       "    if (name == 'key_press')\n",
       "    {\n",
       "        if (event.which === this._key)\n",
       "            return;\n",
       "        else\n",
       "            this._key = event.which;\n",
       "    }\n",
       "    if (name == 'key_release')\n",
       "        this._key = null;\n",
       "\n",
       "    var value = '';\n",
       "    if (event.ctrlKey && event.which != 17)\n",
       "        value += \"ctrl+\";\n",
       "    if (event.altKey && event.which != 18)\n",
       "        value += \"alt+\";\n",
       "    if (event.shiftKey && event.which != 16)\n",
       "        value += \"shift+\";\n",
       "\n",
       "    value += 'k';\n",
       "    value += event.which.toString();\n",
       "\n",
       "    this._key_event_extra(event, name);\n",
       "\n",
       "    this.send_message(name, {key: value,\n",
       "                             guiEvent: simpleKeys(event)});\n",
       "    return false;\n",
       "}\n",
       "\n",
       "mpl.figure.prototype.toolbar_button_onclick = function(name) {\n",
       "    if (name == 'download') {\n",
       "        this.handle_save(this, null);\n",
       "    } else {\n",
       "        this.send_message(\"toolbar_button\", {name: name});\n",
       "    }\n",
       "};\n",
       "\n",
       "mpl.figure.prototype.toolbar_button_onmouseover = function(tooltip) {\n",
       "    this.message.textContent = tooltip;\n",
       "};\n",
       "mpl.toolbar_items = [[\"Home\", \"Reset original view\", \"fa fa-home icon-home\", \"home\"], [\"Back\", \"Back to previous view\", \"fa fa-arrow-left icon-arrow-left\", \"back\"], [\"Forward\", \"Forward to next view\", \"fa fa-arrow-right icon-arrow-right\", \"forward\"], [\"\", \"\", \"\", \"\"], [\"Pan\", \"Pan axes with left mouse, zoom with right\", \"fa fa-arrows icon-move\", \"pan\"], [\"Zoom\", \"Zoom to rectangle\", \"fa fa-square-o icon-check-empty\", \"zoom\"], [\"\", \"\", \"\", \"\"], [\"Download\", \"Download plot\", \"fa fa-floppy-o icon-save\", \"download\"]];\n",
       "\n",
       "mpl.extensions = [\"eps\", \"jpeg\", \"pdf\", \"png\", \"ps\", \"raw\", \"svg\", \"tif\"];\n",
       "\n",
       "mpl.default_extension = \"png\";var comm_websocket_adapter = function(comm) {\n",
       "    // Create a \"websocket\"-like object which calls the given IPython comm\n",
       "    // object with the appropriate methods. Currently this is a non binary\n",
       "    // socket, so there is still some room for performance tuning.\n",
       "    var ws = {};\n",
       "\n",
       "    ws.close = function() {\n",
       "        comm.close()\n",
       "    };\n",
       "    ws.send = function(m) {\n",
       "        //console.log('sending', m);\n",
       "        comm.send(m);\n",
       "    };\n",
       "    // Register the callback with on_msg.\n",
       "    comm.on_msg(function(msg) {\n",
       "        //console.log('receiving', msg['content']['data'], msg);\n",
       "        // Pass the mpl event to the overridden (by mpl) onmessage function.\n",
       "        ws.onmessage(msg['content']['data'])\n",
       "    });\n",
       "    return ws;\n",
       "}\n",
       "\n",
       "mpl.mpl_figure_comm = function(comm, msg) {\n",
       "    // This is the function which gets called when the mpl process\n",
       "    // starts-up an IPython Comm through the \"matplotlib\" channel.\n",
       "\n",
       "    var id = msg.content.data.id;\n",
       "    // Get hold of the div created by the display call when the Comm\n",
       "    // socket was opened in Python.\n",
       "    var element = $(\"#\" + id);\n",
       "    var ws_proxy = comm_websocket_adapter(comm)\n",
       "\n",
       "    function ondownload(figure, format) {\n",
       "        window.open(figure.imageObj.src);\n",
       "    }\n",
       "\n",
       "    var fig = new mpl.figure(id, ws_proxy,\n",
       "                           ondownload,\n",
       "                           element.get(0));\n",
       "\n",
       "    // Call onopen now - mpl needs it, as it is assuming we've passed it a real\n",
       "    // web socket which is closed, not our websocket->open comm proxy.\n",
       "    ws_proxy.onopen();\n",
       "\n",
       "    fig.parent_element = element.get(0);\n",
       "    fig.cell_info = mpl.find_output_cell(\"<div id='\" + id + \"'></div>\");\n",
       "    if (!fig.cell_info) {\n",
       "        console.error(\"Failed to find cell for figure\", id, fig);\n",
       "        return;\n",
       "    }\n",
       "\n",
       "    var output_index = fig.cell_info[2]\n",
       "    var cell = fig.cell_info[0];\n",
       "\n",
       "};\n",
       "\n",
       "mpl.figure.prototype.handle_close = function(fig, msg) {\n",
       "    var width = fig.canvas.width/mpl.ratio\n",
       "    fig.root.unbind('remove')\n",
       "\n",
       "    // Update the output cell to use the data from the current canvas.\n",
       "    fig.push_to_output();\n",
       "    var dataURL = fig.canvas.toDataURL();\n",
       "    // Re-enable the keyboard manager in IPython - without this line, in FF,\n",
       "    // the notebook keyboard shortcuts fail.\n",
       "    IPython.keyboard_manager.enable()\n",
       "    $(fig.parent_element).html('<img src=\"' + dataURL + '\" width=\"' + width + '\">');\n",
       "    fig.close_ws(fig, msg);\n",
       "}\n",
       "\n",
       "mpl.figure.prototype.close_ws = function(fig, msg){\n",
       "    fig.send_message('closing', msg);\n",
       "    // fig.ws.close()\n",
       "}\n",
       "\n",
       "mpl.figure.prototype.push_to_output = function(remove_interactive) {\n",
       "    // Turn the data on the canvas into data in the output cell.\n",
       "    var width = this.canvas.width/mpl.ratio\n",
       "    var dataURL = this.canvas.toDataURL();\n",
       "    this.cell_info[1]['text/html'] = '<img src=\"' + dataURL + '\" width=\"' + width + '\">';\n",
       "}\n",
       "\n",
       "mpl.figure.prototype.updated_canvas_event = function() {\n",
       "    // Tell IPython that the notebook contents must change.\n",
       "    IPython.notebook.set_dirty(true);\n",
       "    this.send_message(\"ack\", {});\n",
       "    var fig = this;\n",
       "    // Wait a second, then push the new image to the DOM so\n",
       "    // that it is saved nicely (might be nice to debounce this).\n",
       "    setTimeout(function () { fig.push_to_output() }, 1000);\n",
       "}\n",
       "\n",
       "mpl.figure.prototype._init_toolbar = function() {\n",
       "    var fig = this;\n",
       "\n",
       "    var nav_element = $('<div/>');\n",
       "    nav_element.attr('style', 'width: 100%');\n",
       "    this.root.append(nav_element);\n",
       "\n",
       "    // Define a callback function for later on.\n",
       "    function toolbar_event(event) {\n",
       "        return fig.toolbar_button_onclick(event['data']);\n",
       "    }\n",
       "    function toolbar_mouse_event(event) {\n",
       "        return fig.toolbar_button_onmouseover(event['data']);\n",
       "    }\n",
       "\n",
       "    for(var toolbar_ind in mpl.toolbar_items){\n",
       "        var name = mpl.toolbar_items[toolbar_ind][0];\n",
       "        var tooltip = mpl.toolbar_items[toolbar_ind][1];\n",
       "        var image = mpl.toolbar_items[toolbar_ind][2];\n",
       "        var method_name = mpl.toolbar_items[toolbar_ind][3];\n",
       "\n",
       "        if (!name) { continue; };\n",
       "\n",
       "        var button = $('<button class=\"btn btn-default\" href=\"#\" title=\"' + name + '\"><i class=\"fa ' + image + ' fa-lg\"></i></button>');\n",
       "        button.click(method_name, toolbar_event);\n",
       "        button.mouseover(tooltip, toolbar_mouse_event);\n",
       "        nav_element.append(button);\n",
       "    }\n",
       "\n",
       "    // Add the status bar.\n",
       "    var status_bar = $('<span class=\"mpl-message\" style=\"text-align:right; float: right;\"/>');\n",
       "    nav_element.append(status_bar);\n",
       "    this.message = status_bar[0];\n",
       "\n",
       "    // Add the close button to the window.\n",
       "    var buttongrp = $('<div class=\"btn-group inline pull-right\"></div>');\n",
       "    var button = $('<button class=\"btn btn-mini btn-primary\" href=\"#\" title=\"Stop Interaction\"><i class=\"fa fa-power-off icon-remove icon-large\"></i></button>');\n",
       "    button.click(function (evt) { fig.handle_close(fig, {}); } );\n",
       "    button.mouseover('Stop Interaction', toolbar_mouse_event);\n",
       "    buttongrp.append(button);\n",
       "    var titlebar = this.root.find($('.ui-dialog-titlebar'));\n",
       "    titlebar.prepend(buttongrp);\n",
       "}\n",
       "\n",
       "mpl.figure.prototype._root_extra_style = function(el){\n",
       "    var fig = this\n",
       "    el.on(\"remove\", function(){\n",
       "\tfig.close_ws(fig, {});\n",
       "    });\n",
       "}\n",
       "\n",
       "mpl.figure.prototype._canvas_extra_style = function(el){\n",
       "    // this is important to make the div 'focusable\n",
       "    el.attr('tabindex', 0)\n",
       "    // reach out to IPython and tell the keyboard manager to turn it's self\n",
       "    // off when our div gets focus\n",
       "\n",
       "    // location in version 3\n",
       "    if (IPython.notebook.keyboard_manager) {\n",
       "        IPython.notebook.keyboard_manager.register_events(el);\n",
       "    }\n",
       "    else {\n",
       "        // location in version 2\n",
       "        IPython.keyboard_manager.register_events(el);\n",
       "    }\n",
       "\n",
       "}\n",
       "\n",
       "mpl.figure.prototype._key_event_extra = function(event, name) {\n",
       "    var manager = IPython.notebook.keyboard_manager;\n",
       "    if (!manager)\n",
       "        manager = IPython.keyboard_manager;\n",
       "\n",
       "    // Check for shift+enter\n",
       "    if (event.shiftKey && event.which == 13) {\n",
       "        this.canvas_div.blur();\n",
       "        event.shiftKey = false;\n",
       "        // Send a \"J\" for go to next cell\n",
       "        event.which = 74;\n",
       "        event.keyCode = 74;\n",
       "        manager.command_mode();\n",
       "        manager.handle_keydown(event);\n",
       "    }\n",
       "}\n",
       "\n",
       "mpl.figure.prototype.handle_save = function(fig, msg) {\n",
       "    fig.ondownload(fig, null);\n",
       "}\n",
       "\n",
       "\n",
       "mpl.find_output_cell = function(html_output) {\n",
       "    // Return the cell and output element which can be found *uniquely* in the notebook.\n",
       "    // Note - this is a bit hacky, but it is done because the \"notebook_saving.Notebook\"\n",
       "    // IPython event is triggered only after the cells have been serialised, which for\n",
       "    // our purposes (turning an active figure into a static one), is too late.\n",
       "    var cells = IPython.notebook.get_cells();\n",
       "    var ncells = cells.length;\n",
       "    for (var i=0; i<ncells; i++) {\n",
       "        var cell = cells[i];\n",
       "        if (cell.cell_type === 'code'){\n",
       "            for (var j=0; j<cell.output_area.outputs.length; j++) {\n",
       "                var data = cell.output_area.outputs[j];\n",
       "                if (data.data) {\n",
       "                    // IPython >= 3 moved mimebundle to data attribute of output\n",
       "                    data = data.data;\n",
       "                }\n",
       "                if (data['text/html'] == html_output) {\n",
       "                    return [cell, data, j];\n",
       "                }\n",
       "            }\n",
       "        }\n",
       "    }\n",
       "}\n",
       "\n",
       "// Register the function which deals with the matplotlib target/channel.\n",
       "// The kernel may be null if the page has been refreshed.\n",
       "if (IPython.notebook.kernel != null) {\n",
       "    IPython.notebook.kernel.comm_manager.register_target('matplotlib', mpl.mpl_figure_comm);\n",
       "}\n"
      ],
      "text/plain": [
       "<IPython.core.display.Javascript object>"
      ]
     },
     "metadata": {},
     "output_type": "display_data"
    },
    {
     "data": {
      "text/html": [
       "<img src=\"data:image/png;base64,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\" width=\"1000\">"
      ],
      "text/plain": [
       "<IPython.core.display.HTML object>"
      ]
     },
     "metadata": {},
     "output_type": "display_data"
    }
   ],
   "source": [
    "f, ax = plt.subplots(figsize=(10,5))\n",
    "(df_obj['barrio'].value_counts().cumsum()/df_obj['barrio'].count()).plot(kind='bar', ax=ax)\n",
    "\n",
    "for tick in ax.xaxis.get_major_ticks():\n",
    "    tick.label.set_fontsize('x-small') \n",
    "ax.grid(axis='y')"
   ]
  },
  {
   "cell_type": "markdown",
   "metadata": {},
   "source": [
    "Nominal features like \"barrio\" can be transformed to a numerical varable applying ONEHOT encoding.\n",
    "<img src=\"img/one-hot-encoding.png\" />\n",
    "\n",
    "- **Apply one-hot encoding on Pareto's transformation of \"bario\" feature and add prefix='ZN_', then assign to zona variable.**\n",
    "- **Apply one-hot encoding on \"disposicion\" feature and add prefix='DISP_', then assign to zona disp.**"
   ]
  },
  {
   "cell_type": "code",
   "execution_count": null,
   "metadata": {},
   "outputs": [],
   "source": [
    "zona = pd.get_dummies(handson.pareto_rule(df_obj['barrio']), prefix='ZN_',)\n",
    "disp = pd.get_dummies(df_obj['disposicion'], prefix='DISP_')"
   ]
  },
  {
   "cell_type": "markdown",
   "metadata": {},
   "source": [
    "Finally concatenate all new features and drop redundant "
   ]
  },
  {
   "cell_type": "code",
   "execution_count": null,
   "metadata": {},
   "outputs": [],
   "source": [
    "df_num_final = pd.concat([df_num, zona, disp], axis=1)\n",
    "df_num_final.drop(columns=['distancia_al_mar', 'vista_al_mar', 'm2_del_terreno'], inplace=True)"
   ]
  },
  {
   "cell_type": "markdown",
   "metadata": {},
   "source": [
    "## Apply customs filters"
   ]
  },
  {
   "cell_type": "code",
   "execution_count": null,
   "metadata": {},
   "outputs": [],
   "source": [
    "mask = (\n",
    "    df_obj['tipo_propiedad'].isin(['apartamentos', 'casas'])\n",
    "    & (df_num_final['oficina'] != 1)\n",
    "#     & (df_num_final['penthouse'] != 1) \n",
    "    & (df_num_final['banos'].between(1, 3))\n",
    "    & (df_num_final['dormitorios'].between(0, 5))\n",
    "    & (df_num_final['garajes'].between(0, 5))\n",
    "    & (df_num_final['m2_de_la_terraza'] >= 0)\n",
    "#     & (df_num_final['m2_del_terreno'] >= 10)\n",
    "    & (df_num_final['m2_edificados'] >= 10)\n",
    "    & (df_num_final['gastos_comunes'].between(0, 50000))\n",
    "    & (df_num_final['precio'].between(0, 2e6))\n",
    "#     & (df_num_final['cantidad_de_pisos'].between(1, 30))\n",
    "#     & (df_num_final['ano_de_construccion'].between(1880, 2019))\n",
    "#     & (df_num_final['aptos_por_piso'].between(1, 20))\n",
    "\n",
    ")\n",
    "mask.sum()"
   ]
  },
  {
   "cell_type": "code",
   "execution_count": null,
   "metadata": {},
   "outputs": [],
   "source": []
  },
  {
   "cell_type": "markdown",
   "metadata": {},
   "source": [
    "## Drop no informative columns and drop missing row"
   ]
  },
  {
   "cell_type": "code",
   "execution_count": null,
   "metadata": {},
   "outputs": [],
   "source": [
    "zero_std_col = df_num_final.columns[df_num_final[mask].std() == 0]\n",
    "df_final = df_num_final[mask].drop(columns=zero_std_col).astype(float).dropna()"
   ]
  },
  {
   "cell_type": "code",
   "execution_count": null,
   "metadata": {},
   "outputs": [],
   "source": [
    "df"
   ]
  },
  {
   "cell_type": "code",
   "execution_count": null,
   "metadata": {},
   "outputs": [],
   "source": [
    "handson.info(df_final)"
   ]
  },
  {
   "cell_type": "code",
   "execution_count": null,
   "metadata": {},
   "outputs": [],
   "source": []
  },
  {
   "cell_type": "markdown",
   "metadata": {},
   "source": [
    "## Binning\n",
    "Some variable like years or ages is an example of a feature type that might benefit from transformation into a discrete variable."
   ]
  },
  {
   "cell_type": "code",
   "execution_count": null,
   "metadata": {},
   "outputs": [],
   "source": [
    "count, bins = np.histogram(df['ano_de_construccion'].fillna(1870), bins=np.arange(1870, 2020))\n"
   ]
  },
  {
   "cell_type": "code",
   "execution_count": null,
   "metadata": {},
   "outputs": [],
   "source": [
    "range_decade = np.arange(1880, 2021, 10)\n",
    "range_label = np.arange(1880, 2020, 10)\n",
    "df['year'] = pd.cut(df['ano_de_construccion'].fillna(1951), bins=range_decade, labels=range_label).astype('str')"
   ]
  },
  {
   "cell_type": "code",
   "execution_count": null,
   "metadata": {},
   "outputs": [],
   "source": [
    "f, ax = plt.subplots()\n",
    "df['ano_de_construccion'].plot.hist(bins=np.arange(1880, 2020, 10), ax=ax)"
   ]
  },
  {
   "cell_type": "code",
   "execution_count": null,
   "metadata": {},
   "outputs": [],
   "source": [
    "f, ax = plt.subplots()\n",
    "sns.boxplot(x='year', y='precio', data=df, ax=ax)"
   ]
  },
  {
   "cell_type": "markdown",
   "metadata": {},
   "source": [
    "## Save ready dataset "
   ]
  },
  {
   "cell_type": "code",
   "execution_count": null,
   "metadata": {},
   "outputs": [],
   "source": [
    "df_final.to_csv('../data/ready/dataset_houses.csv', index=False)"
   ]
  },
  {
   "cell_type": "code",
   "execution_count": null,
   "metadata": {},
   "outputs": [],
   "source": [
    "sns.heatmap(df_final.corr().iloc[:15, :15])"
   ]
  },
  {
   "cell_type": "markdown",
   "metadata": {},
   "source": [
    "## Feature Scaling\n",
    "The continuous variables in our dataset are at varying scales.\n",
    "This poses a problem for many popular machine learning algorithms which often use Euclidian distance between data points to make the final predictions. Standardising the scale for all continuous variables can often result in an increase in performance of machine learning models.    \n",
    "\n"
   ]
  },
  {
   "cell_type": "code",
   "execution_count": null,
   "metadata": {},
   "outputs": [],
   "source": [
    "from sklearn.preprocessing import MinMaxScaler\n",
    "from sklearn.preprocessing import MaxAbsScaler\n",
    "from sklearn.preprocessing import StandardScaler\n",
    "from sklearn.preprocessing import RobustScaler\n",
    "from sklearn.preprocessing import QuantileTransformer\n",
    "from sklearn.preprocessing import PowerTransformer\n",
    "from sklearn.preprocessing import Normalizer"
   ]
  },
  {
   "cell_type": "code",
   "execution_count": null,
   "metadata": {},
   "outputs": [],
   "source": [
    "# scaler = QuantileTransformer(output_distribution='normal') \n",
    "# scaler = PowerTransformer(method='yeo-johnson')\n",
    "scaler = StandardScaler()\n",
    "# scaler = MinMaxScaler()"
   ]
  },
  {
   "cell_type": "code",
   "execution_count": null,
   "metadata": {},
   "outputs": [],
   "source": []
  },
  {
   "cell_type": "code",
   "execution_count": null,
   "metadata": {},
   "outputs": [],
   "source": [
    "data_set = df_final.drop(columns=['precio'])\n",
    "target = df_final['precio']\n",
    "\n",
    "norm = pd.DataFrame(scaler.fit_transform(data_set), columns=data_set.columns)"
   ]
  },
  {
   "cell_type": "code",
   "execution_count": null,
   "metadata": {},
   "outputs": [],
   "source": [
    "data_set.hist(figsize=(10, 10));"
   ]
  },
  {
   "cell_type": "code",
   "execution_count": null,
   "metadata": {},
   "outputs": [],
   "source": [
    "norm.hist(figsize=(7,7));"
   ]
  },
  {
   "cell_type": "code",
   "execution_count": null,
   "metadata": {},
   "outputs": [],
   "source": [
    "norm.describe().transpose()"
   ]
  },
  {
   "cell_type": "markdown",
   "metadata": {},
   "source": [
    "# Why Feature Selection?\n",
    "- Overfitting\n",
    "- Occam’s Razor: \"Entities should not be multiplied without necessity.\"  William of Ockham\n",
    "- Garbage In Garbage out: Most of the times, we will have many non-informative features.\n",
    "\n",
    "Type of Feature Selection:\n",
    "\n",
    "- Filter based: We specify some metric and based on that filter features. An example of such a metric could be correlation/chi-square.\n",
    "- Wrapper-based: Wrapper methods consider the selection of a set of features as a search problem. Example: Recursive Feature Elimination\n",
    "- Embedded: Embedded methods use algorithms that have built-in feature selection methods. For instance, Lasso and RF have their own feature selection methods.\n",
    "\n"
   ]
  },
  {
   "cell_type": "code",
   "execution_count": null,
   "metadata": {},
   "outputs": [],
   "source": [
    "num_feats = 20\n",
    "feature_name = data_set.columns.to_list()\n"
   ]
  },
  {
   "cell_type": "markdown",
   "metadata": {},
   "source": [
    "## Filter based\n",
    "Pearson correlation\n",
    "We check the absolute value of the Pearson’s correlation between the target and numerical features in our dataset. We keep the top n features based on this criterion."
   ]
  },
  {
   "cell_type": "code",
   "execution_count": null,
   "metadata": {},
   "outputs": [],
   "source": [
    "corr = df_final.corr()['precio'].drop('precio')\n",
    "high_corr = np.abs(corr) > 0.5\n",
    "corr_feature = high_corr.index.tolist()\n",
    "corr_support = high_corr.to_numpy()\n"
   ]
  },
  {
   "cell_type": "markdown",
   "metadata": {},
   "source": [
    "## Recursive Feature Elimination\n"
   ]
  },
  {
   "cell_type": "code",
   "execution_count": null,
   "metadata": {},
   "outputs": [],
   "source": [
    "from sklearn.feature_selection import RFE\n",
    "from sklearn.linear_model import LinearRegression\n",
    "\n",
    "\n",
    "rfe_selector = RFE(estimator=LinearRegression(), n_features_to_select=num_feats, step=1, verbose=5, )\n",
    "rfe_selector.fit(data_set, target)\n",
    "rfe_support = rfe_selector.get_support()\n",
    "rfe_feature = data_set.loc[:,rfe_support].columns.tolist()\n",
    "print(str(len(rfe_feature)), 'selected features')"
   ]
  },
  {
   "cell_type": "markdown",
   "metadata": {},
   "source": [
    "## Embebed\n",
    "Embedded methods use algorithms that have built-in feature selection methods.\n",
    "\n",
    "### Lasso\n",
    "For example, Lasso and RF have their own feature selection methods. Lasso Regularizer forces a lot of feature weights to be zero."
   ]
  },
  {
   "cell_type": "code",
   "execution_count": null,
   "metadata": {},
   "outputs": [],
   "source": [
    "from sklearn.feature_selection import SelectFromModel\n",
    "from sklearn.linear_model import Lasso\n",
    "\n",
    "embeded_lr_selector = SelectFromModel(Lasso(), max_features=num_feats)\n",
    "embeded_lr_selector.fit(data_set, target)\n",
    "\n",
    "embeded_lr_support = embeded_lr_selector.get_support()\n",
    "embeded_lr_feature = data_set.loc[:,embeded_lr_support].columns.tolist()\n",
    "print(str(len(embeded_lr_feature)), 'selected features')"
   ]
  },
  {
   "cell_type": "code",
   "execution_count": null,
   "metadata": {},
   "outputs": [],
   "source": [
    "embeded_lr_feature"
   ]
  },
  {
   "cell_type": "markdown",
   "metadata": {},
   "source": [
    "### RandomForest\n",
    "We can also use RandomForest to select features based on feature importance."
   ]
  },
  {
   "cell_type": "code",
   "execution_count": null,
   "metadata": {},
   "outputs": [],
   "source": [
    "from sklearn.feature_selection import SelectFromModel\n",
    "from sklearn.ensemble import RandomForestRegressor\n",
    "\n",
    "embeded_rf_selector = SelectFromModel(RandomForestRegressor(n_estimators=100, max_depth=10, min_samples_leaf=10), max_features=num_feats)\n",
    "embeded_rf_selector.fit(data_set, target)\n",
    "\n",
    "embeded_rf_support = embeded_rf_selector.get_support()\n",
    "embeded_rf_feature = data_set.loc[:,embeded_rf_support].columns.tolist()\n",
    "print(str(len(embeded_rf_feature)), 'selected features')"
   ]
  },
  {
   "cell_type": "code",
   "execution_count": null,
   "metadata": {},
   "outputs": [],
   "source": [
    "from sklearn.tree import DecisionTreeRegressor\n",
    "\n",
    "embeded_rf_selector = SelectFromModel(DecisionTreeRegressor(), max_features=num_feats)\n",
    "embeded_rf_selector.fit(data_set, target)\n",
    "\n",
    "embeded_rf_support = embeded_rf_selector.get_support()\n",
    "embeded_rf_feature = data_set.loc[:,embeded_rf_support].columns.tolist()\n",
    "print(str(len(embeded_rf_feature)), 'selected features')"
   ]
  },
  {
   "cell_type": "code",
   "execution_count": null,
   "metadata": {},
   "outputs": [],
   "source": [
    "# from sklearn.feature_selection import SelectFromModel\n",
    "from lightgbm import LGBMRegressor\n",
    "\n",
    "lgbr=LGBMRegressor(n_estimators=500, learning_rate=0.05, num_leaves=32, colsample_bytree=0.2,\n",
    "            reg_alpha=3, reg_lambda=1, min_split_gain=0.01, min_child_weight=40)\n",
    "\n",
    "embeded_lgb_selector = SelectFromModel(lgbr, max_features=num_feats)\n",
    "embeded_lgb_selector.fit(data_set, target)\n",
    "\n",
    "embeded_lgb_support = embeded_lgb_selector.get_support()\n",
    "embeded_lgb_feature = data_set.loc[:,embeded_lgb_support].columns.tolist()\n",
    "print(str(len(embeded_lgb_feature)), 'selected features')"
   ]
  },
  {
   "cell_type": "code",
   "execution_count": null,
   "metadata": {},
   "outputs": [],
   "source": [
    "# put all selection together\n",
    "feature_selection_df = pd.DataFrame(\n",
    "    {\n",
    "        'Feature':feature_name, \n",
    "        'Pearson':corr_support, \n",
    "        'RFE':rfe_support, \n",
    "        'Logistics':embeded_lr_support,\n",
    "        'Random Forest':embeded_rf_support,\n",
    "        'LightGBM':embeded_lgb_support\n",
    "    })\n",
    "# count the selected times for each feature\n",
    "feature_selection_df['Total'] = np.sum(feature_selection_df, axis=1)\n",
    "# display the top 100\n",
    "feature_selection_df = feature_selection_df.sort_values(['Total','Feature'] , ascending=False)\n",
    "feature_selection_df.index = range(1, len(feature_selection_df)+1)\n",
    "feature_selection_df.head(num_feats)"
   ]
  },
  {
   "cell_type": "code",
   "execution_count": null,
   "metadata": {},
   "outputs": [],
   "source": [
    "from scipy import stats"
   ]
  },
  {
   "cell_type": "code",
   "execution_count": null,
   "metadata": {},
   "outputs": [],
   "source": [
    "stats.pointbiserialr(df_final['precio'], df_final['banos_extra'])"
   ]
  },
  {
   "cell_type": "code",
   "execution_count": null,
   "metadata": {},
   "outputs": [],
   "source": [
    "stats.pointbiserialr(df_final['precio'], df_final['banos_extra'])"
   ]
  },
  {
   "cell_type": "code",
   "execution_count": null,
   "metadata": {},
   "outputs": [],
   "source": [
    "def cramers_v(x, y):\n",
    "    \"\"\" calculate Cramers V statistic for categorial-categorial association.\n",
    "        uses correction from Bergsma and Wicher, \n",
    "        Journal of the Korean Statistical Society 42 (2013): 323-328\n",
    "    \"\"\"\n",
    "    confusion_matrix = pd.crosstab(x,y)\n",
    "    chi2 = ss.chi2_contingency(confusion_matrix)[0]\n",
    "    n = confusion_matrix.sum().sum()\n",
    "    phi2 = chi2/n\n",
    "    r,k = confusion_matrix.shape\n",
    "    phi2corr = max(0, phi2-((k-1)*(r-1))/(n-1))\n",
    "    rcorr = r-((r-1)**2)/(n-1)\n",
    "    kcorr = k-((k-1)**2)/(n-1)\n",
    "    return np.sqrt(phi2corr/min((kcorr-1),(rcorr-1)))"
   ]
  },
  {
   "cell_type": "code",
   "execution_count": null,
   "metadata": {},
   "outputs": [],
   "source": [
    "confusion_matrix = pd.crosstab(df_final['dormitorios'], df_final['banos'])\n",
    "confusion_matrix"
   ]
  },
  {
   "cell_type": "code",
   "execution_count": null,
   "metadata": {},
   "outputs": [],
   "source": [
    "cramer = cramers_corrected_stat(confusion_matrix)\n",
    "cramer"
   ]
  }
 ],
 "metadata": {
  "kernelspec": {
   "display_name": "Python 3",
   "language": "python",
   "name": "python3"
  },
  "language_info": {
   "codemirror_mode": {
    "name": "ipython",
    "version": 3
   },
   "file_extension": ".py",
   "mimetype": "text/x-python",
   "name": "python",
   "nbconvert_exporter": "python",
   "pygments_lexer": "ipython3",
   "version": "3.7.1"
  },
  "toc": {
   "base_numbering": 1,
   "nav_menu": {},
   "number_sections": true,
   "sideBar": true,
   "skip_h1_title": false,
   "title_cell": "Table of Contents",
   "title_sidebar": "Contents",
   "toc_cell": false,
   "toc_position": {
    "height": "calc(100% - 180px)",
    "left": "10px",
    "top": "150px",
    "width": "370.594px"
   },
   "toc_section_display": true,
   "toc_window_display": true
  },
  "varInspector": {
   "cols": {
    "lenName": 16,
    "lenType": 16,
    "lenVar": 40
   },
   "kernels_config": {
    "python": {
     "delete_cmd_postfix": "",
     "delete_cmd_prefix": "del ",
     "library": "var_list.py",
     "varRefreshCmd": "print(var_dic_list())"
    },
    "r": {
     "delete_cmd_postfix": ") ",
     "delete_cmd_prefix": "rm(",
     "library": "var_list.r",
     "varRefreshCmd": "cat(var_dic_list()) "
    }
   },
   "types_to_exclude": [
    "module",
    "function",
    "builtin_function_or_method",
    "instance",
    "_Feature"
   ],
   "window_display": false
  }
 },
 "nbformat": 4,
 "nbformat_minor": 2
}
