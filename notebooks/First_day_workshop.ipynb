{
 "cells": [
  {
   "cell_type": "markdown",
   "metadata": {},
   "source": [
    "# Data Science Hands-on\n",
    "\n",
    "**First day**     \n",
    "\n",
    "At the end of this day we \n",
    "- Explore our dataset\n",
    "- Make some plots to check different variables\n",
    "- Select interesting features to apply ML algorithms\n",
    "- Fill missing values\n",
    "- Transform some feature to more infomative variables\n",
    "\n",
    "[Pandas cheatsheet](https://github.com/creyesp/houses-project/blob/add-binder-configs/pandas_cheatsheet.md)\n"
   ]
  },
  {
   "cell_type": "markdown",
   "metadata": {
    "slideshow": {
     "slide_type": "slide"
    }
   },
   "source": [
    "## What are some questions that I can answer with this dataset?\n",
    "Understand your dataset is the fist step of any datascience project. You need to know the limitations and make a list of posible question that could be answering with this dataset. These question can reduce, expande or modify the scope of our project.\n",
    "\n",
    "examples: \n",
    "- We could have great ideas but poor data\n",
    "- We could have incorect question for our dataset\n",
    "- We could have a rich dataset ....\n",
    "\n",
    "**Data**: \n",
    "- We have a set of features of houses for sale in a specific time windows.  \n",
    "\n",
    "**Business question/objective**:\n",
    "- **New infocasas functionality**: Is it possible to offer an estimated price for selling given house characteristics (uploaded by owner in the webpage) without asking an appraiser? \n"
   ]
  },
  {
   "cell_type": "markdown",
   "metadata": {
    "slideshow": {
     "slide_type": "subslide"
    }
   },
   "source": [
    "# Exploratory data analysis\n",
    "- How many rows are in our dataset?\n",
    "- How many columns are in our dataset?\n",
    "- What data types are in the columns?\n",
    "- are there missing values in the dataset? Do we infer missing values? how?\n",
    "- are there outlier values? \n",
    "\n",
    "Data types:\n",
    "- **Numeric**:\n",
    "    - *Discrete*: variables that have finite posible values.\n",
    "    - *Continuous*:  variables that can have an infinite number of possible values\n",
    "- **Categorical, variables that have 2 or more possible values**:\n",
    "    - *Ordinal*: these values have a meaningful order or rank. Ex. marks, A, B, C\n",
    "    - *Nominal*: the order of those values have no meaning. Ex, names\n",
    "    - *Binary or Dichotomous*: only 2 posible values, 1/0\n",
    "- **Unstructured**:\n",
    "    - *text*"
   ]
  },
  {
   "cell_type": "code",
   "execution_count": null,
   "metadata": {
    "slideshow": {
     "slide_type": "skip"
    }
   },
   "outputs": [],
   "source": [
    "import numpy as np\n",
    "import pandas as pd\n",
    "import matplotlib.pyplot as plt\n",
    "import seaborn as sns\n",
    "\n",
    "# Custom module\n",
    "import handson\n",
    "\n",
    "%matplotlib notebook\n",
    "\n",
    "pd.options.display.float_format = '{:.2f}'.format\n",
    "pd.options.display.max_columns = None\n"
   ]
  },
  {
   "cell_type": "markdown",
   "metadata": {
    "slideshow": {
     "slide_type": "skip"
    }
   },
   "source": [
    "## Load dataset\n"
   ]
  },
  {
   "cell_type": "code",
   "execution_count": null,
   "metadata": {
    "slideshow": {
     "slide_type": "slide"
    }
   },
   "outputs": [],
   "source": [
    "path_file = '../data/preprocessed/dataset.csv'\n",
    "\n",
    "# Read csv file and assign to df variable\n",
    "df = pd.read_csv(path_file)\n"
   ]
  },
  {
   "cell_type": "markdown",
   "metadata": {},
   "source": [
    "## General information about our dataset"
   ]
  },
  {
   "cell_type": "code",
   "execution_count": null,
   "metadata": {},
   "outputs": [],
   "source": [
    "# Check the neme of columns (features)\n"
   ]
  },
  {
   "cell_type": "code",
   "execution_count": null,
   "metadata": {},
   "outputs": [],
   "source": [
    "# Look at the first 5 row of our dataset\n"
   ]
  },
  {
   "cell_type": "code",
   "execution_count": null,
   "metadata": {},
   "outputs": [],
   "source": [
    "# Get number of rows and columns\n"
   ]
  },
  {
   "cell_type": "code",
   "execution_count": null,
   "metadata": {},
   "outputs": [],
   "source": [
    "# Get data types of columns\n"
   ]
  },
  {
   "cell_type": "code",
   "execution_count": null,
   "metadata": {},
   "outputs": [],
   "source": [
    "# Check if there are missing values in each columns\n"
   ]
  },
  {
   "cell_type": "code",
   "execution_count": null,
   "metadata": {},
   "outputs": [],
   "source": [
    "# Get percentage of missing values from each columns\n"
   ]
  },
  {
   "cell_type": "code",
   "execution_count": null,
   "metadata": {},
   "outputs": [],
   "source": [
    "# Get number of unique values for each feature\n"
   ]
  },
  {
   "cell_type": "code",
   "execution_count": 49,
   "metadata": {},
   "outputs": [],
   "source": [
    "# Get 10 largest values of some feature\n"
   ]
  },
  {
   "cell_type": "markdown",
   "metadata": {},
   "source": [
    "## Statistic resume\n",
    "### Numeric variables\n",
    "Look at statistic info for each columns and check which columns has unusual behavior. \n",
    "- Are all positive values?\n",
    "- is standard deviation different to zero?\n",
    "- How long is percetil 75 from max?"
   ]
  },
  {
   "cell_type": "code",
   "execution_count": null,
   "metadata": {},
   "outputs": [],
   "source": [
    "# Get a resume of numerical columns from our dataset\n"
   ]
  },
  {
   "cell_type": "code",
   "execution_count": null,
   "metadata": {},
   "outputs": [],
   "source": [
    "# Get percentile 5 and 95\n"
   ]
  },
  {
   "cell_type": "markdown",
   "metadata": {},
   "source": [
    "### Categeries resume"
   ]
  },
  {
   "cell_type": "code",
   "execution_count": null,
   "metadata": {},
   "outputs": [],
   "source": [
    "# Get a resume of no numerical columns from our dataset. \n",
    "# Hint: use include='O' as argument in resume function\n",
    "\n"
   ]
  },
  {
   "cell_type": "markdown",
   "metadata": {},
   "source": [
    "\n",
    "## Visualization\n",
    "[Seaborn](https://seaborn.pydata.org/) is a very useful package to make EDA (built on [Matplotlib](https://matplotlib.org/)), it's a statistical data visualization package and it's easy to create univarible and bivarible plots.\n",
    "<img src=\"img/seaborn.png\" />\n",
    "\n",
    "### Univarible plots\n",
    "- Distribution\n",
    "- Histograms\n",
    "- Boxplots\n"
   ]
  },
  {
   "cell_type": "code",
   "execution_count": null,
   "metadata": {},
   "outputs": [],
   "source": [
    "# Plot price distribution\n",
    "f, ax = plt.subplots()\n",
    "\n"
   ]
  },
  {
   "cell_type": "code",
   "execution_count": null,
   "metadata": {
    "scrolled": false
   },
   "outputs": [],
   "source": [
    "# Plot boxplots of price grop by some categorical feature \n",
    "# ex. estado, barrio, banos, dormitorios, tipo_propiedad\n",
    "\n",
    "f, ax = plt.subplots(figsize=(5, 5))\n"
   ]
  },
  {
   "cell_type": "code",
   "execution_count": null,
   "metadata": {},
   "outputs": [],
   "source": [
    "f, ax = plt.subplots(figsize=(10, 5))\n"
   ]
  },
  {
   "cell_type": "code",
   "execution_count": null,
   "metadata": {},
   "outputs": [],
   "source": [
    "# Plot histogram of barrio feature\n",
    "f, ax = plt.subplots()\n"
   ]
  },
  {
   "cell_type": "code",
   "execution_count": null,
   "metadata": {},
   "outputs": [],
   "source": [
    "# Make a histogram of \"ano_de_construccion\" between 1880 and 2019, in bins of 10 years\n"
   ]
  },
  {
   "cell_type": "markdown",
   "metadata": {},
   "source": [
    "### bivarible plots\n",
    "- Scatter\n",
    "- Pairplot"
   ]
  },
  {
   "cell_type": "code",
   "execution_count": null,
   "metadata": {},
   "outputs": [],
   "source": [
    "# make scatter plot, ex ano_de_construccion an precio, or gastos_comunes vs precio\n",
    "f, ax = plt.subplots()\n"
   ]
  },
  {
   "cell_type": "code",
   "execution_count": null,
   "metadata": {
    "scrolled": true
   },
   "outputs": [],
   "source": [
    "# Make a relplot using for exmaple m2_edificados, precio, banos, dormitorios\n"
   ]
  },
  {
   "cell_type": "code",
   "execution_count": null,
   "metadata": {},
   "outputs": [],
   "source": [
    "# Select continious feature and make a pairplot\n",
    "features = [\n",
    "]\n",
    "\n"
   ]
  },
  {
   "cell_type": "code",
   "execution_count": null,
   "metadata": {},
   "outputs": [],
   "source": [
    "# Select continious feature, compute correlations between them and make a heatmap\n",
    "\n",
    "features = [\n",
    "\n",
    "]\n",
    "\n",
    "f, ax = plt.subplots(figsize=(10, 8))\n"
   ]
  },
  {
   "cell_type": "markdown",
   "metadata": {},
   "source": [
    "# Data prepratation\n",
    "\n",
    "**\"The quality and quantity of data that you gather will directly determine how good your predictive model can be.\"**\n",
    "\n",
    "- Select relevant features\n",
    "- Clean and Missing values imputetion\n",
    "\n",
    "\n",
    "\n",
    "\n",
    "<table>\n",
    "  <tr>\n",
    "    <th>Feature selection</th>\n",
    "    <th>Filling missing values</th>\n",
    "  </tr>\n",
    "  <tr>\n",
    "    <th><img src=\"http://dkopczyk.quantee.co.uk/wp-content/uploads/2018/10/feat_sel-600x265.png\" /></th>\n",
    "    <th><img src=\"https://i.stack.imgur.com/E4mhD.png\" /></th>\n",
    "</table>\n"
   ]
  },
  {
   "cell_type": "markdown",
   "metadata": {},
   "source": [
    "## Select feature for analysis\n",
    "Check dataset [documentation](https://github.com/creyesp/houses-project/blob/add-binder-configs/data/dataset_description.md) to choice the most interesting feature to answer our questions."
   ]
  },
  {
   "cell_type": "code",
   "execution_count": null,
   "metadata": {},
   "outputs": [],
   "source": [
    "columns_to_analyze = [\n",
    "    'ano_de_construccion', \n",
    "    'banos',\n",
    "    'banos_extra',\n",
    "    'descripcion',\n",
    "    'disposicion',\n",
    "    'distancia_al_mar',\n",
    "    'dormitorios',\n",
    "    'dormitorios_extra',\n",
    "    'estado',\n",
    "    'extra',\n",
    "    'garajes',\n",
    "    'garajes_extra',\n",
    "    'gastos_comunes',\n",
    "    'tipo_de_publicacion',\n",
    "    'm2_de_la_terraza',\n",
    "    'm2_del_terreno',\n",
    "    'm2_edificados',\n",
    "    'oficina',\n",
    "    'penthouse',\n",
    "    'plantas',\n",
    "    'plantas_extra',\n",
    "    'precio',\n",
    "    'sobre',\n",
    "    'tipo_propiedad',\n",
    "    'vista_al_mar',\n",
    "    'vivienda_social',\n",
    "    'barrio', \n",
    "]"
   ]
  },
  {
   "cell_type": "markdown",
   "metadata": {},
   "source": [
    "## Split dataset in numerical and string variables\n",
    "Pandas has a method to split dataset group by dtypes:\n",
    "- **'object'**: To select strings you must use the object dtype\n",
    "- **'number'**: To select all numeric types\n",
    "- **'category'**: To select Pandas categorical dtypes\n",
    "- **'datetime'**: To select datetimes\n",
    "- **'timedelta'**: To select timedeltas"
   ]
  },
  {
   "cell_type": "code",
   "execution_count": null,
   "metadata": {},
   "outputs": [],
   "source": [
    "df_num = df[columns_to_analyze].select_dtypes(include='number')\n",
    "df_obj = df[columns_to_analyze].select_dtypes(include='object')\n",
    "\n",
    "print('Numerical columns: {}\\n'.format(df_num.columns.tolist()))\n",
    "print('Caterorial columns: {}'.format(df_obj.columns.tolist()))"
   ]
  },
  {
   "cell_type": "markdown",
   "metadata": {},
   "source": [
    "## Missing values imputation\n",
    "Some features have only 1 valid value and the rest of the values are Nan (Not a number), ex. \"oficina\" column. In this case we can infer that missing value is the opossite value. \n",
    "- **Look at what feature we can replace Nan values with 0**.\n",
    "\n",
    "There are other features that nan values should be replacing with a especifi value, ex. \"plantas\", if a house or apartment hasn't a valid value then default value should be 1.\n",
    "- **Look at what feature we can replace Nan values with especific values**."
   ]
  },
  {
   "cell_type": "code",
   "execution_count": null,
   "metadata": {},
   "outputs": [],
   "source": [
    "# Fill missing values with zero\n",
    "fill_zero_col = [\n",
    "]\n",
    "# df_num.loc[:, fill_zero_col] = \n",
    "\n",
    "# Fill missing values with 1\n"
   ]
  },
  {
   "cell_type": "markdown",
   "metadata": {},
   "source": [
    "We can infer some values of a column from other column, for example we can fill nan values in \"m2_del_terreno\" from \"m2_edificados\".\n",
    "- **Select nan values from  \"m2_del_terreno\" and fill it with \"m2_edificados\".**"
   ]
  },
  {
   "cell_type": "code",
   "execution_count": null,
   "metadata": {},
   "outputs": [],
   "source": [
    "# Fill missing value usings other columns\n"
   ]
  },
  {
   "cell_type": "markdown",
   "metadata": {},
   "source": [
    "Also we can use some statistic metrics to fill missing values, like mean, median, mode, etc.\n",
    "- **Compute the median of \"m2_edificados\" and fill nan values with this result.**"
   ]
  },
  {
   "cell_type": "code",
   "execution_count": null,
   "metadata": {},
   "outputs": [],
   "source": [
    "# df_num['m2_edificados'].fillna(df_num['m2_edificados'].median(), inplace=True)\n"
   ]
  },
  {
   "cell_type": "markdown",
   "metadata": {},
   "source": [
    "For categorical feature we can add a new category to fill missing values\n",
    "- **Replace nan values with a defaul category for following feature:**\n",
    "    - \"barrio\"\n",
    "    - \"disposicion\"\n",
    "    - \"tipo_propiedad\""
   ]
  },
  {
   "cell_type": "code",
   "execution_count": null,
   "metadata": {},
   "outputs": [],
   "source": [
    "# Fill missing categories\n"
   ]
  },
  {
   "cell_type": "markdown",
   "metadata": {},
   "source": [
    " ## Feature transformation\n",
    " "
   ]
  },
  {
   "cell_type": "markdown",
   "metadata": {},
   "source": [
    "We can create new features applying some functions or filters to transform them and get a more informative features. Apply the following transformation:\n",
    "- **Create a binary feature called \"cerca_rambla\" which is 1 when \"distancia_al_mar\" < 1000 or \"vista_al_mar\" is 1, in other case set it to 0.**\n",
    "- **Create a feature called \"m2_index\" which is the ratio between \"m2_edificados\" and \"m2_del_terreno\"**\n",
    "- **Create a binary feature called \"es_casa\" which is 1 if \"tipo_propiedad\" == 'casas' and 0 is \"tipo_propiedad\" == 'apartamentos'.**\n",
    "- **Create a binary feature called \"parrilero\" if \"extra\" feature contain 'parrillero'**"
   ]
  },
  {
   "cell_type": "code",
   "execution_count": null,
   "metadata": {},
   "outputs": [],
   "source": [
    "df_num['cerca_rambla'] = \n",
    "\n",
    "df_num['m2_index'] =\n",
    "\n",
    "df_num['es_casa'] = \n",
    "\n",
    "df_num['parrilero'] = df_obj['extra'].str.contains('parrillero').fillna(False)\n"
   ]
  },
  {
   "cell_type": "markdown",
   "metadata": {},
   "source": [
    "### Binning\n",
    "Some variable like years or ages is an example of a feature type that might benefit from transformation into a discrete variable.\n",
    "\n",
    "- **Create a new variable called decada that transform \"ano_de_cosntruccion\" to \"decada\". Use pd.cut()**"
   ]
  },
  {
   "cell_type": "code",
   "execution_count": null,
   "metadata": {},
   "outputs": [],
   "source": [
    "range_decade = np.arange(1880, 2021, 10)\n",
    "range_label = np.arange(1880, 2020, 10)\n",
    "year = df['ano_de_construccion'].copy()\n",
    "year[year < 1880] = 1880\n",
    "year[year > 2019] = 2019\n",
    "year.fillna(1951, inplace=True)\n",
    "\n",
    "df_num['decada'] = \n"
   ]
  },
  {
   "cell_type": "markdown",
   "metadata": {},
   "source": [
    "Some categorical features are ordinal, then we can map them to a numerical values in a especific order\n",
    "- **Create a dictionary with all posible values of \"estado\" feature and assigne a numerical value, where min value is the worse status and the max value is the best status of properties. Then map these values to a \"estado\" feature.**"
   ]
  },
  {
   "cell_type": "code",
   "execution_count": null,
   "metadata": {},
   "outputs": [],
   "source": [
    "# Categorical transformation\n",
    "map_status = {\n",
    "}\n",
    "df_num['estado'] = \n"
   ]
  },
  {
   "cell_type": "markdown",
   "metadata": {},
   "source": [
    "One useful transformation is [80/20 rule or Pareto Rule](https://en.wikipedia.org/wiki/Pareto_principle), it's say that  for many events, roughly 80% of the effects come from 20% of the causes. In our case \"barrio\" feature has a similar behaviour.  \n",
    "<img src=\"https://www.dansilvestre.com/wp-content/uploads/2017/12/DanSilvestre.com_-1.png\" width=\"50%\"/>"
   ]
  },
  {
   "cell_type": "code",
   "execution_count": null,
   "metadata": {},
   "outputs": [],
   "source": [
    "f, ax = plt.subplots(figsize=(10,5))\n",
    "(df_obj['barrio'].value_counts().cumsum()/df_obj['barrio'].count()).plot(kind='bar', ax=ax)\n",
    "\n",
    "for tick in ax.xaxis.get_major_ticks():\n",
    "    tick.label.set_fontsize('x-small') \n",
    "ax.grid(axis='y')"
   ]
  },
  {
   "cell_type": "markdown",
   "metadata": {},
   "source": [
    "Nominal features like \"barrio\" can be transformed to a numerical varable applying **ONE-HOT encoding**.\n",
    "<img src=\"img/one-hot-encoding.png\" />\n",
    "\n",
    "- **Apply one-hot encoding on Pareto's transformation of \"bario\" feature and add prefix='ZN_', then assign to zona variable.**\n",
    "- **Apply one-hot encoding on \"disposicion\" feature and add prefix='DISP_', then assign to zona disp.**"
   ]
  },
  {
   "cell_type": "code",
   "execution_count": null,
   "metadata": {},
   "outputs": [],
   "source": []
  },
  {
   "cell_type": "markdown",
   "metadata": {},
   "source": [
    "Finally concatenate all new features and drop redundant "
   ]
  },
  {
   "cell_type": "code",
   "execution_count": null,
   "metadata": {},
   "outputs": [],
   "source": [
    "df_num_final = pd.concat([df_num, zona, disp], axis=1)\n",
    "drop_col = ['distancia_al_mar', 'vista_al_mar', 'm2_del_terreno', 'ano_de_construccion']\n",
    "df_num_final.drop(columns=drop_col, inplace=True)"
   ]
  },
  {
   "cell_type": "markdown",
   "metadata": {},
   "source": [
    "## Apply customs filters\n",
    "- **Get percentile 5 and 95 or 1 and 99 and create a set of filter to get a clean dataset.**"
   ]
  },
  {
   "cell_type": "code",
   "execution_count": 50,
   "metadata": {},
   "outputs": [
    {
     "data": {
      "text/html": [
       "<div>\n",
       "<style scoped>\n",
       "    .dataframe tbody tr th:only-of-type {\n",
       "        vertical-align: middle;\n",
       "    }\n",
       "\n",
       "    .dataframe tbody tr th {\n",
       "        vertical-align: top;\n",
       "    }\n",
       "\n",
       "    .dataframe thead th {\n",
       "        text-align: right;\n",
       "    }\n",
       "</style>\n",
       "<table border=\"1\" class=\"dataframe\">\n",
       "  <thead>\n",
       "    <tr style=\"text-align: right;\">\n",
       "      <th></th>\n",
       "      <th>banos</th>\n",
       "      <th>banos_extra</th>\n",
       "      <th>dormitorios</th>\n",
       "      <th>dormitorios_extra</th>\n",
       "      <th>garajes</th>\n",
       "      <th>garajes_extra</th>\n",
       "      <th>gastos_comunes</th>\n",
       "      <th>m2_de_la_terraza</th>\n",
       "      <th>m2_edificados</th>\n",
       "      <th>oficina</th>\n",
       "      <th>penthouse</th>\n",
       "      <th>plantas</th>\n",
       "      <th>plantas_extra</th>\n",
       "      <th>precio</th>\n",
       "      <th>vivienda_social</th>\n",
       "      <th>cerca_rambla</th>\n",
       "      <th>m2_index</th>\n",
       "      <th>es_casa</th>\n",
       "      <th>parrilero</th>\n",
       "      <th>decada</th>\n",
       "      <th>estado</th>\n",
       "      <th>ZN__aguada</th>\n",
       "      <th>ZN__buceo</th>\n",
       "      <th>ZN__carrasco</th>\n",
       "      <th>ZN__centro</th>\n",
       "      <th>ZN__ciudad vieja</th>\n",
       "      <th>ZN__cordon</th>\n",
       "      <th>ZN__la blanqueada</th>\n",
       "      <th>ZN__malvin</th>\n",
       "      <th>ZN__otros</th>\n",
       "      <th>ZN__palermo</th>\n",
       "      <th>ZN__parque batlle</th>\n",
       "      <th>ZN__parque rodo</th>\n",
       "      <th>ZN__pocitos</th>\n",
       "      <th>ZN__pocitos nuevo</th>\n",
       "      <th>ZN__prado</th>\n",
       "      <th>ZN__punta carretas</th>\n",
       "      <th>ZN__punta gorda</th>\n",
       "      <th>ZN__tres cruces</th>\n",
       "      <th>DISP__al frente</th>\n",
       "      <th>DISP__contrafrente</th>\n",
       "      <th>DISP__interior</th>\n",
       "      <th>DISP__lateral</th>\n",
       "      <th>DISP__otro</th>\n",
       "    </tr>\n",
       "  </thead>\n",
       "  <tbody>\n",
       "    <tr>\n",
       "      <th>0.05</th>\n",
       "      <td>1.00</td>\n",
       "      <td>0.00</td>\n",
       "      <td>0.00</td>\n",
       "      <td>0.00</td>\n",
       "      <td>0.00</td>\n",
       "      <td>0.00</td>\n",
       "      <td>0.00</td>\n",
       "      <td>0.00</td>\n",
       "      <td>33.00</td>\n",
       "      <td>0.00</td>\n",
       "      <td>0.00</td>\n",
       "      <td>1.00</td>\n",
       "      <td>0.00</td>\n",
       "      <td>76000.00</td>\n",
       "      <td>0.00</td>\n",
       "      <td>0.00</td>\n",
       "      <td>0.35</td>\n",
       "      <td>0.00</td>\n",
       "      <td>0.00</td>\n",
       "      <td>1940.00</td>\n",
       "      <td>1.00</td>\n",
       "      <td>0.00</td>\n",
       "      <td>0.00</td>\n",
       "      <td>0.00</td>\n",
       "      <td>0.00</td>\n",
       "      <td>0.00</td>\n",
       "      <td>0.00</td>\n",
       "      <td>0.00</td>\n",
       "      <td>0.00</td>\n",
       "      <td>0.00</td>\n",
       "      <td>0.00</td>\n",
       "      <td>0.00</td>\n",
       "      <td>0.00</td>\n",
       "      <td>0.00</td>\n",
       "      <td>0.00</td>\n",
       "      <td>0.00</td>\n",
       "      <td>0.00</td>\n",
       "      <td>0.00</td>\n",
       "      <td>0.00</td>\n",
       "      <td>0.00</td>\n",
       "      <td>0.00</td>\n",
       "      <td>0.00</td>\n",
       "      <td>0.00</td>\n",
       "      <td>0.00</td>\n",
       "    </tr>\n",
       "    <tr>\n",
       "      <th>0.95</th>\n",
       "      <td>3.00</td>\n",
       "      <td>1.00</td>\n",
       "      <td>4.00</td>\n",
       "      <td>0.00</td>\n",
       "      <td>2.00</td>\n",
       "      <td>0.00</td>\n",
       "      <td>16500.00</td>\n",
       "      <td>40.00</td>\n",
       "      <td>323.00</td>\n",
       "      <td>1.00</td>\n",
       "      <td>0.00</td>\n",
       "      <td>3.00</td>\n",
       "      <td>1.00</td>\n",
       "      <td>760000.00</td>\n",
       "      <td>1.00</td>\n",
       "      <td>1.00</td>\n",
       "      <td>1.48</td>\n",
       "      <td>1.00</td>\n",
       "      <td>1.00</td>\n",
       "      <td>2010.00</td>\n",
       "      <td>3.00</td>\n",
       "      <td>0.00</td>\n",
       "      <td>0.00</td>\n",
       "      <td>1.00</td>\n",
       "      <td>1.00</td>\n",
       "      <td>0.00</td>\n",
       "      <td>1.00</td>\n",
       "      <td>0.00</td>\n",
       "      <td>1.00</td>\n",
       "      <td>1.00</td>\n",
       "      <td>0.00</td>\n",
       "      <td>0.00</td>\n",
       "      <td>0.00</td>\n",
       "      <td>1.00</td>\n",
       "      <td>0.00</td>\n",
       "      <td>0.00</td>\n",
       "      <td>1.00</td>\n",
       "      <td>0.00</td>\n",
       "      <td>0.00</td>\n",
       "      <td>1.00</td>\n",
       "      <td>1.00</td>\n",
       "      <td>0.00</td>\n",
       "      <td>0.00</td>\n",
       "      <td>1.00</td>\n",
       "    </tr>\n",
       "  </tbody>\n",
       "</table>\n",
       "</div>"
      ],
      "text/plain": [
       "      banos  banos_extra  dormitorios  dormitorios_extra  garajes  \\\n",
       "0.05   1.00         0.00         0.00               0.00     0.00   \n",
       "0.95   3.00         1.00         4.00               0.00     2.00   \n",
       "\n",
       "      garajes_extra  gastos_comunes  m2_de_la_terraza  m2_edificados  oficina  \\\n",
       "0.05           0.00            0.00              0.00          33.00     0.00   \n",
       "0.95           0.00        16500.00             40.00         323.00     1.00   \n",
       "\n",
       "      penthouse  plantas  plantas_extra    precio  vivienda_social  \\\n",
       "0.05       0.00     1.00           0.00  76000.00             0.00   \n",
       "0.95       0.00     3.00           1.00 760000.00             1.00   \n",
       "\n",
       "      cerca_rambla  m2_index  es_casa  parrilero  decada  estado  ZN__aguada  \\\n",
       "0.05          0.00      0.35     0.00       0.00 1940.00    1.00        0.00   \n",
       "0.95          1.00      1.48     1.00       1.00 2010.00    3.00        0.00   \n",
       "\n",
       "      ZN__buceo  ZN__carrasco  ZN__centro  ZN__ciudad vieja  ZN__cordon  \\\n",
       "0.05       0.00          0.00        0.00              0.00        0.00   \n",
       "0.95       0.00          1.00        1.00              0.00        1.00   \n",
       "\n",
       "      ZN__la blanqueada  ZN__malvin  ZN__otros  ZN__palermo  \\\n",
       "0.05               0.00        0.00       0.00         0.00   \n",
       "0.95               0.00        1.00       1.00         0.00   \n",
       "\n",
       "      ZN__parque batlle  ZN__parque rodo  ZN__pocitos  ZN__pocitos nuevo  \\\n",
       "0.05               0.00             0.00         0.00               0.00   \n",
       "0.95               0.00             0.00         1.00               0.00   \n",
       "\n",
       "      ZN__prado  ZN__punta carretas  ZN__punta gorda  ZN__tres cruces  \\\n",
       "0.05       0.00                0.00             0.00             0.00   \n",
       "0.95       0.00                1.00             0.00             0.00   \n",
       "\n",
       "      DISP__al frente  DISP__contrafrente  DISP__interior  DISP__lateral  \\\n",
       "0.05             0.00                0.00            0.00           0.00   \n",
       "0.95             1.00                1.00            0.00           0.00   \n",
       "\n",
       "      DISP__otro  \n",
       "0.05        0.00  \n",
       "0.95        1.00  "
      ]
     },
     "execution_count": 50,
     "metadata": {},
     "output_type": "execute_result"
    }
   ],
   "source": [
    "df_num_final.quantile([0.05, 0.95])"
   ]
  },
  {
   "cell_type": "markdown",
   "metadata": {},
   "source": [
    "- Create a filter for following features:\n",
    "  - tipo_propiedad\n",
    "  - decada\n",
    "  - oficina\n",
    "  - penthouse\n",
    "  - banos\n",
    "  - dormitorios\n",
    "  - garajes\n",
    "  - m2_de_la_terraza\n",
    "  - m2_edificados\n",
    "  - gastos_comunes\n",
    "  - precio\n",
    "  - m2_index"
   ]
  },
  {
   "cell_type": "code",
   "execution_count": null,
   "metadata": {},
   "outputs": [],
   "source": [
    "mask = (\n",
    "    (df_num_final.fillna(0) >= 0).all(axis=1)\n",
    ")\n",
    "mask.sum()"
   ]
  },
  {
   "cell_type": "markdown",
   "metadata": {},
   "source": [
    "## Drop no informative columns and drop missing row"
   ]
  },
  {
   "cell_type": "code",
   "execution_count": null,
   "metadata": {},
   "outputs": [],
   "source": [
    "zero_std_col = df_num_final.columns[df_num_final[mask].std() == 0]\n",
    "df_final = df_num_final[mask].drop(columns=zero_std_col).astype(float).dropna()\n"
   ]
  },
  {
   "cell_type": "code",
   "execution_count": null,
   "metadata": {},
   "outputs": [],
   "source": [
    "handson.info(df_final)"
   ]
  },
  {
   "cell_type": "code",
   "execution_count": null,
   "metadata": {},
   "outputs": [],
   "source": [
    "df_final.describe()"
   ]
  },
  {
   "cell_type": "markdown",
   "metadata": {},
   "source": [
    "## Save ready dataset "
   ]
  },
  {
   "cell_type": "code",
   "execution_count": null,
   "metadata": {},
   "outputs": [],
   "source": [
    "df_final.to_csv('../data/ready/dataset_houses.csv', index=False)"
   ]
  }
 ],
 "metadata": {
  "kernelspec": {
   "display_name": "Python 3",
   "language": "python",
   "name": "python3"
  },
  "language_info": {
   "codemirror_mode": {
    "name": "ipython",
    "version": 3
   },
   "file_extension": ".py",
   "mimetype": "text/x-python",
   "name": "python",
   "nbconvert_exporter": "python",
   "pygments_lexer": "ipython3",
   "version": "3.7.1"
  },
  "toc": {
   "base_numbering": 1,
   "nav_menu": {},
   "number_sections": true,
   "sideBar": true,
   "skip_h1_title": false,
   "title_cell": "Table of Contents",
   "title_sidebar": "Contents",
   "toc_cell": false,
   "toc_position": {
    "height": "calc(100% - 180px)",
    "left": "10px",
    "top": "150px",
    "width": "370.594px"
   },
   "toc_section_display": true,
   "toc_window_display": true
  },
  "varInspector": {
   "cols": {
    "lenName": 16,
    "lenType": 16,
    "lenVar": 40
   },
   "kernels_config": {
    "python": {
     "delete_cmd_postfix": "",
     "delete_cmd_prefix": "del ",
     "library": "var_list.py",
     "varRefreshCmd": "print(var_dic_list())"
    },
    "r": {
     "delete_cmd_postfix": ") ",
     "delete_cmd_prefix": "rm(",
     "library": "var_list.r",
     "varRefreshCmd": "cat(var_dic_list()) "
    }
   },
   "types_to_exclude": [
    "module",
    "function",
    "builtin_function_or_method",
    "instance",
    "_Feature"
   ],
   "window_display": false
  }
 },
 "nbformat": 4,
 "nbformat_minor": 2
}
