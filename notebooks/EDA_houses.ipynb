{
 "cells": [
  {
   "cell_type": "code",
   "execution_count": null,
   "metadata": {},
   "outputs": [],
   "source": [
    "# !cat /proc/cpuinfo\n",
    "# !grep -c processor /proc/cpuinfo\n",
    "# !free -h"
   ]
  },
  {
   "cell_type": "code",
   "execution_count": null,
   "metadata": {},
   "outputs": [],
   "source": [
    "import pandas as pd\n",
    "import seaborn as sns\n",
    "import hvplot.pandas\n",
    "import pandas_profiling\n",
    "%matplotlib notebook"
   ]
  },
  {
   "cell_type": "code",
   "execution_count": null,
   "metadata": {},
   "outputs": [],
   "source": [
    "dataset = pd.read_csv('../data/preprocessed/dataset.csv')"
   ]
  },
  {
   "cell_type": "code",
   "execution_count": null,
   "metadata": {},
   "outputs": [],
   "source": [
    "nunique = dataset.nunique()\n",
    "dataset = dataset[nunique[nunique != 0].index]"
   ]
  },
  {
   "cell_type": "code",
   "execution_count": null,
   "metadata": {},
   "outputs": [],
   "source": [
    "dataset.drop_duplicates(inplace=True)\n",
    "mask_type = dataset['tipo_propiedad'].isin(\n",
    "    [\n",
    "#         'Casas',\n",
    "        'Apartamentos',\n",
    "    ]\n",
    ")\n",
    "mask_office = ~dataset['oficina'].fillna(0).astype(bool)\n",
    "dataset = dataset[mask_type & mask_office]\n",
    "dataset = dataset.drop(columns=['tipo_propiedad', 'oficina'])\n"
   ]
  },
  {
   "cell_type": "code",
   "execution_count": null,
   "metadata": {},
   "outputs": [],
   "source": [
    "dataset[['acepta_permuta', 'ambientes_extra',\n",
    "         \n",
    "         'ambientes',\n",
    "        'ano_de_construccion', 'aptos_por_piso', 'banos',\n",
    "       'banos_extra', 'cantidad_de_pisos', 'casco', 'description', 'direccion',\n",
    "       'disposicion', 'distancia_al_mar', 'dormitorios', 'dormitorios_extra',\n",
    "       'estado', 'extra', 'financia', 'garajes', 'garajes_extra',\n",
    "       'gastos_comunes', 'hectareas', 'kind', 'longitud_frente',\n",
    "       'm2_de_la_terraza', 'm2_del_terreno', 'm2_edificados', 'penthouse',\n",
    "       'piso', 'plantas', 'plantas_extra', 'price', 'referencia', 'sobre',\n",
    "       'title', 'uri', 'vista_al_mar', 'vivienda_social', 'zona']]"
   ]
  },
  {
   "cell_type": "code",
   "execution_count": null,
   "metadata": {},
   "outputs": [],
   "source": [
    "dataset[dataset['ambientes'].isna()]"
   ]
  },
  {
   "cell_type": "code",
   "execution_count": null,
   "metadata": {},
   "outputs": [],
   "source": [
    "columns_model = ['acepta_permuta', 'ano_de_construccion', 'aptos_por_piso', 'banos',\n",
    " 'banos_extra', 'cantidad_de_pisos', 'disposicion', 'distancia_al_mar',\n",
    " 'dormitorios', 'dormitorios_extra', 'estado', 'financia', 'garajes', 'garajes_extra',\n",
    " 'gastos_comunes', 'longitud_frente', 'm2_de_la_terraza', 'm2_del_terreno',\n",
    " 'm2_edificados', 'penthouse', 'piso', 'plantas', 'plantas_extra',\n",
    " 'price', 'sobre', 'vista_al_mar', 'vivienda_social', 'zona', 'uri']\n",
    "columns_strs = ['description', 'direccion', 'extra', 'referencia', 'title']"
   ]
  },
  {
   "cell_type": "code",
   "execution_count": null,
   "metadata": {},
   "outputs": [],
   "source": [
    "dataset[columns_model]"
   ]
  },
  {
   "cell_type": "code",
   "execution_count": null,
   "metadata": {},
   "outputs": [],
   "source": []
  },
  {
   "cell_type": "code",
   "execution_count": null,
   "metadata": {},
   "outputs": [],
   "source": [
    "# dataset.hvplot.hist(y='m2_edificados', bins=range(0, 1000, 20), xlim=(0, 1000), groupby='zona') \n",
    "\n",
    "dataset.hvplot.hist(y='price', bins=range(0, 400000, 20000), xlim=(0, 400000), groupby='disposicion')"
   ]
  },
  {
   "cell_type": "code",
   "execution_count": null,
   "metadata": {},
   "outputs": [],
   "source": [
    "hover_col = [\n",
    "    'rooms',\n",
    "    'bathrooms',\n",
    "    'area_m2',\n",
    "    'price',\n",
    "    'uris',\n",
    "    'id',]"
   ]
  },
  {
   "cell_type": "code",
   "execution_count": null,
   "metadata": {},
   "outputs": [],
   "source": []
  },
  {
   "cell_type": "code",
   "execution_count": null,
   "metadata": {},
   "outputs": [],
   "source": [
    "dataset.hvplot(x='m2_edificados', y='price', by='dormitorios',\n",
    "               kind='scatter', xlim=(0, 500), ylim=(0, 1000000),\n",
    "               groupby=['zona',],\n",
    "#                hover_cols=hover_col,\n",
    "              )"
   ]
  },
  {
   "cell_type": "code",
   "execution_count": null,
   "metadata": {
    "scrolled": true
   },
   "outputs": [],
   "source": [
    "report = pandas_profiling.ProfileReport(dataset)\n",
    "report.to_file('../report/dataset/report_apartments.html')"
   ]
  }
 ],
 "metadata": {
  "hide_input": false,
  "kernelspec": {
   "display_name": "Python 3",
   "language": "python",
   "name": "python3"
  },
  "language_info": {
   "codemirror_mode": {
    "name": "ipython",
    "version": 3
   },
   "file_extension": ".py",
   "mimetype": "text/x-python",
   "name": "python",
   "nbconvert_exporter": "python",
   "pygments_lexer": "ipython3",
   "version": "3.7.1"
  },
  "toc": {
   "base_numbering": 1,
   "nav_menu": {},
   "number_sections": true,
   "sideBar": true,
   "skip_h1_title": false,
   "title_cell": "Table of Contents",
   "title_sidebar": "Contents",
   "toc_cell": false,
   "toc_position": {},
   "toc_section_display": true,
   "toc_window_display": false
  },
  "varInspector": {
   "cols": {
    "lenName": 16,
    "lenType": 16,
    "lenVar": 40
   },
   "kernels_config": {
    "python": {
     "delete_cmd_postfix": "",
     "delete_cmd_prefix": "del ",
     "library": "var_list.py",
     "varRefreshCmd": "print(var_dic_list())"
    },
    "r": {
     "delete_cmd_postfix": ") ",
     "delete_cmd_prefix": "rm(",
     "library": "var_list.r",
     "varRefreshCmd": "cat(var_dic_list()) "
    }
   },
   "types_to_exclude": [
    "module",
    "function",
    "builtin_function_or_method",
    "instance",
    "_Feature"
   ],
   "window_display": false
  }
 },
 "nbformat": 4,
 "nbformat_minor": 2
}
